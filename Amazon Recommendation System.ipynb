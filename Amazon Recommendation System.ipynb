{
 "cells": [
  {
   "cell_type": "code",
   "execution_count": 2,
   "metadata": {},
   "outputs": [],
   "source": [
    "import numpy as np \n",
    "import pandas as pd \n",
    "import seaborn as sns\n",
    "import matplotlib.pyplot as plt"
   ]
  },
  {
   "cell_type": "code",
   "execution_count": 3,
   "metadata": {},
   "outputs": [
    {
     "name": "stdout",
     "output_type": "stream",
     "text": [
      "Requirement already satisfied: simplejson in c:\\users\\daiyaan\\anaconda3\\lib\\site-packages (3.17.6)\n",
      "Note: you may need to restart the kernel to use updated packages.\n"
     ]
    }
   ],
   "source": [
    "pip install simplejson"
   ]
  },
  {
   "cell_type": "code",
   "execution_count": 4,
   "metadata": {},
   "outputs": [],
   "source": [
    "import gzip     #compress the file\n",
    "import simplejson   #json files functions"
   ]
  },
  {
   "cell_type": "code",
   "execution_count": 5,
   "metadata": {},
   "outputs": [],
   "source": [
    "def parse(filename):\n",
    "    f = gzip.open(filename, 'r')\n",
    "    entry = {}\n",
    "    for l in f:\n",
    "        l = l.strip()\n",
    "        l = l.decode()\n",
    "        colonPos = l.find(':')\n",
    "        if colonPos == -1:\n",
    "            yield entry\n",
    "            entry = {}\n",
    "            continue\n",
    "        eName = l[:colonPos]\n",
    "        rest = l[colonPos+2:]\n",
    "        entry[eName] = rest\n",
    "    yield entry\n",
    "def getDF(path):\n",
    "    i = 0\n",
    "    df = {}\n",
    "    for d in parse(path):\n",
    "        df[i] = d\n",
    "        i += 1\n",
    "    return pd.DataFrame.from_dict(df, orient='index')"
   ]
  },
  {
   "cell_type": "markdown",
   "metadata": {},
   "source": [
    "Online E-commerce websites like Amazon, Flipkart uses different recommendation models to provide different suggestions to different users. Amazon currently uses item-to-item collaborative filtering, which scales to massive data sets and produces high-quality recommendations in real-time.\n",
    "\n",
    "Dataset:<br>\n",
    "- In our recommendation model, we use Electronics, Shoes, Cellphones, Sports and Watches Dataset\n",
    "\n",
    "Objective of the project:<br>\n",
    "- Build a recommendation system to recommend products to customers based on the their previous ratings for other products.\n",
    "- Make a Collaborative filtering model that recommends top 10 products for each user\n",
    "- Make Popularity based recommender provide a general count of recommended products to all the users. They are not sensitive to the interests and tastes of a particular user."
   ]
  },
  {
   "cell_type": "markdown",
   "metadata": {},
   "source": [
    "- product/productId: it gives the productid of the product in each category\n",
    "- product/title: this attribute gives the title of the product in the category\n",
    "- product/price: gives the price of the product \n",
    "- review/userId: the userid of the user who bought the corresponding product\n",
    "- review/profileName: profile name of the user account\n",
    "- review/helpfulness: people's rating if the product was useful in the proportion\n",
    "- review/score: rating given by the user to the corresponding product\n",
    "- review/time: The time when the user gave the review to the product bought\n",
    "- review/summary: just a summary of the product\n",
    "- review/text: the whole text given by the user to the corresponding produc"
   ]
  },
  {
   "cell_type": "markdown",
   "metadata": {},
   "source": [
    "## Electronics Dataset"
   ]
  },
  {
   "cell_type": "code",
   "execution_count": 6,
   "metadata": {
    "scrolled": true
   },
   "outputs": [
    {
     "data": {
      "text/html": [
       "<div>\n",
       "<style scoped>\n",
       "    .dataframe tbody tr th:only-of-type {\n",
       "        vertical-align: middle;\n",
       "    }\n",
       "\n",
       "    .dataframe tbody tr th {\n",
       "        vertical-align: top;\n",
       "    }\n",
       "\n",
       "    .dataframe thead th {\n",
       "        text-align: right;\n",
       "    }\n",
       "</style>\n",
       "<table border=\"1\" class=\"dataframe\">\n",
       "  <thead>\n",
       "    <tr style=\"text-align: right;\">\n",
       "      <th></th>\n",
       "      <th>product/productId</th>\n",
       "      <th>product/title</th>\n",
       "      <th>product/price</th>\n",
       "      <th>review/userId</th>\n",
       "      <th>review/profileName</th>\n",
       "      <th>review/helpfulness</th>\n",
       "      <th>review/score</th>\n",
       "      <th>review/time</th>\n",
       "      <th>review/summary</th>\n",
       "      <th>review/text</th>\n",
       "    </tr>\n",
       "  </thead>\n",
       "  <tbody>\n",
       "    <tr>\n",
       "      <th>0</th>\n",
       "      <td>B0000630MQ</td>\n",
       "      <td>Kodak Max K2000 Battery Charger with 4 NiMH AA...</td>\n",
       "      <td>unknown</td>\n",
       "      <td>A2F6FARSB1VL6Q</td>\n",
       "      <td>\"frumpy16\"</td>\n",
       "      <td>2/2</td>\n",
       "      <td>5.0</td>\n",
       "      <td>1072915200</td>\n",
       "      <td>Great charger</td>\n",
       "      <td>I recently bought this charger kit from Amazon...</td>\n",
       "    </tr>\n",
       "    <tr>\n",
       "      <th>1</th>\n",
       "      <td>B0000630MQ</td>\n",
       "      <td>Kodak Max K2000 Battery Charger with 4 NiMH AA...</td>\n",
       "      <td>unknown</td>\n",
       "      <td>unknown</td>\n",
       "      <td>unknown</td>\n",
       "      <td>2/2</td>\n",
       "      <td>5.0</td>\n",
       "      <td>1058745600</td>\n",
       "      <td>Super product! I'm very happy.</td>\n",
       "      <td>The batteries are excellent (1850's), and the ...</td>\n",
       "    </tr>\n",
       "    <tr>\n",
       "      <th>2</th>\n",
       "      <td>B0000630MQ</td>\n",
       "      <td>Kodak Max K2000 Battery Charger with 4 NiMH AA...</td>\n",
       "      <td>unknown</td>\n",
       "      <td>A3P56Q3XEGTBNY</td>\n",
       "      <td>Yisheng Zhang</td>\n",
       "      <td>1/1</td>\n",
       "      <td>2.0</td>\n",
       "      <td>1127088000</td>\n",
       "      <td>Problem with charging smaller AAAs</td>\n",
       "      <td>I have had the charger for more than two years...</td>\n",
       "    </tr>\n",
       "    <tr>\n",
       "      <th>3</th>\n",
       "      <td>B0000630MQ</td>\n",
       "      <td>Kodak Max K2000 Battery Charger with 4 NiMH AA...</td>\n",
       "      <td>unknown</td>\n",
       "      <td>unknown</td>\n",
       "      <td>unknown</td>\n",
       "      <td>3/4</td>\n",
       "      <td>5.0</td>\n",
       "      <td>1068768000</td>\n",
       "      <td>CHECK OUT THE K6000 CHARGER!</td>\n",
       "      <td>Greetings. Kodak also has a K6000 charger whic...</td>\n",
       "    </tr>\n",
       "    <tr>\n",
       "      <th>4</th>\n",
       "      <td>B0000630MQ</td>\n",
       "      <td>Kodak Max K2000 Battery Charger with 4 NiMH AA...</td>\n",
       "      <td>unknown</td>\n",
       "      <td>AZIM9ZTGB8Q12</td>\n",
       "      <td>G. Evans</td>\n",
       "      <td>0/0</td>\n",
       "      <td>5.0</td>\n",
       "      <td>1274313600</td>\n",
       "      <td>Finally a Great recharger with batteries!</td>\n",
       "      <td>I have used and recharged my batteries nearly ...</td>\n",
       "    </tr>\n",
       "  </tbody>\n",
       "</table>\n",
       "</div>"
      ],
      "text/plain": [
       "  product/productId                                      product/title  \\\n",
       "0        B0000630MQ  Kodak Max K2000 Battery Charger with 4 NiMH AA...   \n",
       "1        B0000630MQ  Kodak Max K2000 Battery Charger with 4 NiMH AA...   \n",
       "2        B0000630MQ  Kodak Max K2000 Battery Charger with 4 NiMH AA...   \n",
       "3        B0000630MQ  Kodak Max K2000 Battery Charger with 4 NiMH AA...   \n",
       "4        B0000630MQ  Kodak Max K2000 Battery Charger with 4 NiMH AA...   \n",
       "\n",
       "  product/price   review/userId review/profileName review/helpfulness  \\\n",
       "0       unknown  A2F6FARSB1VL6Q         \"frumpy16\"                2/2   \n",
       "1       unknown         unknown            unknown                2/2   \n",
       "2       unknown  A3P56Q3XEGTBNY      Yisheng Zhang                1/1   \n",
       "3       unknown         unknown            unknown                3/4   \n",
       "4       unknown   AZIM9ZTGB8Q12           G. Evans                0/0   \n",
       "\n",
       "  review/score review/time                             review/summary  \\\n",
       "0          5.0  1072915200                              Great charger   \n",
       "1          5.0  1058745600             Super product! I'm very happy.   \n",
       "2          2.0  1127088000         Problem with charging smaller AAAs   \n",
       "3          5.0  1068768000               CHECK OUT THE K6000 CHARGER!   \n",
       "4          5.0  1274313600  Finally a Great recharger with batteries!   \n",
       "\n",
       "                                         review/text  \n",
       "0  I recently bought this charger kit from Amazon...  \n",
       "1  The batteries are excellent (1850's), and the ...  \n",
       "2  I have had the charger for more than two years...  \n",
       "3  Greetings. Kodak also has a K6000 charger whic...  \n",
       "4  I have used and recharged my batteries nearly ...  "
      ]
     },
     "execution_count": 6,
     "metadata": {},
     "output_type": "execute_result"
    }
   ],
   "source": [
    "elec = getDF('Electronics.txt.gz')\n",
    "elec.head()"
   ]
  },
  {
   "cell_type": "code",
   "execution_count": 7,
   "metadata": {},
   "outputs": [
    {
     "data": {
      "text/plain": [
       "(1241778, 10)"
      ]
     },
     "execution_count": 7,
     "metadata": {},
     "output_type": "execute_result"
    }
   ],
   "source": [
    "elec.shape"
   ]
  },
  {
   "cell_type": "code",
   "execution_count": 8,
   "metadata": {
    "scrolled": true
   },
   "outputs": [
    {
     "data": {
      "text/html": [
       "<div>\n",
       "<style scoped>\n",
       "    .dataframe tbody tr th:only-of-type {\n",
       "        vertical-align: middle;\n",
       "    }\n",
       "\n",
       "    .dataframe tbody tr th {\n",
       "        vertical-align: top;\n",
       "    }\n",
       "\n",
       "    .dataframe thead th {\n",
       "        text-align: right;\n",
       "    }\n",
       "</style>\n",
       "<table border=\"1\" class=\"dataframe\">\n",
       "  <thead>\n",
       "    <tr style=\"text-align: right;\">\n",
       "      <th></th>\n",
       "      <th>product/productId</th>\n",
       "      <th>product/title</th>\n",
       "      <th>product/price</th>\n",
       "      <th>review/userId</th>\n",
       "      <th>review/profileName</th>\n",
       "      <th>review/helpfulness</th>\n",
       "      <th>review/score</th>\n",
       "      <th>review/time</th>\n",
       "      <th>review/summary</th>\n",
       "      <th>review/text</th>\n",
       "    </tr>\n",
       "  </thead>\n",
       "  <tbody>\n",
       "    <tr>\n",
       "      <th>count</th>\n",
       "      <td>1241778</td>\n",
       "      <td>1241778</td>\n",
       "      <td>1241778</td>\n",
       "      <td>1241778</td>\n",
       "      <td>1241778</td>\n",
       "      <td>1241778</td>\n",
       "      <td>1241778</td>\n",
       "      <td>1241778</td>\n",
       "      <td>1241778</td>\n",
       "      <td>1241778</td>\n",
       "    </tr>\n",
       "    <tr>\n",
       "      <th>unique</th>\n",
       "      <td>82067</td>\n",
       "      <td>80818</td>\n",
       "      <td>7614</td>\n",
       "      <td>811034</td>\n",
       "      <td>678486</td>\n",
       "      <td>6528</td>\n",
       "      <td>5</td>\n",
       "      <td>5152</td>\n",
       "      <td>823750</td>\n",
       "      <td>1170440</td>\n",
       "    </tr>\n",
       "    <tr>\n",
       "      <th>top</th>\n",
       "      <td>B0002L5R78</td>\n",
       "      <td>DVI Gear HDMI Cable 2M 6 feet</td>\n",
       "      <td>unknown</td>\n",
       "      <td>unknown</td>\n",
       "      <td>unknown</td>\n",
       "      <td>0/0</td>\n",
       "      <td>5.0</td>\n",
       "      <td>1168300800</td>\n",
       "      <td>Great Product</td>\n",
       "      <td>Needed to attach a few more devices thru an 8-...</td>\n",
       "    </tr>\n",
       "    <tr>\n",
       "      <th>freq</th>\n",
       "      <td>7588</td>\n",
       "      <td>7588</td>\n",
       "      <td>643429</td>\n",
       "      <td>52227</td>\n",
       "      <td>52229</td>\n",
       "      <td>474738</td>\n",
       "      <td>641214</td>\n",
       "      <td>6810</td>\n",
       "      <td>3723</td>\n",
       "      <td>289</td>\n",
       "    </tr>\n",
       "  </tbody>\n",
       "</table>\n",
       "</div>"
      ],
      "text/plain": [
       "       product/productId                  product/title product/price  \\\n",
       "count            1241778                        1241778       1241778   \n",
       "unique             82067                          80818          7614   \n",
       "top           B0002L5R78  DVI Gear HDMI Cable 2M 6 feet       unknown   \n",
       "freq                7588                           7588        643429   \n",
       "\n",
       "       review/userId review/profileName review/helpfulness review/score  \\\n",
       "count        1241778            1241778            1241778      1241778   \n",
       "unique        811034             678486               6528            5   \n",
       "top          unknown            unknown                0/0          5.0   \n",
       "freq           52227              52229             474738       641214   \n",
       "\n",
       "       review/time review/summary  \\\n",
       "count      1241778        1241778   \n",
       "unique        5152         823750   \n",
       "top     1168300800  Great Product   \n",
       "freq          6810           3723   \n",
       "\n",
       "                                              review/text  \n",
       "count                                             1241778  \n",
       "unique                                            1170440  \n",
       "top     Needed to attach a few more devices thru an 8-...  \n",
       "freq                                                  289  "
      ]
     },
     "execution_count": 8,
     "metadata": {},
     "output_type": "execute_result"
    }
   ],
   "source": [
    "elec.describe()"
   ]
  },
  {
   "cell_type": "code",
   "execution_count": 9,
   "metadata": {},
   "outputs": [
    {
     "data": {
      "text/plain": [
       "product/productId     object\n",
       "product/title         object\n",
       "product/price         object\n",
       "review/userId         object\n",
       "review/profileName    object\n",
       "review/helpfulness    object\n",
       "review/score          object\n",
       "review/time           object\n",
       "review/summary        object\n",
       "review/text           object\n",
       "dtype: object"
      ]
     },
     "execution_count": 9,
     "metadata": {},
     "output_type": "execute_result"
    }
   ],
   "source": [
    "elec.dtypes"
   ]
  },
  {
   "cell_type": "code",
   "execution_count": 10,
   "metadata": {},
   "outputs": [
    {
     "data": {
      "text/plain": [
       "product/productId     False\n",
       "product/title         False\n",
       "product/price         False\n",
       "review/userId         False\n",
       "review/profileName    False\n",
       "review/helpfulness    False\n",
       "review/score          False\n",
       "review/time           False\n",
       "review/summary        False\n",
       "review/text           False\n",
       "dtype: bool"
      ]
     },
     "execution_count": 10,
     "metadata": {},
     "output_type": "execute_result"
    }
   ],
   "source": [
    "elec.isnull().any()"
   ]
  },
  {
   "cell_type": "code",
   "execution_count": 11,
   "metadata": {},
   "outputs": [
    {
     "data": {
      "text/plain": [
       "product/productId     0\n",
       "product/title         0\n",
       "product/price         0\n",
       "review/userId         0\n",
       "review/profileName    0\n",
       "review/helpfulness    0\n",
       "review/score          0\n",
       "review/time           0\n",
       "review/summary        0\n",
       "review/text           0\n",
       "dtype: int64"
      ]
     },
     "execution_count": 11,
     "metadata": {},
     "output_type": "execute_result"
    }
   ],
   "source": [
    "elec.isnull().sum()"
   ]
  },
  {
   "cell_type": "code",
   "execution_count": 12,
   "metadata": {},
   "outputs": [],
   "source": [
    "elec.drop_duplicates(keep=False,inplace=True)"
   ]
  },
  {
   "cell_type": "code",
   "execution_count": 13,
   "metadata": {},
   "outputs": [
    {
     "data": {
      "text/plain": [
       "(1239319, 10)"
      ]
     },
     "execution_count": 13,
     "metadata": {},
     "output_type": "execute_result"
    }
   ],
   "source": [
    "elec.shape"
   ]
  },
  {
   "cell_type": "code",
   "execution_count": 14,
   "metadata": {},
   "outputs": [],
   "source": [
    "# lets make a copy of the data so that all the transformation is done on the copy and not on the main dataset\n",
    "t1data=elec.copy()"
   ]
  },
  {
   "cell_type": "code",
   "execution_count": 15,
   "metadata": {},
   "outputs": [
    {
     "data": {
      "text/plain": [
       "array(['1.0', '2.0', '3.0', '4.0', '5.0'], dtype=object)"
      ]
     },
     "execution_count": 15,
     "metadata": {},
     "output_type": "execute_result"
    }
   ],
   "source": [
    "np.sort(t1data['review/score'].unique())\n",
    "# ie, The ratings are in range of 1-5"
   ]
  },
  {
   "cell_type": "code",
   "execution_count": 16,
   "metadata": {},
   "outputs": [],
   "source": [
    "t1data=t1data[t1data['product/price'] !='unknown']"
   ]
  },
  {
   "cell_type": "code",
   "execution_count": 17,
   "metadata": {},
   "outputs": [
    {
     "data": {
      "text/plain": [
       "3.98      7689\n",
       "9.99      7200\n",
       "19.99     6838\n",
       "18.95     6426\n",
       "39.99     6396\n",
       "          ... \n",
       "161.77       1\n",
       "95.81        1\n",
       "103.27       1\n",
       "65.41        1\n",
       "91.24        1\n",
       "Name: product/price, Length: 7613, dtype: int64"
      ]
     },
     "execution_count": 17,
     "metadata": {},
     "output_type": "execute_result"
    }
   ],
   "source": [
    "t1data['product/price'] = pd.to_numeric(t1data['product/price'])\n",
    "t1data['product/price'].value_counts()"
   ]
  },
  {
   "cell_type": "code",
   "execution_count": 18,
   "metadata": {},
   "outputs": [],
   "source": [
    "t1data=t1data[t1data['review/userId'] !='unknown']"
   ]
  },
  {
   "cell_type": "code",
   "execution_count": 19,
   "metadata": {},
   "outputs": [
    {
     "data": {
      "text/plain": [
       "ARBKYIVNYWK3C     174\n",
       "A5JLAU2ARJ0BO     104\n",
       "A3OXHLG6DIBRW8    102\n",
       "A203OCQQ12MAVT     97\n",
       "A6FIAB28IS79       92\n",
       "                 ... \n",
       "ACKDGXC6LI5S4       1\n",
       "APB2HPNA48ND7       1\n",
       "AE37UDJGDOVOI       1\n",
       "A1PUWEBCSVMCNN      1\n",
       "A47U21IEIJNM2       1\n",
       "Name: review/userId, Length: 449515, dtype: int64"
      ]
     },
     "execution_count": 19,
     "metadata": {},
     "output_type": "execute_result"
    }
   ],
   "source": [
    "t1data['review/userId'].value_counts()"
   ]
  },
  {
   "cell_type": "code",
   "execution_count": 20,
   "metadata": {},
   "outputs": [
    {
     "data": {
      "text/plain": [
       "5.0    327064\n",
       "4.0    111695\n",
       "1.0     71952\n",
       "3.0     45060\n",
       "2.0     33352\n",
       "Name: review/score, dtype: int64"
      ]
     },
     "execution_count": 20,
     "metadata": {},
     "output_type": "execute_result"
    }
   ],
   "source": [
    "t1data['review/score'] = pd.to_numeric(t1data['review/score'])\n",
    "t1data['review/score'].value_counts()"
   ]
  },
  {
   "cell_type": "code",
   "execution_count": 21,
   "metadata": {},
   "outputs": [],
   "source": [
    "contractions={\n",
    "    \"ain't\": \"are not\",\n",
    "    \"aren't\": \"are not\",\n",
    "    \"can't\": \"cannot\",\n",
    "    \"can't've\": \"cannot have\",\n",
    "    \"'cause\": \"because\",\n",
    "    \"could've\": \"could have\",\n",
    "    \"couldn't\": \"could not\",\n",
    "    \"couldn't've\": \"could not have\",\n",
    "    \"didn't\": \"did not\",\n",
    "    \"doesn't\": \"does not\",\n",
    "    \"don't\": \"do not\",\n",
    "    \"hadn't\": \"had not\",\n",
    "    \"hadn't've\": \"had not have\",\n",
    "    \"hasn't\": \"has not\",\n",
    "    \"haven't\": \"have not\",\n",
    "    \"he'd\": \"he would\",\n",
    "    \"he'd've\": \"he would have\",\n",
    "    \"he'll\": \"he will\",\n",
    "    \"he'll've\": \"he will have\",\n",
    "    \"he's\": \"he is\",\n",
    "    \"how'd\": \"how did\",\n",
    "    \"how're\": \"how are\",\n",
    "    \"how'd'y\": \"how do you\",\n",
    "    \"how'll\": \"how will\",\n",
    "    \"how's\": \"how is\",\n",
    "    \"I'd\": \"I would\",\n",
    "    \"I'd've\": \"I would have\",\n",
    "    \"I'll\": \"I will\",\n",
    "    \"I'll've\": \"I will have\",\n",
    "    \"I'm\": \"I am\",\n",
    "    \"I've\": \"I have\",\n",
    "    \"isn't\": \"is not\",\n",
    "    \"it'd\": \"it would\",\n",
    "    \"it'd've\": \"it would have\",\n",
    "    \"it'll\": \"it will\",\n",
    "    \"it'll've\": \"it will have\",\n",
    "    \"it's\": \"it is\",\n",
    "    \"let's\": \"let us\",\n",
    "    \"ma'am\": \"madam\",\n",
    "    \"mayn't\": \"may not\",\n",
    "    \"might've\": \"might have\",\n",
    "    \"mightn't\": \"might not\",\n",
    "    \"mightn't've\": \"might not have\",\n",
    "    \"must've\": \"must have\",\n",
    "    \"mustn't\": \"must not\",\n",
    "    \"mustn't've\": \"must not have\",\n",
    "    \"needn't\": \"need not\",\n",
    "    \"needn't've\": \"need not have\",\n",
    "    \"o'clock\": \"of the clock\",\n",
    "    \"oughtn't\": \"ought not\",\n",
    "    \"oughtn't've\": \"ought not have\",\n",
    "    \"shan't\": \"shall not\",\n",
    "    \"sha'n't\": \"shall not\",\n",
    "    \"shan't've\": \"shall not have\",\n",
    "    \"she'd\": \"she would\",\n",
    "    \"she'd've\": \"she would have\",\n",
    "    \"she'll\": \"she will\",\n",
    "    \"she'll've\": \"she will have\",\n",
    "    \"she's\": \"she is\",\n",
    "    \"should've\": \"should have\",\n",
    "    \"shouldn't\": \"should not\",\n",
    "    \"shouldn't've\": \"should not have\",\n",
    "    \"so've\": \"so have\",\n",
    "    \"so's\": \"so is\",\n",
    "    \"that'd\": \"that would\",\n",
    "    \"that'd've\": \"that would have\",\n",
    "    \"that's\": \"that is\",\n",
    "    \"there'd\": \"there would\",\n",
    "    \"there'd've\": \"there would have\",\n",
    "    \"there's\": \"there is\",\n",
    "    \"they'd\": \"they would\",\n",
    "    \"they'd've\": \"they would have\",\n",
    "    \"they'll\": \"they will\",\n",
    "    \"they'll've\": \"they will have\",\n",
    "    \"they're\": \"they are\",\n",
    "    \"they've\": \"they have\",\n",
    "    \"to've\": \"to have\",\n",
    "    \"wasn't\": \"was not\",\n",
    "    \"we'd\": \"we would\",\n",
    "    \"we'd've\": \"we would have\",\n",
    "    \"we'll\": \"we will\",\n",
    "    \"we'll've\": \"we will have\",\n",
    "    \"we're\": \"we are\",\n",
    "    \"we've\": \"we have\",\n",
    "    \"weren't\": \"were not\",\n",
    "    \"what'll\": \"what will\",\n",
    "    \"what'll've\": \"what will have\",\n",
    "    \"what're\": \"what are\",\n",
    "    \"what's\": \"what is\",\n",
    "    \"what've\": \"what have\",\n",
    "    \"when's\": \"when is\",\n",
    "    \"when've\": \"when have\",\n",
    "    \"where'd\": \"where did\",\n",
    "    \"where's\": \"where is\",\n",
    "    \"where've\": \"where have\",\n",
    "    \"who'll\": \"who will\",\n",
    "    \"who'll've\": \"who will have\",\n",
    "    \"who's\": \"who is\",\n",
    "    \"who've\": \"who have\",\n",
    "    \"why's\": \"why is\",\n",
    "    \"why've\": \"why have\",\n",
    "    \"will've\": \"will have\",\n",
    "    \"won't\": \"will not\",\n",
    "    \"won't've\": \"will not have\",\n",
    "    \"would've\": \"would have\",\n",
    "    \"wouldn't\": \"would not\",\n",
    "    \"wouldn't've\": \"would not have\",\n",
    "    \"y'all\": \"you all\",\n",
    "    \"y'all'd\": \"you all would\",\n",
    "    \"y'all'd've\": \"you all would have\",\n",
    "    \"y'all're\": \"you all are\",\n",
    "    \"y'all've\": \"you all have\",\n",
    "    \"you'd\": \"you would\",\n",
    "    \"you'd've\": \"you would have\",\n",
    "    \"you'll\": \"you will\",\n",
    "    \"you'll've\": \"you shall have\",\n",
    "    \"you're\": \"you are\",\n",
    "    \"you've\": \"you have\",\n",
    "    \"doin'\": \"doing\",\n",
    "    \"goin'\": \"going\",\n",
    "    \"nothin'\": \"nothing\",\n",
    "    \"somethin'\": \"something\",\n",
    "}"
   ]
  },
  {
   "cell_type": "code",
   "execution_count": 22,
   "metadata": {},
   "outputs": [],
   "source": [
    "def cont_to_exp(x):\n",
    "    if type(x) is str:\n",
    "        x = x.replace('\\\\','')\n",
    "        for key in contractions:\n",
    "            value = contractions[key]\n",
    "            x = x.replace(key, value)\n",
    "        return x\n",
    "    else:\n",
    "        return x"
   ]
  },
  {
   "cell_type": "code",
   "execution_count": 23,
   "metadata": {
    "scrolled": true
   },
   "outputs": [
    {
     "data": {
      "text/html": [
       "<div>\n",
       "<style scoped>\n",
       "    .dataframe tbody tr th:only-of-type {\n",
       "        vertical-align: middle;\n",
       "    }\n",
       "\n",
       "    .dataframe tbody tr th {\n",
       "        vertical-align: top;\n",
       "    }\n",
       "\n",
       "    .dataframe thead th {\n",
       "        text-align: right;\n",
       "    }\n",
       "</style>\n",
       "<table border=\"1\" class=\"dataframe\">\n",
       "  <thead>\n",
       "    <tr style=\"text-align: right;\">\n",
       "      <th></th>\n",
       "      <th>product/productId</th>\n",
       "      <th>product/title</th>\n",
       "      <th>product/price</th>\n",
       "      <th>review/userId</th>\n",
       "      <th>review/profileName</th>\n",
       "      <th>review/helpfulness</th>\n",
       "      <th>review/score</th>\n",
       "      <th>review/time</th>\n",
       "      <th>review/summary</th>\n",
       "      <th>review/text</th>\n",
       "    </tr>\n",
       "  </thead>\n",
       "  <tbody>\n",
       "    <tr>\n",
       "      <th>85</th>\n",
       "      <td>B000P9JTW6</td>\n",
       "      <td>Gomadic Compact Retractable USB Charge and Dat...</td>\n",
       "      <td>17.69</td>\n",
       "      <td>A2T7YFEAI0X74W</td>\n",
       "      <td>Thomas O. Fort</td>\n",
       "      <td>0/0</td>\n",
       "      <td>4.0</td>\n",
       "      <td>1245974400</td>\n",
       "      <td>nifty</td>\n",
       "      <td>It is very convenient to have the charging cab...</td>\n",
       "    </tr>\n",
       "    <tr>\n",
       "      <th>86</th>\n",
       "      <td>B0000DFZ2U</td>\n",
       "      <td>APC P1T 120V Portable Surge Protector</td>\n",
       "      <td>13.89</td>\n",
       "      <td>A1Y8DLP78Z778V</td>\n",
       "      <td>Michael</td>\n",
       "      <td>1/1</td>\n",
       "      <td>5.0</td>\n",
       "      <td>1287273600</td>\n",
       "      <td>APC P1T 120V Portable Surge Protector</td>\n",
       "      <td>Perfect carry-along for my notebook PC. Useful...</td>\n",
       "    </tr>\n",
       "    <tr>\n",
       "      <th>87</th>\n",
       "      <td>B0000DFZ2U</td>\n",
       "      <td>APC P1T 120V Portable Surge Protector</td>\n",
       "      <td>13.89</td>\n",
       "      <td>AAF3I3SZ6CXGY</td>\n",
       "      <td>Ross Knight \"Subvet\"</td>\n",
       "      <td>0/0</td>\n",
       "      <td>5.0</td>\n",
       "      <td>1360108800</td>\n",
       "      <td>Insurance policy!</td>\n",
       "      <td>This protector is an excellent value. Rated ve...</td>\n",
       "    </tr>\n",
       "    <tr>\n",
       "      <th>88</th>\n",
       "      <td>B0000DFZ2U</td>\n",
       "      <td>APC P1T 120V Portable Surge Protector</td>\n",
       "      <td>13.89</td>\n",
       "      <td>ARA1MZKJQLXGE</td>\n",
       "      <td>Kevin</td>\n",
       "      <td>0/0</td>\n",
       "      <td>5.0</td>\n",
       "      <td>1359244800</td>\n",
       "      <td>Works great for appliances</td>\n",
       "      <td>I bought one of these to protect my washing ma...</td>\n",
       "    </tr>\n",
       "    <tr>\n",
       "      <th>89</th>\n",
       "      <td>B0000DFZ2U</td>\n",
       "      <td>APC P1T 120V Portable Surge Protector</td>\n",
       "      <td>13.89</td>\n",
       "      <td>A2P9Q94AA63517</td>\n",
       "      <td>Bruce E Harrison</td>\n",
       "      <td>0/0</td>\n",
       "      <td>5.0</td>\n",
       "      <td>1355270400</td>\n",
       "      <td>Single Surge Protector</td>\n",
       "      <td>Just right for travel for my computer and it i...</td>\n",
       "    </tr>\n",
       "  </tbody>\n",
       "</table>\n",
       "</div>"
      ],
      "text/plain": [
       "   product/productId                                      product/title  \\\n",
       "85        B000P9JTW6  Gomadic Compact Retractable USB Charge and Dat...   \n",
       "86        B0000DFZ2U              APC P1T 120V Portable Surge Protector   \n",
       "87        B0000DFZ2U              APC P1T 120V Portable Surge Protector   \n",
       "88        B0000DFZ2U              APC P1T 120V Portable Surge Protector   \n",
       "89        B0000DFZ2U              APC P1T 120V Portable Surge Protector   \n",
       "\n",
       "    product/price   review/userId    review/profileName review/helpfulness  \\\n",
       "85          17.69  A2T7YFEAI0X74W        Thomas O. Fort                0/0   \n",
       "86          13.89  A1Y8DLP78Z778V               Michael                1/1   \n",
       "87          13.89   AAF3I3SZ6CXGY  Ross Knight \"Subvet\"                0/0   \n",
       "88          13.89   ARA1MZKJQLXGE                 Kevin                0/0   \n",
       "89          13.89  A2P9Q94AA63517      Bruce E Harrison                0/0   \n",
       "\n",
       "    review/score review/time                         review/summary  \\\n",
       "85           4.0  1245974400                                  nifty   \n",
       "86           5.0  1287273600  APC P1T 120V Portable Surge Protector   \n",
       "87           5.0  1360108800                      Insurance policy!   \n",
       "88           5.0  1359244800             Works great for appliances   \n",
       "89           5.0  1355270400                 Single Surge Protector   \n",
       "\n",
       "                                          review/text  \n",
       "85  It is very convenient to have the charging cab...  \n",
       "86  Perfect carry-along for my notebook PC. Useful...  \n",
       "87  This protector is an excellent value. Rated ve...  \n",
       "88  I bought one of these to protect my washing ma...  \n",
       "89  Just right for travel for my computer and it i...  "
      ]
     },
     "execution_count": 23,
     "metadata": {},
     "output_type": "execute_result"
    }
   ],
   "source": [
    "t1data[\"review/text\"] = t1data[\"review/text\"].apply(lambda x:cont_to_exp(x))\n",
    "t1data[\"review/summary\"] = t1data[\"review/summary\"].apply(lambda x:cont_to_exp(x))\n",
    "t1data.head()"
   ]
  },
  {
   "cell_type": "code",
   "execution_count": 24,
   "metadata": {},
   "outputs": [
    {
     "data": {
      "text/html": [
       "<div>\n",
       "<style scoped>\n",
       "    .dataframe tbody tr th:only-of-type {\n",
       "        vertical-align: middle;\n",
       "    }\n",
       "\n",
       "    .dataframe tbody tr th {\n",
       "        vertical-align: top;\n",
       "    }\n",
       "\n",
       "    .dataframe thead th {\n",
       "        text-align: right;\n",
       "    }\n",
       "</style>\n",
       "<table border=\"1\" class=\"dataframe\">\n",
       "  <thead>\n",
       "    <tr style=\"text-align: right;\">\n",
       "      <th></th>\n",
       "      <th>product/price</th>\n",
       "      <th>review/score</th>\n",
       "    </tr>\n",
       "  </thead>\n",
       "  <tbody>\n",
       "    <tr>\n",
       "      <th>count</th>\n",
       "      <td>589123.000000</td>\n",
       "      <td>589123.000000</td>\n",
       "    </tr>\n",
       "    <tr>\n",
       "      <th>mean</th>\n",
       "      <td>65.739503</td>\n",
       "      <td>3.999056</td>\n",
       "    </tr>\n",
       "    <tr>\n",
       "      <th>std</th>\n",
       "      <td>114.197595</td>\n",
       "      <td>1.399042</td>\n",
       "    </tr>\n",
       "    <tr>\n",
       "      <th>min</th>\n",
       "      <td>0.010000</td>\n",
       "      <td>1.000000</td>\n",
       "    </tr>\n",
       "    <tr>\n",
       "      <th>25%</th>\n",
       "      <td>10.950000</td>\n",
       "      <td>3.000000</td>\n",
       "    </tr>\n",
       "    <tr>\n",
       "      <th>50%</th>\n",
       "      <td>25.950000</td>\n",
       "      <td>5.000000</td>\n",
       "    </tr>\n",
       "    <tr>\n",
       "      <th>75%</th>\n",
       "      <td>64.990000</td>\n",
       "      <td>5.000000</td>\n",
       "    </tr>\n",
       "    <tr>\n",
       "      <th>max</th>\n",
       "      <td>999.990000</td>\n",
       "      <td>5.000000</td>\n",
       "    </tr>\n",
       "  </tbody>\n",
       "</table>\n",
       "</div>"
      ],
      "text/plain": [
       "       product/price   review/score\n",
       "count  589123.000000  589123.000000\n",
       "mean       65.739503       3.999056\n",
       "std       114.197595       1.399042\n",
       "min         0.010000       1.000000\n",
       "25%        10.950000       3.000000\n",
       "50%        25.950000       5.000000\n",
       "75%        64.990000       5.000000\n",
       "max       999.990000       5.000000"
      ]
     },
     "execution_count": 24,
     "metadata": {},
     "output_type": "execute_result"
    }
   ],
   "source": [
    "t1data.describe()"
   ]
  },
  {
   "cell_type": "code",
   "execution_count": 25,
   "metadata": {},
   "outputs": [
    {
     "data": {
      "image/png": "[encoded data removed]",
      "text/plain": [
       "<Figure size 576x432 with 1 Axes>"
      ]
     },
     "metadata": {
      "needs_background": "light"
     },
     "output_type": "display_data"
    }
   ],
   "source": [
    "plt.figure(figsize=(8,6))\n",
    "sns.distplot(t1data['review/score']);"
   ]
  },
  {
   "cell_type": "code",
   "execution_count": 26,
   "metadata": {},
   "outputs": [
    {
     "data": {
      "text/html": [
       "<div>\n",
       "<style scoped>\n",
       "    .dataframe tbody tr th:only-of-type {\n",
       "        vertical-align: middle;\n",
       "    }\n",
       "\n",
       "    .dataframe tbody tr th {\n",
       "        vertical-align: top;\n",
       "    }\n",
       "\n",
       "    .dataframe thead th {\n",
       "        text-align: right;\n",
       "    }\n",
       "</style>\n",
       "<table border=\"1\" class=\"dataframe\">\n",
       "  <thead>\n",
       "    <tr style=\"text-align: right;\">\n",
       "      <th></th>\n",
       "      <th>product/productId</th>\n",
       "      <th>product/title</th>\n",
       "      <th>product/price</th>\n",
       "      <th>review/userId</th>\n",
       "      <th>review/profileName</th>\n",
       "      <th>review/helpfulness</th>\n",
       "      <th>review/score</th>\n",
       "      <th>review/time</th>\n",
       "      <th>review/summary</th>\n",
       "      <th>review/text</th>\n",
       "    </tr>\n",
       "  </thead>\n",
       "  <tbody>\n",
       "    <tr>\n",
       "      <th>85</th>\n",
       "      <td>B000P9JTW6</td>\n",
       "      <td>Gomadic Compact Retractable USB Charge and Dat...</td>\n",
       "      <td>17.69</td>\n",
       "      <td>A2T7YFEAI0X74W</td>\n",
       "      <td>Thomas O. Fort</td>\n",
       "      <td>0/0</td>\n",
       "      <td>4.0</td>\n",
       "      <td>1245974400</td>\n",
       "      <td>nifty</td>\n",
       "      <td>It is very convenient to have the charging cab...</td>\n",
       "    </tr>\n",
       "    <tr>\n",
       "      <th>86</th>\n",
       "      <td>B0000DFZ2U</td>\n",
       "      <td>APC P1T 120V Portable Surge Protector</td>\n",
       "      <td>13.89</td>\n",
       "      <td>A1Y8DLP78Z778V</td>\n",
       "      <td>Michael</td>\n",
       "      <td>1/1</td>\n",
       "      <td>5.0</td>\n",
       "      <td>1287273600</td>\n",
       "      <td>APC P1T 120V Portable Surge Protector</td>\n",
       "      <td>Perfect carry-along for my notebook PC. Useful...</td>\n",
       "    </tr>\n",
       "    <tr>\n",
       "      <th>87</th>\n",
       "      <td>B0000DFZ2U</td>\n",
       "      <td>APC P1T 120V Portable Surge Protector</td>\n",
       "      <td>13.89</td>\n",
       "      <td>AAF3I3SZ6CXGY</td>\n",
       "      <td>Ross Knight \"Subvet\"</td>\n",
       "      <td>0/0</td>\n",
       "      <td>5.0</td>\n",
       "      <td>1360108800</td>\n",
       "      <td>Insurance policy!</td>\n",
       "      <td>This protector is an excellent value. Rated ve...</td>\n",
       "    </tr>\n",
       "    <tr>\n",
       "      <th>88</th>\n",
       "      <td>B0000DFZ2U</td>\n",
       "      <td>APC P1T 120V Portable Surge Protector</td>\n",
       "      <td>13.89</td>\n",
       "      <td>ARA1MZKJQLXGE</td>\n",
       "      <td>Kevin</td>\n",
       "      <td>0/0</td>\n",
       "      <td>5.0</td>\n",
       "      <td>1359244800</td>\n",
       "      <td>Works great for appliances</td>\n",
       "      <td>I bought one of these to protect my washing ma...</td>\n",
       "    </tr>\n",
       "    <tr>\n",
       "      <th>89</th>\n",
       "      <td>B0000DFZ2U</td>\n",
       "      <td>APC P1T 120V Portable Surge Protector</td>\n",
       "      <td>13.89</td>\n",
       "      <td>A2P9Q94AA63517</td>\n",
       "      <td>Bruce E Harrison</td>\n",
       "      <td>0/0</td>\n",
       "      <td>5.0</td>\n",
       "      <td>1355270400</td>\n",
       "      <td>Single Surge Protector</td>\n",
       "      <td>Just right for travel for my computer and it i...</td>\n",
       "    </tr>\n",
       "    <tr>\n",
       "      <th>...</th>\n",
       "      <td>...</td>\n",
       "      <td>...</td>\n",
       "      <td>...</td>\n",
       "      <td>...</td>\n",
       "      <td>...</td>\n",
       "      <td>...</td>\n",
       "      <td>...</td>\n",
       "      <td>...</td>\n",
       "      <td>...</td>\n",
       "      <td>...</td>\n",
       "    </tr>\n",
       "    <tr>\n",
       "      <th>1241756</th>\n",
       "      <td>B000DZAKSE</td>\n",
       "      <td>Replacement Battery for Sony Clie PEG-TJ27, PE...</td>\n",
       "      <td>14.95</td>\n",
       "      <td>A2U3ZAW99J261</td>\n",
       "      <td>K. L. Sinclair \"Snowrider81\"</td>\n",
       "      <td>1/1</td>\n",
       "      <td>4.0</td>\n",
       "      <td>1274227200</td>\n",
       "      <td>Fits fine - not high capacity</td>\n",
       "      <td>This fit perfectly into my Clie. The one i pur...</td>\n",
       "    </tr>\n",
       "    <tr>\n",
       "      <th>1241757</th>\n",
       "      <td>B000DZAKSE</td>\n",
       "      <td>Replacement Battery for Sony Clie PEG-TJ27, PE...</td>\n",
       "      <td>14.95</td>\n",
       "      <td>A2B6EAS63JQLKQ</td>\n",
       "      <td>Wagonmaster</td>\n",
       "      <td>1/1</td>\n",
       "      <td>5.0</td>\n",
       "      <td>1231632000</td>\n",
       "      <td>Received promptly and as advertized</td>\n",
       "      <td>The battery pack was shipped promptly and was ...</td>\n",
       "    </tr>\n",
       "    <tr>\n",
       "      <th>1241758</th>\n",
       "      <td>B000DZAKSE</td>\n",
       "      <td>Replacement Battery for Sony Clie PEG-TJ27, PE...</td>\n",
       "      <td>14.95</td>\n",
       "      <td>A1UUPAS95JCE5T</td>\n",
       "      <td>Gwenita Rock</td>\n",
       "      <td>0/0</td>\n",
       "      <td>4.0</td>\n",
       "      <td>1251590400</td>\n",
       "      <td>palm pilot replacement battery</td>\n",
       "      <td>It's great to have my palm pilot up and runnin...</td>\n",
       "    </tr>\n",
       "    <tr>\n",
       "      <th>1241776</th>\n",
       "      <td>B000063W56</td>\n",
       "      <td>Sony ACCCSP Starter Kit for DSCP3 &amp; DSCP5 Digi...</td>\n",
       "      <td>99.20</td>\n",
       "      <td>AA2CXRGE0GN1S</td>\n",
       "      <td>Y. Hu \"Y\"</td>\n",
       "      <td>1/1</td>\n",
       "      <td>5.0</td>\n",
       "      <td>1024963200</td>\n",
       "      <td>Case, Battery and 32 Meg Memory Stick</td>\n",
       "      <td>I bought this item because I thought there was...</td>\n",
       "    </tr>\n",
       "    <tr>\n",
       "      <th>1241777</th>\n",
       "      <td>B000063W56</td>\n",
       "      <td>Sony ACCCSP Starter Kit for DSCP3 &amp; DSCP5 Digi...</td>\n",
       "      <td>99.20</td>\n",
       "      <td>A3LIWM4DA1TOOP</td>\n",
       "      <td>Y Al-Saleh</td>\n",
       "      <td>1/3</td>\n",
       "      <td>5.0</td>\n",
       "      <td>1023235200</td>\n",
       "      <td>Sony DSC Starter kit</td>\n",
       "      <td>This is a great kit , has all the essentials a...</td>\n",
       "    </tr>\n",
       "  </tbody>\n",
       "</table>\n",
       "<p>589123 rows × 10 columns</p>\n",
       "</div>"
      ],
      "text/plain": [
       "        product/productId                                      product/title  \\\n",
       "85             B000P9JTW6  Gomadic Compact Retractable USB Charge and Dat...   \n",
       "86             B0000DFZ2U              APC P1T 120V Portable Surge Protector   \n",
       "87             B0000DFZ2U              APC P1T 120V Portable Surge Protector   \n",
       "88             B0000DFZ2U              APC P1T 120V Portable Surge Protector   \n",
       "89             B0000DFZ2U              APC P1T 120V Portable Surge Protector   \n",
       "...                   ...                                                ...   \n",
       "1241756        B000DZAKSE  Replacement Battery for Sony Clie PEG-TJ27, PE...   \n",
       "1241757        B000DZAKSE  Replacement Battery for Sony Clie PEG-TJ27, PE...   \n",
       "1241758        B000DZAKSE  Replacement Battery for Sony Clie PEG-TJ27, PE...   \n",
       "1241776        B000063W56  Sony ACCCSP Starter Kit for DSCP3 & DSCP5 Digi...   \n",
       "1241777        B000063W56  Sony ACCCSP Starter Kit for DSCP3 & DSCP5 Digi...   \n",
       "\n",
       "         product/price   review/userId            review/profileName  \\\n",
       "85               17.69  A2T7YFEAI0X74W                Thomas O. Fort   \n",
       "86               13.89  A1Y8DLP78Z778V                       Michael   \n",
       "87               13.89   AAF3I3SZ6CXGY          Ross Knight \"Subvet\"   \n",
       "88               13.89   ARA1MZKJQLXGE                         Kevin   \n",
       "89               13.89  A2P9Q94AA63517              Bruce E Harrison   \n",
       "...                ...             ...                           ...   \n",
       "1241756          14.95   A2U3ZAW99J261  K. L. Sinclair \"Snowrider81\"   \n",
       "1241757          14.95  A2B6EAS63JQLKQ                   Wagonmaster   \n",
       "1241758          14.95  A1UUPAS95JCE5T                  Gwenita Rock   \n",
       "1241776          99.20   AA2CXRGE0GN1S                     Y. Hu \"Y\"   \n",
       "1241777          99.20  A3LIWM4DA1TOOP                    Y Al-Saleh   \n",
       "\n",
       "        review/helpfulness  review/score review/time  \\\n",
       "85                     0/0           4.0  1245974400   \n",
       "86                     1/1           5.0  1287273600   \n",
       "87                     0/0           5.0  1360108800   \n",
       "88                     0/0           5.0  1359244800   \n",
       "89                     0/0           5.0  1355270400   \n",
       "...                    ...           ...         ...   \n",
       "1241756                1/1           4.0  1274227200   \n",
       "1241757                1/1           5.0  1231632000   \n",
       "1241758                0/0           4.0  1251590400   \n",
       "1241776                1/1           5.0  1024963200   \n",
       "1241777                1/3           5.0  1023235200   \n",
       "\n",
       "                                review/summary  \\\n",
       "85                                       nifty   \n",
       "86       APC P1T 120V Portable Surge Protector   \n",
       "87                           Insurance policy!   \n",
       "88                  Works great for appliances   \n",
       "89                      Single Surge Protector   \n",
       "...                                        ...   \n",
       "1241756          Fits fine - not high capacity   \n",
       "1241757    Received promptly and as advertized   \n",
       "1241758         palm pilot replacement battery   \n",
       "1241776  Case, Battery and 32 Meg Memory Stick   \n",
       "1241777                   Sony DSC Starter kit   \n",
       "\n",
       "                                               review/text  \n",
       "85       It is very convenient to have the charging cab...  \n",
       "86       Perfect carry-along for my notebook PC. Useful...  \n",
       "87       This protector is an excellent value. Rated ve...  \n",
       "88       I bought one of these to protect my washing ma...  \n",
       "89       Just right for travel for my computer and it i...  \n",
       "...                                                    ...  \n",
       "1241756  This fit perfectly into my Clie. The one i pur...  \n",
       "1241757  The battery pack was shipped promptly and was ...  \n",
       "1241758  It's great to have my palm pilot up and runnin...  \n",
       "1241776  I bought this item because I thought there was...  \n",
       "1241777  This is a great kit , has all the essentials a...  \n",
       "\n",
       "[589123 rows x 10 columns]"
      ]
     },
     "execution_count": 26,
     "metadata": {},
     "output_type": "execute_result"
    }
   ],
   "source": [
    "t1data"
   ]
  },
  {
   "cell_type": "code",
   "execution_count": 27,
   "metadata": {},
   "outputs": [
    {
     "data": {
      "image/png": "[encoded data removed]",
      "text/plain": [
       "<Figure size 432x288 with 1 Axes>"
      ]
     },
     "metadata": {
      "needs_background": "light"
     },
     "output_type": "display_data"
    }
   ],
   "source": [
    "plt.boxplot(t1data['review/score']);"
   ]
  },
  {
   "cell_type": "code",
   "execution_count": 28,
   "metadata": {},
   "outputs": [
    {
     "data": {
      "image/png": "[encoded data removed]",
      "text/plain": [
       "<Figure size 576x432 with 1 Axes>"
      ]
     },
     "metadata": {
      "needs_background": "light"
     },
     "output_type": "display_data"
    }
   ],
   "source": [
    "plt.figure(figsize=(8,6))\n",
    "sns.countplot(t1data['review/score']);"
   ]
  },
  {
   "cell_type": "markdown",
   "metadata": {},
   "source": [
    "## Shoes Dataset"
   ]
  },
  {
   "cell_type": "code",
   "execution_count": 29,
   "metadata": {
    "scrolled": true
   },
   "outputs": [
    {
     "data": {
      "text/html": [
       "<div>\n",
       "<style scoped>\n",
       "    .dataframe tbody tr th:only-of-type {\n",
       "        vertical-align: middle;\n",
       "    }\n",
       "\n",
       "    .dataframe tbody tr th {\n",
       "        vertical-align: top;\n",
       "    }\n",
       "\n",
       "    .dataframe thead th {\n",
       "        text-align: right;\n",
       "    }\n",
       "</style>\n",
       "<table border=\"1\" class=\"dataframe\">\n",
       "  <thead>\n",
       "    <tr style=\"text-align: right;\">\n",
       "      <th></th>\n",
       "      <th>product/productId</th>\n",
       "      <th>product/title</th>\n",
       "      <th>product/price</th>\n",
       "      <th>review/userId</th>\n",
       "      <th>review/profileName</th>\n",
       "      <th>review/helpfulness</th>\n",
       "      <th>review/score</th>\n",
       "      <th>review/time</th>\n",
       "      <th>review/summary</th>\n",
       "      <th>review/text</th>\n",
       "    </tr>\n",
       "  </thead>\n",
       "  <tbody>\n",
       "    <tr>\n",
       "      <th>0</th>\n",
       "      <td>B0009PK7KO</td>\n",
       "      <td>Caligarius Women's Acheta Pump,Black Calf,6 M</td>\n",
       "      <td>unknown</td>\n",
       "      <td>A12O8IHB65BC1S</td>\n",
       "      <td>Fifi</td>\n",
       "      <td>2/2</td>\n",
       "      <td>4.0</td>\n",
       "      <td>1169769600</td>\n",
       "      <td>Beautiful basic pump...</td>\n",
       "      <td>... but not enough sizes or colors. Fits true ...</td>\n",
       "    </tr>\n",
       "    <tr>\n",
       "      <th>1</th>\n",
       "      <td>B0007MCVQ2</td>\n",
       "      <td>Clarks Men's Charter Slip-On, Brown Oily Leath...</td>\n",
       "      <td>unknown</td>\n",
       "      <td>A3363OQWT5L3FT</td>\n",
       "      <td>Marilyn M. Turner \"whitbrook\"</td>\n",
       "      <td>0/0</td>\n",
       "      <td>2.0</td>\n",
       "      <td>1168387200</td>\n",
       "      <td>Didn't live up to expectations.</td>\n",
       "      <td>I ordered these shoes to replace the previous ...</td>\n",
       "    </tr>\n",
       "    <tr>\n",
       "      <th>2</th>\n",
       "      <td>B0007MCVQ2</td>\n",
       "      <td>Clarks Men's Charter Slip-On, Brown Oily Leath...</td>\n",
       "      <td>unknown</td>\n",
       "      <td>A1BHUGKLYW6H7V</td>\n",
       "      <td>P. Lecuyer</td>\n",
       "      <td>0/0</td>\n",
       "      <td>5.0</td>\n",
       "      <td>1127088000</td>\n",
       "      <td>Love my Clarks!</td>\n",
       "      <td>Like all Clarks, these guys didn't disappoint....</td>\n",
       "    </tr>\n",
       "    <tr>\n",
       "      <th>3</th>\n",
       "      <td>B0002M1FPK</td>\n",
       "      <td>Lightweight Slides, Champagne, 8.5 W</td>\n",
       "      <td>unknown</td>\n",
       "      <td>AITX28WR0L5Y6</td>\n",
       "      <td>Carol Popick \"Chet\"</td>\n",
       "      <td>0/0</td>\n",
       "      <td>5.0</td>\n",
       "      <td>1245715200</td>\n",
       "      <td>ANNIE PEANUT</td>\n",
       "      <td>i HAVE PURCHASED ANNIE PEANUT BEFORE AND THEY ...</td>\n",
       "    </tr>\n",
       "    <tr>\n",
       "      <th>4</th>\n",
       "      <td>B0002M1FPK</td>\n",
       "      <td>Lightweight Slides, Champagne, 8.5 W</td>\n",
       "      <td>unknown</td>\n",
       "      <td>A1ZPFKIGT4I69S</td>\n",
       "      <td>KJ Brassy \"KJ Brassy\"</td>\n",
       "      <td>0/0</td>\n",
       "      <td>5.0</td>\n",
       "      <td>1168300800</td>\n",
       "      <td>Annie Peanut Shoes</td>\n",
       "      <td>These are my favorite shoes of all time. I fir...</td>\n",
       "    </tr>\n",
       "  </tbody>\n",
       "</table>\n",
       "</div>"
      ],
      "text/plain": [
       "  product/productId                                      product/title  \\\n",
       "0        B0009PK7KO      Caligarius Women's Acheta Pump,Black Calf,6 M   \n",
       "1        B0007MCVQ2  Clarks Men's Charter Slip-On, Brown Oily Leath...   \n",
       "2        B0007MCVQ2  Clarks Men's Charter Slip-On, Brown Oily Leath...   \n",
       "3        B0002M1FPK               Lightweight Slides, Champagne, 8.5 W   \n",
       "4        B0002M1FPK               Lightweight Slides, Champagne, 8.5 W   \n",
       "\n",
       "  product/price   review/userId             review/profileName  \\\n",
       "0       unknown  A12O8IHB65BC1S                           Fifi   \n",
       "1       unknown  A3363OQWT5L3FT  Marilyn M. Turner \"whitbrook\"   \n",
       "2       unknown  A1BHUGKLYW6H7V                     P. Lecuyer   \n",
       "3       unknown   AITX28WR0L5Y6            Carol Popick \"Chet\"   \n",
       "4       unknown  A1ZPFKIGT4I69S          KJ Brassy \"KJ Brassy\"   \n",
       "\n",
       "  review/helpfulness review/score review/time  \\\n",
       "0                2/2          4.0  1169769600   \n",
       "1                0/0          2.0  1168387200   \n",
       "2                0/0          5.0  1127088000   \n",
       "3                0/0          5.0  1245715200   \n",
       "4                0/0          5.0  1168300800   \n",
       "\n",
       "                    review/summary  \\\n",
       "0          Beautiful basic pump...   \n",
       "1  Didn't live up to expectations.   \n",
       "2                  Love my Clarks!   \n",
       "3                     ANNIE PEANUT   \n",
       "4               Annie Peanut Shoes   \n",
       "\n",
       "                                         review/text  \n",
       "0  ... but not enough sizes or colors. Fits true ...  \n",
       "1  I ordered these shoes to replace the previous ...  \n",
       "2  Like all Clarks, these guys didn't disappoint....  \n",
       "3  i HAVE PURCHASED ANNIE PEANUT BEFORE AND THEY ...  \n",
       "4  These are my favorite shoes of all time. I fir...  "
      ]
     },
     "execution_count": 29,
     "metadata": {},
     "output_type": "execute_result"
    }
   ],
   "source": [
    "shoes = getDF('Shoes.txt.gz')\n",
    "shoes.head()"
   ]
  },
  {
   "cell_type": "code",
   "execution_count": 30,
   "metadata": {},
   "outputs": [
    {
     "data": {
      "text/plain": [
       "(389877, 10)"
      ]
     },
     "execution_count": 30,
     "metadata": {},
     "output_type": "execute_result"
    }
   ],
   "source": [
    "shoes.shape"
   ]
  },
  {
   "cell_type": "code",
   "execution_count": 31,
   "metadata": {
    "scrolled": true
   },
   "outputs": [
    {
     "data": {
      "text/html": [
       "<div>\n",
       "<style scoped>\n",
       "    .dataframe tbody tr th:only-of-type {\n",
       "        vertical-align: middle;\n",
       "    }\n",
       "\n",
       "    .dataframe tbody tr th {\n",
       "        vertical-align: top;\n",
       "    }\n",
       "\n",
       "    .dataframe thead th {\n",
       "        text-align: right;\n",
       "    }\n",
       "</style>\n",
       "<table border=\"1\" class=\"dataframe\">\n",
       "  <thead>\n",
       "    <tr style=\"text-align: right;\">\n",
       "      <th></th>\n",
       "      <th>product/productId</th>\n",
       "      <th>product/title</th>\n",
       "      <th>product/price</th>\n",
       "      <th>review/userId</th>\n",
       "      <th>review/profileName</th>\n",
       "      <th>review/helpfulness</th>\n",
       "      <th>review/score</th>\n",
       "      <th>review/time</th>\n",
       "      <th>review/summary</th>\n",
       "      <th>review/text</th>\n",
       "    </tr>\n",
       "  </thead>\n",
       "  <tbody>\n",
       "    <tr>\n",
       "      <th>count</th>\n",
       "      <td>389877</td>\n",
       "      <td>389877</td>\n",
       "      <td>389877</td>\n",
       "      <td>389877</td>\n",
       "      <td>389877</td>\n",
       "      <td>389877</td>\n",
       "      <td>389877</td>\n",
       "      <td>389877</td>\n",
       "      <td>389877</td>\n",
       "      <td>389877</td>\n",
       "    </tr>\n",
       "    <tr>\n",
       "      <th>unique</th>\n",
       "      <td>48410</td>\n",
       "      <td>34364</td>\n",
       "      <td>402</td>\n",
       "      <td>73590</td>\n",
       "      <td>66547</td>\n",
       "      <td>530</td>\n",
       "      <td>5</td>\n",
       "      <td>3251</td>\n",
       "      <td>57618</td>\n",
       "      <td>80328</td>\n",
       "    </tr>\n",
       "    <tr>\n",
       "      <th>top</th>\n",
       "      <td>B0002M7SPG</td>\n",
       "      <td>Converse Mens Chuck Taylor Sneaker</td>\n",
       "      <td>unknown</td>\n",
       "      <td>unknown</td>\n",
       "      <td>unknown</td>\n",
       "      <td>0/0</td>\n",
       "      <td>5.0</td>\n",
       "      <td>1168300800</td>\n",
       "      <td>Great shoe</td>\n",
       "      <td>Dada's are some of the best basketball shoes i...</td>\n",
       "    </tr>\n",
       "    <tr>\n",
       "      <th>freq</th>\n",
       "      <td>886</td>\n",
       "      <td>24193</td>\n",
       "      <td>377938</td>\n",
       "      <td>4369</td>\n",
       "      <td>4369</td>\n",
       "      <td>233004</td>\n",
       "      <td>256503</td>\n",
       "      <td>2803</td>\n",
       "      <td>1978</td>\n",
       "      <td>575</td>\n",
       "    </tr>\n",
       "  </tbody>\n",
       "</table>\n",
       "</div>"
      ],
      "text/plain": [
       "       product/productId                       product/title product/price  \\\n",
       "count             389877                              389877        389877   \n",
       "unique             48410                               34364           402   \n",
       "top           B0002M7SPG  Converse Mens Chuck Taylor Sneaker       unknown   \n",
       "freq                 886                               24193        377938   \n",
       "\n",
       "       review/userId review/profileName review/helpfulness review/score  \\\n",
       "count         389877             389877             389877       389877   \n",
       "unique         73590              66547                530            5   \n",
       "top          unknown            unknown                0/0          5.0   \n",
       "freq            4369               4369             233004       256503   \n",
       "\n",
       "       review/time review/summary  \\\n",
       "count       389877         389877   \n",
       "unique        3251          57618   \n",
       "top     1168300800     Great shoe   \n",
       "freq          2803           1978   \n",
       "\n",
       "                                              review/text  \n",
       "count                                              389877  \n",
       "unique                                              80328  \n",
       "top     Dada's are some of the best basketball shoes i...  \n",
       "freq                                                  575  "
      ]
     },
     "execution_count": 31,
     "metadata": {},
     "output_type": "execute_result"
    }
   ],
   "source": [
    "shoes.describe()"
   ]
  },
  {
   "cell_type": "code",
   "execution_count": 32,
   "metadata": {},
   "outputs": [
    {
     "data": {
      "text/plain": [
       "product/productId     object\n",
       "product/title         object\n",
       "product/price         object\n",
       "review/userId         object\n",
       "review/profileName    object\n",
       "review/helpfulness    object\n",
       "review/score          object\n",
       "review/time           object\n",
       "review/summary        object\n",
       "review/text           object\n",
       "dtype: object"
      ]
     },
     "execution_count": 32,
     "metadata": {},
     "output_type": "execute_result"
    }
   ],
   "source": [
    "shoes.dtypes"
   ]
  },
  {
   "cell_type": "code",
   "execution_count": 33,
   "metadata": {},
   "outputs": [
    {
     "data": {
      "text/plain": [
       "product/productId     False\n",
       "product/title         False\n",
       "product/price         False\n",
       "review/userId         False\n",
       "review/profileName    False\n",
       "review/helpfulness    False\n",
       "review/score          False\n",
       "review/time           False\n",
       "review/summary        False\n",
       "review/text           False\n",
       "dtype: bool"
      ]
     },
     "execution_count": 33,
     "metadata": {},
     "output_type": "execute_result"
    }
   ],
   "source": [
    "shoes.isnull().any()"
   ]
  },
  {
   "cell_type": "code",
   "execution_count": 34,
   "metadata": {},
   "outputs": [
    {
     "data": {
      "text/plain": [
       "product/productId     0\n",
       "product/title         0\n",
       "product/price         0\n",
       "review/userId         0\n",
       "review/profileName    0\n",
       "review/helpfulness    0\n",
       "review/score          0\n",
       "review/time           0\n",
       "review/summary        0\n",
       "review/text           0\n",
       "dtype: int64"
      ]
     },
     "execution_count": 34,
     "metadata": {},
     "output_type": "execute_result"
    }
   ],
   "source": [
    "shoes.isnull().sum()"
   ]
  },
  {
   "cell_type": "code",
   "execution_count": 35,
   "metadata": {},
   "outputs": [],
   "source": [
    "shoes.drop_duplicates(keep=False,inplace=True)"
   ]
  },
  {
   "cell_type": "code",
   "execution_count": 36,
   "metadata": {},
   "outputs": [
    {
     "data": {
      "text/plain": [
       "(389533, 10)"
      ]
     },
     "execution_count": 36,
     "metadata": {},
     "output_type": "execute_result"
    }
   ],
   "source": [
    "shoes.shape"
   ]
  },
  {
   "cell_type": "code",
   "execution_count": 37,
   "metadata": {},
   "outputs": [],
   "source": [
    "# lets make a copy of the data so that all the transformation is done on the copy and not on the main dataset\n",
    "t2data=shoes.copy()"
   ]
  },
  {
   "cell_type": "code",
   "execution_count": 38,
   "metadata": {},
   "outputs": [
    {
     "data": {
      "text/plain": [
       "array(['1.0', '2.0', '3.0', '4.0', '5.0'], dtype=object)"
      ]
     },
     "execution_count": 38,
     "metadata": {},
     "output_type": "execute_result"
    }
   ],
   "source": [
    "np.sort(t2data['review/score'].unique())\n",
    "# ie, The ratings are in range of 1-5"
   ]
  },
  {
   "cell_type": "code",
   "execution_count": 39,
   "metadata": {},
   "outputs": [],
   "source": [
    "t2data=t2data[t2data['product/price'] !='unknown']"
   ]
  },
  {
   "cell_type": "code",
   "execution_count": 40,
   "metadata": {},
   "outputs": [
    {
     "data": {
      "text/plain": [
       "34.99    540\n",
       "34.07    538\n",
       "33.95    534\n",
       "41.95    494\n",
       "4.99     424\n",
       "        ... \n",
       "68.95      1\n",
       "2.35       1\n",
       "55.75      1\n",
       "78.47      1\n",
       "9.44       1\n",
       "Name: product/price, Length: 401, dtype: int64"
      ]
     },
     "execution_count": 40,
     "metadata": {},
     "output_type": "execute_result"
    }
   ],
   "source": [
    "t2data['product/price'] = pd.to_numeric(t2data['product/price'])\n",
    "t2data['product/price'].value_counts()"
   ]
  },
  {
   "cell_type": "code",
   "execution_count": 41,
   "metadata": {},
   "outputs": [],
   "source": [
    "t2data=t2data[t2data['review/userId'] !='unknown']"
   ]
  },
  {
   "cell_type": "code",
   "execution_count": 42,
   "metadata": {},
   "outputs": [
    {
     "data": {
      "text/plain": [
       "A39Z78E7W44JYR    54\n",
       "A2RX9RONVFN1BY    54\n",
       "A23XHS4DISR8HD    54\n",
       "A3VAKIYKK8SHJZ    54\n",
       "A3RO48PGHI6HRT    54\n",
       "                  ..\n",
       "A1G8COMAXE6W0B     1\n",
       "A242QVNXDX5QF7     1\n",
       "A3CUJY7GTQV2B9     1\n",
       "A29OUIQU1W4V9T     1\n",
       "A2FA57CIBSD4FI     1\n",
       "Name: review/userId, Length: 4760, dtype: int64"
      ]
     },
     "execution_count": 42,
     "metadata": {},
     "output_type": "execute_result"
    }
   ],
   "source": [
    "t2data['review/userId'].value_counts()"
   ]
  },
  {
   "cell_type": "code",
   "execution_count": 43,
   "metadata": {},
   "outputs": [
    {
     "data": {
      "text/plain": [
       "5.0    7559\n",
       "4.0    2060\n",
       "3.0     889\n",
       "1.0     819\n",
       "2.0     588\n",
       "Name: review/score, dtype: int64"
      ]
     },
     "execution_count": 43,
     "metadata": {},
     "output_type": "execute_result"
    }
   ],
   "source": [
    "t2data['review/score'] = pd.to_numeric(t2data['review/score'])\n",
    "t2data['review/score'].value_counts()"
   ]
  },
  {
   "cell_type": "code",
   "execution_count": 44,
   "metadata": {
    "scrolled": true
   },
   "outputs": [
    {
     "data": {
      "text/html": [
       "<div>\n",
       "<style scoped>\n",
       "    .dataframe tbody tr th:only-of-type {\n",
       "        vertical-align: middle;\n",
       "    }\n",
       "\n",
       "    .dataframe tbody tr th {\n",
       "        vertical-align: top;\n",
       "    }\n",
       "\n",
       "    .dataframe thead th {\n",
       "        text-align: right;\n",
       "    }\n",
       "</style>\n",
       "<table border=\"1\" class=\"dataframe\">\n",
       "  <thead>\n",
       "    <tr style=\"text-align: right;\">\n",
       "      <th></th>\n",
       "      <th>product/productId</th>\n",
       "      <th>product/title</th>\n",
       "      <th>product/price</th>\n",
       "      <th>review/userId</th>\n",
       "      <th>review/profileName</th>\n",
       "      <th>review/helpfulness</th>\n",
       "      <th>review/score</th>\n",
       "      <th>review/time</th>\n",
       "      <th>review/summary</th>\n",
       "      <th>review/text</th>\n",
       "    </tr>\n",
       "  </thead>\n",
       "  <tbody>\n",
       "    <tr>\n",
       "      <th>2711</th>\n",
       "      <td>B000BQR55G</td>\n",
       "      <td>Shoe Goo</td>\n",
       "      <td>5.75</td>\n",
       "      <td>AXF3ZAXUGOEON</td>\n",
       "      <td>snowleopard</td>\n",
       "      <td>2/2</td>\n",
       "      <td>4.0</td>\n",
       "      <td>1273449600</td>\n",
       "      <td>Works Very Well</td>\n",
       "      <td>I have used Shoe Goo for years on many pairs o...</td>\n",
       "    </tr>\n",
       "    <tr>\n",
       "      <th>2712</th>\n",
       "      <td>B000BQR55G</td>\n",
       "      <td>Shoe Goo</td>\n",
       "      <td>5.75</td>\n",
       "      <td>A3AVTFW8WIMLET</td>\n",
       "      <td>Muriel Rakotomahanina \"Muriel R\"</td>\n",
       "      <td>2/2</td>\n",
       "      <td>4.0</td>\n",
       "      <td>1260921600</td>\n",
       "      <td>Works but messy!</td>\n",
       "      <td>Bonds sole of shoes well, but it was difficult...</td>\n",
       "    </tr>\n",
       "    <tr>\n",
       "      <th>2713</th>\n",
       "      <td>B000BQR55G</td>\n",
       "      <td>Shoe Goo</td>\n",
       "      <td>5.75</td>\n",
       "      <td>A3HPLYO15TGJZ8</td>\n",
       "      <td>P. Wing</td>\n",
       "      <td>2/2</td>\n",
       "      <td>5.0</td>\n",
       "      <td>1256342400</td>\n",
       "      <td>Shoe Goo is a time and money saver.</td>\n",
       "      <td>I have been using Shoe Goo for years to extend...</td>\n",
       "    </tr>\n",
       "    <tr>\n",
       "      <th>2714</th>\n",
       "      <td>B000BQR55G</td>\n",
       "      <td>Shoe Goo</td>\n",
       "      <td>5.75</td>\n",
       "      <td>AM4YGBWX05RHT</td>\n",
       "      <td>james NY</td>\n",
       "      <td>2/2</td>\n",
       "      <td>5.0</td>\n",
       "      <td>1253232000</td>\n",
       "      <td>Great for other uses too!</td>\n",
       "      <td>I have a convertable top on my car and about t...</td>\n",
       "    </tr>\n",
       "    <tr>\n",
       "      <th>2715</th>\n",
       "      <td>B000BQR55G</td>\n",
       "      <td>Shoe Goo</td>\n",
       "      <td>5.75</td>\n",
       "      <td>A3EKB6TSBAEXWF</td>\n",
       "      <td>Jamerican J</td>\n",
       "      <td>2/2</td>\n",
       "      <td>5.0</td>\n",
       "      <td>1231459200</td>\n",
       "      <td>wow it really does help... alot</td>\n",
       "      <td>this stuff has really extended the life of my ...</td>\n",
       "    </tr>\n",
       "  </tbody>\n",
       "</table>\n",
       "</div>"
      ],
      "text/plain": [
       "     product/productId product/title  product/price   review/userId  \\\n",
       "2711        B000BQR55G      Shoe Goo           5.75   AXF3ZAXUGOEON   \n",
       "2712        B000BQR55G      Shoe Goo           5.75  A3AVTFW8WIMLET   \n",
       "2713        B000BQR55G      Shoe Goo           5.75  A3HPLYO15TGJZ8   \n",
       "2714        B000BQR55G      Shoe Goo           5.75   AM4YGBWX05RHT   \n",
       "2715        B000BQR55G      Shoe Goo           5.75  A3EKB6TSBAEXWF   \n",
       "\n",
       "                    review/profileName review/helpfulness  review/score  \\\n",
       "2711                       snowleopard                2/2           4.0   \n",
       "2712  Muriel Rakotomahanina \"Muriel R\"                2/2           4.0   \n",
       "2713                           P. Wing                2/2           5.0   \n",
       "2714                          james NY                2/2           5.0   \n",
       "2715                       Jamerican J                2/2           5.0   \n",
       "\n",
       "     review/time                       review/summary  \\\n",
       "2711  1273449600                      Works Very Well   \n",
       "2712  1260921600                     Works but messy!   \n",
       "2713  1256342400  Shoe Goo is a time and money saver.   \n",
       "2714  1253232000            Great for other uses too!   \n",
       "2715  1231459200      wow it really does help... alot   \n",
       "\n",
       "                                            review/text  \n",
       "2711  I have used Shoe Goo for years on many pairs o...  \n",
       "2712  Bonds sole of shoes well, but it was difficult...  \n",
       "2713  I have been using Shoe Goo for years to extend...  \n",
       "2714  I have a convertable top on my car and about t...  \n",
       "2715  this stuff has really extended the life of my ...  "
      ]
     },
     "execution_count": 44,
     "metadata": {},
     "output_type": "execute_result"
    }
   ],
   "source": [
    "t2data[\"review/text\"] = t2data[\"review/text\"].apply(lambda x:cont_to_exp(x))\n",
    "t2data[\"review/summary\"] = t2data[\"review/summary\"].apply(lambda x:cont_to_exp(x))\n",
    "t2data.head()"
   ]
  },
  {
   "cell_type": "code",
   "execution_count": 45,
   "metadata": {},
   "outputs": [
    {
     "data": {
      "text/html": [
       "<div>\n",
       "<style scoped>\n",
       "    .dataframe tbody tr th:only-of-type {\n",
       "        vertical-align: middle;\n",
       "    }\n",
       "\n",
       "    .dataframe tbody tr th {\n",
       "        vertical-align: top;\n",
       "    }\n",
       "\n",
       "    .dataframe thead th {\n",
       "        text-align: right;\n",
       "    }\n",
       "</style>\n",
       "<table border=\"1\" class=\"dataframe\">\n",
       "  <thead>\n",
       "    <tr style=\"text-align: right;\">\n",
       "      <th></th>\n",
       "      <th>product/price</th>\n",
       "      <th>review/score</th>\n",
       "    </tr>\n",
       "  </thead>\n",
       "  <tbody>\n",
       "    <tr>\n",
       "      <th>count</th>\n",
       "      <td>11915.000000</td>\n",
       "      <td>11915.000000</td>\n",
       "    </tr>\n",
       "    <tr>\n",
       "      <th>mean</th>\n",
       "      <td>41.975073</td>\n",
       "      <td>4.254889</td>\n",
       "    </tr>\n",
       "    <tr>\n",
       "      <th>std</th>\n",
       "      <td>30.977799</td>\n",
       "      <td>1.208390</td>\n",
       "    </tr>\n",
       "    <tr>\n",
       "      <th>min</th>\n",
       "      <td>1.090000</td>\n",
       "      <td>1.000000</td>\n",
       "    </tr>\n",
       "    <tr>\n",
       "      <th>25%</th>\n",
       "      <td>26.990000</td>\n",
       "      <td>4.000000</td>\n",
       "    </tr>\n",
       "    <tr>\n",
       "      <th>50%</th>\n",
       "      <td>38.560000</td>\n",
       "      <td>5.000000</td>\n",
       "    </tr>\n",
       "    <tr>\n",
       "      <th>75%</th>\n",
       "      <td>49.900000</td>\n",
       "      <td>5.000000</td>\n",
       "    </tr>\n",
       "    <tr>\n",
       "      <th>max</th>\n",
       "      <td>394.950000</td>\n",
       "      <td>5.000000</td>\n",
       "    </tr>\n",
       "  </tbody>\n",
       "</table>\n",
       "</div>"
      ],
      "text/plain": [
       "       product/price  review/score\n",
       "count   11915.000000  11915.000000\n",
       "mean       41.975073      4.254889\n",
       "std        30.977799      1.208390\n",
       "min         1.090000      1.000000\n",
       "25%        26.990000      4.000000\n",
       "50%        38.560000      5.000000\n",
       "75%        49.900000      5.000000\n",
       "max       394.950000      5.000000"
      ]
     },
     "execution_count": 45,
     "metadata": {},
     "output_type": "execute_result"
    }
   ],
   "source": [
    "t2data.describe()"
   ]
  },
  {
   "cell_type": "code",
   "execution_count": 46,
   "metadata": {},
   "outputs": [
    {
     "data": {
      "image/png": "[encoded data removed]",
      "text/plain": [
       "<Figure size 576x432 with 1 Axes>"
      ]
     },
     "metadata": {
      "needs_background": "light"
     },
     "output_type": "display_data"
    }
   ],
   "source": [
    "plt.figure(figsize=(8,6))\n",
    "sns.distplot(t2data['review/score']);"
   ]
  },
  {
   "cell_type": "code",
   "execution_count": 47,
   "metadata": {},
   "outputs": [
    {
     "data": {
      "image/png": "[encoded data removed]",
      "text/plain": [
       "<Figure size 432x288 with 1 Axes>"
      ]
     },
     "metadata": {
      "needs_background": "light"
     },
     "output_type": "display_data"
    }
   ],
   "source": [
    "plt.boxplot(t2data['review/score']);"
   ]
  },
  {
   "cell_type": "code",
   "execution_count": 48,
   "metadata": {},
   "outputs": [
    {
     "data": {
      "image/png": "[encoded data removed]",
      "text/plain": [
       "<Figure size 576x432 with 1 Axes>"
      ]
     },
     "metadata": {
      "needs_background": "light"
     },
     "output_type": "display_data"
    }
   ],
   "source": [
    "plt.figure(figsize=(8,6))\n",
    "sns.countplot(t2data['review/score']);"
   ]
  },
  {
   "cell_type": "markdown",
   "metadata": {},
   "source": [
    "## Watches Dataset"
   ]
  },
  {
   "cell_type": "code",
   "execution_count": 49,
   "metadata": {
    "scrolled": true
   },
   "outputs": [
    {
     "data": {
      "text/html": [
       "<div>\n",
       "<style scoped>\n",
       "    .dataframe tbody tr th:only-of-type {\n",
       "        vertical-align: middle;\n",
       "    }\n",
       "\n",
       "    .dataframe tbody tr th {\n",
       "        vertical-align: top;\n",
       "    }\n",
       "\n",
       "    .dataframe thead th {\n",
       "        text-align: right;\n",
       "    }\n",
       "</style>\n",
       "<table border=\"1\" class=\"dataframe\">\n",
       "  <thead>\n",
       "    <tr style=\"text-align: right;\">\n",
       "      <th></th>\n",
       "      <th>product/productId</th>\n",
       "      <th>product/title</th>\n",
       "      <th>product/price</th>\n",
       "      <th>review/userId</th>\n",
       "      <th>review/profileName</th>\n",
       "      <th>review/helpfulness</th>\n",
       "      <th>review/score</th>\n",
       "      <th>review/time</th>\n",
       "      <th>review/summary</th>\n",
       "      <th>review/text</th>\n",
       "    </tr>\n",
       "  </thead>\n",
       "  <tbody>\n",
       "    <tr>\n",
       "      <th>0</th>\n",
       "      <td>B000NLZ4A2</td>\n",
       "      <td>Casio Men's G1710D-7AV G-Shock Ana-Digi Sport ...</td>\n",
       "      <td>unknown</td>\n",
       "      <td>AEM9CCSE7CQ9M</td>\n",
       "      <td>Charlie White \"Tech-Guy\"</td>\n",
       "      <td>0/0</td>\n",
       "      <td>4.0</td>\n",
       "      <td>1260230400</td>\n",
       "      <td>Unique G-Shock Design, same G-Shock Quality</td>\n",
       "      <td>Having owned two previous G-Shocks in my life ...</td>\n",
       "    </tr>\n",
       "    <tr>\n",
       "      <th>1</th>\n",
       "      <td>B000NLZ4A2</td>\n",
       "      <td>Casio Men's G1710D-7AV G-Shock Ana-Digi Sport ...</td>\n",
       "      <td>unknown</td>\n",
       "      <td>AA6ESFOYCNJKG</td>\n",
       "      <td>Marco Antonio Hernandez Lara</td>\n",
       "      <td>0/0</td>\n",
       "      <td>4.0</td>\n",
       "      <td>1216339200</td>\n",
       "      <td>Nice Watch</td>\n",
       "      <td>Thats a good watch, light, comfortable, accura...</td>\n",
       "    </tr>\n",
       "    <tr>\n",
       "      <th>2</th>\n",
       "      <td>B000NLZ4A2</td>\n",
       "      <td>Casio Men's G1710D-7AV G-Shock Ana-Digi Sport ...</td>\n",
       "      <td>unknown</td>\n",
       "      <td>A2X0RB3JKV4E7C</td>\n",
       "      <td>Mary Perez</td>\n",
       "      <td>1/2</td>\n",
       "      <td>5.0</td>\n",
       "      <td>1245024000</td>\n",
       "      <td>Is it battery powered or Solar/</td>\n",
       "      <td>I am ready to purchase this beautiful watch bu...</td>\n",
       "    </tr>\n",
       "    <tr>\n",
       "      <th>3</th>\n",
       "      <td>B000AIO6RA</td>\n",
       "      <td>Seiko Men's Criteria \"Orange Bullet\" Automatic...</td>\n",
       "      <td>unknown</td>\n",
       "      <td>AIZ446JTDW9B5</td>\n",
       "      <td>Mike Robbins</td>\n",
       "      <td>3/3</td>\n",
       "      <td>5.0</td>\n",
       "      <td>1122422400</td>\n",
       "      <td>2005 Latest Seiko Diver Models</td>\n",
       "      <td>2005 Latest model from Seiko Model SKXA53K2. P...</td>\n",
       "    </tr>\n",
       "    <tr>\n",
       "      <th>4</th>\n",
       "      <td>B000AIO6RA</td>\n",
       "      <td>Seiko Men's Criteria \"Orange Bullet\" Automatic...</td>\n",
       "      <td>unknown</td>\n",
       "      <td>A28JAKWAGDDXWF</td>\n",
       "      <td>Tukwillie</td>\n",
       "      <td>0/0</td>\n",
       "      <td>4.0</td>\n",
       "      <td>1207958400</td>\n",
       "      <td>Great watch with a few drawbacks</td>\n",
       "      <td>Here are a few observations on one of my favor...</td>\n",
       "    </tr>\n",
       "  </tbody>\n",
       "</table>\n",
       "</div>"
      ],
      "text/plain": [
       "  product/productId                                      product/title  \\\n",
       "0        B000NLZ4A2  Casio Men's G1710D-7AV G-Shock Ana-Digi Sport ...   \n",
       "1        B000NLZ4A2  Casio Men's G1710D-7AV G-Shock Ana-Digi Sport ...   \n",
       "2        B000NLZ4A2  Casio Men's G1710D-7AV G-Shock Ana-Digi Sport ...   \n",
       "3        B000AIO6RA  Seiko Men's Criteria \"Orange Bullet\" Automatic...   \n",
       "4        B000AIO6RA  Seiko Men's Criteria \"Orange Bullet\" Automatic...   \n",
       "\n",
       "  product/price   review/userId            review/profileName  \\\n",
       "0       unknown   AEM9CCSE7CQ9M      Charlie White \"Tech-Guy\"   \n",
       "1       unknown   AA6ESFOYCNJKG  Marco Antonio Hernandez Lara   \n",
       "2       unknown  A2X0RB3JKV4E7C                    Mary Perez   \n",
       "3       unknown   AIZ446JTDW9B5                  Mike Robbins   \n",
       "4       unknown  A28JAKWAGDDXWF                     Tukwillie   \n",
       "\n",
       "  review/helpfulness review/score review/time  \\\n",
       "0                0/0          4.0  1260230400   \n",
       "1                0/0          4.0  1216339200   \n",
       "2                1/2          5.0  1245024000   \n",
       "3                3/3          5.0  1122422400   \n",
       "4                0/0          4.0  1207958400   \n",
       "\n",
       "                                review/summary  \\\n",
       "0  Unique G-Shock Design, same G-Shock Quality   \n",
       "1                                   Nice Watch   \n",
       "2              Is it battery powered or Solar/   \n",
       "3               2005 Latest Seiko Diver Models   \n",
       "4             Great watch with a few drawbacks   \n",
       "\n",
       "                                         review/text  \n",
       "0  Having owned two previous G-Shocks in my life ...  \n",
       "1  Thats a good watch, light, comfortable, accura...  \n",
       "2  I am ready to purchase this beautiful watch bu...  \n",
       "3  2005 Latest model from Seiko Model SKXA53K2. P...  \n",
       "4  Here are a few observations on one of my favor...  "
      ]
     },
     "execution_count": 49,
     "metadata": {},
     "output_type": "execute_result"
    }
   ],
   "source": [
    "watch = getDF('Watches.txt.gz')\n",
    "watch.head()"
   ]
  },
  {
   "cell_type": "code",
   "execution_count": 50,
   "metadata": {},
   "outputs": [
    {
     "data": {
      "text/plain": [
       "(68356, 10)"
      ]
     },
     "execution_count": 50,
     "metadata": {},
     "output_type": "execute_result"
    }
   ],
   "source": [
    "watch.shape"
   ]
  },
  {
   "cell_type": "code",
   "execution_count": 51,
   "metadata": {
    "scrolled": true
   },
   "outputs": [
    {
     "data": {
      "text/html": [
       "<div>\n",
       "<style scoped>\n",
       "    .dataframe tbody tr th:only-of-type {\n",
       "        vertical-align: middle;\n",
       "    }\n",
       "\n",
       "    .dataframe tbody tr th {\n",
       "        vertical-align: top;\n",
       "    }\n",
       "\n",
       "    .dataframe thead th {\n",
       "        text-align: right;\n",
       "    }\n",
       "</style>\n",
       "<table border=\"1\" class=\"dataframe\">\n",
       "  <thead>\n",
       "    <tr style=\"text-align: right;\">\n",
       "      <th></th>\n",
       "      <th>product/productId</th>\n",
       "      <th>product/title</th>\n",
       "      <th>product/price</th>\n",
       "      <th>review/userId</th>\n",
       "      <th>review/profileName</th>\n",
       "      <th>review/helpfulness</th>\n",
       "      <th>review/score</th>\n",
       "      <th>review/time</th>\n",
       "      <th>review/summary</th>\n",
       "      <th>review/text</th>\n",
       "    </tr>\n",
       "  </thead>\n",
       "  <tbody>\n",
       "    <tr>\n",
       "      <th>count</th>\n",
       "      <td>68356</td>\n",
       "      <td>68356</td>\n",
       "      <td>68356</td>\n",
       "      <td>68356</td>\n",
       "      <td>68356</td>\n",
       "      <td>68356</td>\n",
       "      <td>68356</td>\n",
       "      <td>68356</td>\n",
       "      <td>68356</td>\n",
       "      <td>68356</td>\n",
       "    </tr>\n",
       "    <tr>\n",
       "      <th>unique</th>\n",
       "      <td>10318</td>\n",
       "      <td>10217</td>\n",
       "      <td>1069</td>\n",
       "      <td>62041</td>\n",
       "      <td>57150</td>\n",
       "      <td>799</td>\n",
       "      <td>5</td>\n",
       "      <td>3409</td>\n",
       "      <td>47744</td>\n",
       "      <td>67821</td>\n",
       "    </tr>\n",
       "    <tr>\n",
       "      <th>top</th>\n",
       "      <td>B0006AAS4M</td>\n",
       "      <td>Invicta Men's 8926 Pro Diver Collection Automa...</td>\n",
       "      <td>unknown</td>\n",
       "      <td>unknown</td>\n",
       "      <td>unknown</td>\n",
       "      <td>0/0</td>\n",
       "      <td>5.0</td>\n",
       "      <td>1168300800</td>\n",
       "      <td>Great Watch</td>\n",
       "      <td>I am rather opinionated when it comes to luxur...</td>\n",
       "    </tr>\n",
       "    <tr>\n",
       "      <th>freq</th>\n",
       "      <td>685</td>\n",
       "      <td>685</td>\n",
       "      <td>30795</td>\n",
       "      <td>322</td>\n",
       "      <td>322</td>\n",
       "      <td>32769</td>\n",
       "      <td>39206</td>\n",
       "      <td>498</td>\n",
       "      <td>909</td>\n",
       "      <td>28</td>\n",
       "    </tr>\n",
       "  </tbody>\n",
       "</table>\n",
       "</div>"
      ],
      "text/plain": [
       "       product/productId                                      product/title  \\\n",
       "count              68356                                              68356   \n",
       "unique             10318                                              10217   \n",
       "top           B0006AAS4M  Invicta Men's 8926 Pro Diver Collection Automa...   \n",
       "freq                 685                                                685   \n",
       "\n",
       "       product/price review/userId review/profileName review/helpfulness  \\\n",
       "count          68356         68356              68356              68356   \n",
       "unique          1069         62041              57150                799   \n",
       "top          unknown       unknown            unknown                0/0   \n",
       "freq           30795           322                322              32769   \n",
       "\n",
       "       review/score review/time review/summary  \\\n",
       "count         68356       68356          68356   \n",
       "unique            5        3409          47744   \n",
       "top             5.0  1168300800    Great Watch   \n",
       "freq          39206         498            909   \n",
       "\n",
       "                                              review/text  \n",
       "count                                               68356  \n",
       "unique                                              67821  \n",
       "top     I am rather opinionated when it comes to luxur...  \n",
       "freq                                                   28  "
      ]
     },
     "execution_count": 51,
     "metadata": {},
     "output_type": "execute_result"
    }
   ],
   "source": [
    "watch.describe()"
   ]
  },
  {
   "cell_type": "code",
   "execution_count": 52,
   "metadata": {},
   "outputs": [
    {
     "data": {
      "text/plain": [
       "product/productId     object\n",
       "product/title         object\n",
       "product/price         object\n",
       "review/userId         object\n",
       "review/profileName    object\n",
       "review/helpfulness    object\n",
       "review/score          object\n",
       "review/time           object\n",
       "review/summary        object\n",
       "review/text           object\n",
       "dtype: object"
      ]
     },
     "execution_count": 52,
     "metadata": {},
     "output_type": "execute_result"
    }
   ],
   "source": [
    "watch.dtypes"
   ]
  },
  {
   "cell_type": "code",
   "execution_count": 53,
   "metadata": {},
   "outputs": [
    {
     "data": {
      "text/plain": [
       "product/productId     False\n",
       "product/title         False\n",
       "product/price         False\n",
       "review/userId         False\n",
       "review/profileName    False\n",
       "review/helpfulness    False\n",
       "review/score          False\n",
       "review/time           False\n",
       "review/summary        False\n",
       "review/text           False\n",
       "dtype: bool"
      ]
     },
     "execution_count": 53,
     "metadata": {},
     "output_type": "execute_result"
    }
   ],
   "source": [
    "watch.isnull().any()"
   ]
  },
  {
   "cell_type": "code",
   "execution_count": 54,
   "metadata": {},
   "outputs": [
    {
     "data": {
      "text/plain": [
       "product/productId     0\n",
       "product/title         0\n",
       "product/price         0\n",
       "review/userId         0\n",
       "review/profileName    0\n",
       "review/helpfulness    0\n",
       "review/score          0\n",
       "review/time           0\n",
       "review/summary        0\n",
       "review/text           0\n",
       "dtype: int64"
      ]
     },
     "execution_count": 54,
     "metadata": {},
     "output_type": "execute_result"
    }
   ],
   "source": [
    "watch.isnull().sum()"
   ]
  },
  {
   "cell_type": "code",
   "execution_count": 55,
   "metadata": {},
   "outputs": [],
   "source": [
    "watch.drop_duplicates(keep=False,inplace=True)"
   ]
  },
  {
   "cell_type": "code",
   "execution_count": 56,
   "metadata": {},
   "outputs": [
    {
     "data": {
      "text/plain": [
       "(68300, 10)"
      ]
     },
     "execution_count": 56,
     "metadata": {},
     "output_type": "execute_result"
    }
   ],
   "source": [
    "watch.shape"
   ]
  },
  {
   "cell_type": "code",
   "execution_count": 57,
   "metadata": {},
   "outputs": [],
   "source": [
    "# lets make a copy of the data so that all the transformation is done on the copy and not on the main dataset\n",
    "t3data=watch.copy()"
   ]
  },
  {
   "cell_type": "code",
   "execution_count": 58,
   "metadata": {},
   "outputs": [
    {
     "data": {
      "text/plain": [
       "array(['1.0', '2.0', '3.0', '4.0', '5.0'], dtype=object)"
      ]
     },
     "execution_count": 58,
     "metadata": {},
     "output_type": "execute_result"
    }
   ],
   "source": [
    "np.sort(t3data['review/score'].unique())\n",
    "# ie, The ratings are in range of 1-5"
   ]
  },
  {
   "cell_type": "code",
   "execution_count": 59,
   "metadata": {},
   "outputs": [],
   "source": [
    "t3data=t3data[t3data['product/price'] !='unknown']"
   ]
  },
  {
   "cell_type": "code",
   "execution_count": 60,
   "metadata": {},
   "outputs": [
    {
     "data": {
      "text/plain": [
       "28.92     720\n",
       "79.85     685\n",
       "14.88     684\n",
       "87.00     580\n",
       "89.00     462\n",
       "         ... \n",
       "47.95       1\n",
       "111.99      1\n",
       "18.10       1\n",
       "69.24       1\n",
       "88.05       1\n",
       "Name: product/price, Length: 1068, dtype: int64"
      ]
     },
     "execution_count": 60,
     "metadata": {},
     "output_type": "execute_result"
    }
   ],
   "source": [
    "t3data['product/price'] = pd.to_numeric(t3data['product/price'])\n",
    "t3data['product/price'].value_counts()"
   ]
  },
  {
   "cell_type": "code",
   "execution_count": 61,
   "metadata": {},
   "outputs": [],
   "source": [
    "t3data=t3data[t3data['review/userId'] !='unknown']"
   ]
  },
  {
   "cell_type": "code",
   "execution_count": 62,
   "metadata": {},
   "outputs": [
    {
     "data": {
      "text/plain": [
       "A3W4D8XOGLWUN5    19\n",
       "A6J3I63TER8LZ     11\n",
       "A395RV305GU5TD    10\n",
       "A343U23X9837MU     9\n",
       "A31PDR78F1MNDI     8\n",
       "                  ..\n",
       "A2SKK496BIDVSH     1\n",
       "A3KP1RJXNFUQEO     1\n",
       "A290C65PRCWTDO     1\n",
       "A206CKO3UA1738     1\n",
       "AVWTG4FD3GKW3      1\n",
       "Name: review/userId, Length: 35330, dtype: int64"
      ]
     },
     "execution_count": 62,
     "metadata": {},
     "output_type": "execute_result"
    }
   ],
   "source": [
    "t3data['review/userId'].value_counts()"
   ]
  },
  {
   "cell_type": "code",
   "execution_count": 63,
   "metadata": {},
   "outputs": [
    {
     "data": {
      "text/plain": [
       "5.0    21810\n",
       "4.0     8130\n",
       "3.0     2930\n",
       "1.0     2703\n",
       "2.0     1867\n",
       "Name: review/score, dtype: int64"
      ]
     },
     "execution_count": 63,
     "metadata": {},
     "output_type": "execute_result"
    }
   ],
   "source": [
    "t3data['review/score'] = pd.to_numeric(t3data['review/score'])\n",
    "t3data['review/score'].value_counts()"
   ]
  },
  {
   "cell_type": "code",
   "execution_count": 64,
   "metadata": {
    "scrolled": true
   },
   "outputs": [
    {
     "data": {
      "text/html": [
       "<div>\n",
       "<style scoped>\n",
       "    .dataframe tbody tr th:only-of-type {\n",
       "        vertical-align: middle;\n",
       "    }\n",
       "\n",
       "    .dataframe tbody tr th {\n",
       "        vertical-align: top;\n",
       "    }\n",
       "\n",
       "    .dataframe thead th {\n",
       "        text-align: right;\n",
       "    }\n",
       "</style>\n",
       "<table border=\"1\" class=\"dataframe\">\n",
       "  <thead>\n",
       "    <tr style=\"text-align: right;\">\n",
       "      <th></th>\n",
       "      <th>product/productId</th>\n",
       "      <th>product/title</th>\n",
       "      <th>product/price</th>\n",
       "      <th>review/userId</th>\n",
       "      <th>review/profileName</th>\n",
       "      <th>review/helpfulness</th>\n",
       "      <th>review/score</th>\n",
       "      <th>review/time</th>\n",
       "      <th>review/summary</th>\n",
       "      <th>review/text</th>\n",
       "    </tr>\n",
       "  </thead>\n",
       "  <tbody>\n",
       "    <tr>\n",
       "      <th>14</th>\n",
       "      <td>B000PDESIM</td>\n",
       "      <td>Momentum Men's 1M-DV50S1 M50 DSS Silver Dial B...</td>\n",
       "      <td>294.95</td>\n",
       "      <td>AZMDNMPDWLLI3</td>\n",
       "      <td>D. Berry II</td>\n",
       "      <td>1/1</td>\n",
       "      <td>5.0</td>\n",
       "      <td>1309651200</td>\n",
       "      <td>Tough, Good Looking Watch!</td>\n",
       "      <td>I purchased a Momentum M1 diver's watch for my...</td>\n",
       "    </tr>\n",
       "    <tr>\n",
       "      <th>21</th>\n",
       "      <td>B0007OEQZO</td>\n",
       "      <td>Citizen Women's EG2280-51E Eco-Drive Charm Bra...</td>\n",
       "      <td>99.99</td>\n",
       "      <td>A2WRNZRR891JYA</td>\n",
       "      <td>Jay Sharma \"Jay Sharma\"</td>\n",
       "      <td>0/1</td>\n",
       "      <td>5.0</td>\n",
       "      <td>1190937600</td>\n",
       "      <td>$265 watch at $65!!! its a steal :)</td>\n",
       "      <td>U cant get such a watch at much cheaper price....</td>\n",
       "    </tr>\n",
       "    <tr>\n",
       "      <th>22</th>\n",
       "      <td>B0007OEQZO</td>\n",
       "      <td>Citizen Women's EG2280-51E Eco-Drive Charm Bra...</td>\n",
       "      <td>99.99</td>\n",
       "      <td>A29H29DRLPLQHS</td>\n",
       "      <td>W. YUE</td>\n",
       "      <td>0/1</td>\n",
       "      <td>5.0</td>\n",
       "      <td>1188432000</td>\n",
       "      <td>cute watch</td>\n",
       "      <td>The watch is nice and cute, i love it. but the...</td>\n",
       "    </tr>\n",
       "    <tr>\n",
       "      <th>23</th>\n",
       "      <td>B0007OEQZO</td>\n",
       "      <td>Citizen Women's EG2280-51E Eco-Drive Charm Bra...</td>\n",
       "      <td>99.99</td>\n",
       "      <td>A3P3IZ23ULHRFW</td>\n",
       "      <td>Neko \"Nakamura\"</td>\n",
       "      <td>8/8</td>\n",
       "      <td>5.0</td>\n",
       "      <td>1191542400</td>\n",
       "      <td>What a gorgeous watch!!! (for $65)</td>\n",
       "      <td>I have been looking for a new dress watch for ...</td>\n",
       "    </tr>\n",
       "    <tr>\n",
       "      <th>24</th>\n",
       "      <td>B0007OEQZO</td>\n",
       "      <td>Citizen Women's EG2280-51E Eco-Drive Charm Bra...</td>\n",
       "      <td>99.99</td>\n",
       "      <td>A8VPWEUHAUDMU</td>\n",
       "      <td>Yogesh Dhingra</td>\n",
       "      <td>5/6</td>\n",
       "      <td>5.0</td>\n",
       "      <td>1186358400</td>\n",
       "      <td>Beautiful Eco-Drive watch</td>\n",
       "      <td>It's a nice looking watch, Normally I check wa...</td>\n",
       "    </tr>\n",
       "  </tbody>\n",
       "</table>\n",
       "</div>"
      ],
      "text/plain": [
       "   product/productId                                      product/title  \\\n",
       "14        B000PDESIM  Momentum Men's 1M-DV50S1 M50 DSS Silver Dial B...   \n",
       "21        B0007OEQZO  Citizen Women's EG2280-51E Eco-Drive Charm Bra...   \n",
       "22        B0007OEQZO  Citizen Women's EG2280-51E Eco-Drive Charm Bra...   \n",
       "23        B0007OEQZO  Citizen Women's EG2280-51E Eco-Drive Charm Bra...   \n",
       "24        B0007OEQZO  Citizen Women's EG2280-51E Eco-Drive Charm Bra...   \n",
       "\n",
       "    product/price   review/userId       review/profileName review/helpfulness  \\\n",
       "14         294.95   AZMDNMPDWLLI3              D. Berry II                1/1   \n",
       "21          99.99  A2WRNZRR891JYA  Jay Sharma \"Jay Sharma\"                0/1   \n",
       "22          99.99  A29H29DRLPLQHS                   W. YUE                0/1   \n",
       "23          99.99  A3P3IZ23ULHRFW          Neko \"Nakamura\"                8/8   \n",
       "24          99.99   A8VPWEUHAUDMU           Yogesh Dhingra                5/6   \n",
       "\n",
       "    review/score review/time                       review/summary  \\\n",
       "14           5.0  1309651200           Tough, Good Looking Watch!   \n",
       "21           5.0  1190937600  $265 watch at $65!!! its a steal :)   \n",
       "22           5.0  1188432000                           cute watch   \n",
       "23           5.0  1191542400   What a gorgeous watch!!! (for $65)   \n",
       "24           5.0  1186358400            Beautiful Eco-Drive watch   \n",
       "\n",
       "                                          review/text  \n",
       "14  I purchased a Momentum M1 diver's watch for my...  \n",
       "21  U cant get such a watch at much cheaper price....  \n",
       "22  The watch is nice and cute, i love it. but the...  \n",
       "23  I have been looking for a new dress watch for ...  \n",
       "24  It's a nice looking watch, Normally I check wa...  "
      ]
     },
     "execution_count": 64,
     "metadata": {},
     "output_type": "execute_result"
    }
   ],
   "source": [
    "t3data[\"review/text\"] = t3data[\"review/text\"].apply(lambda x:cont_to_exp(x))\n",
    "t3data[\"review/summary\"] = t3data[\"review/summary\"].apply(lambda x:cont_to_exp(x))\n",
    "t3data.head()"
   ]
  },
  {
   "cell_type": "code",
   "execution_count": 65,
   "metadata": {},
   "outputs": [
    {
     "data": {
      "text/html": [
       "<div>\n",
       "<style scoped>\n",
       "    .dataframe tbody tr th:only-of-type {\n",
       "        vertical-align: middle;\n",
       "    }\n",
       "\n",
       "    .dataframe tbody tr th {\n",
       "        vertical-align: top;\n",
       "    }\n",
       "\n",
       "    .dataframe thead th {\n",
       "        text-align: right;\n",
       "    }\n",
       "</style>\n",
       "<table border=\"1\" class=\"dataframe\">\n",
       "  <thead>\n",
       "    <tr style=\"text-align: right;\">\n",
       "      <th></th>\n",
       "      <th>product/price</th>\n",
       "      <th>review/score</th>\n",
       "    </tr>\n",
       "  </thead>\n",
       "  <tbody>\n",
       "    <tr>\n",
       "      <th>count</th>\n",
       "      <td>37440.000000</td>\n",
       "      <td>37440.000000</td>\n",
       "    </tr>\n",
       "    <tr>\n",
       "      <th>mean</th>\n",
       "      <td>81.783722</td>\n",
       "      <td>4.187954</td>\n",
       "    </tr>\n",
       "    <tr>\n",
       "      <th>std</th>\n",
       "      <td>96.446109</td>\n",
       "      <td>1.214384</td>\n",
       "    </tr>\n",
       "    <tr>\n",
       "      <th>min</th>\n",
       "      <td>0.900000</td>\n",
       "      <td>1.000000</td>\n",
       "    </tr>\n",
       "    <tr>\n",
       "      <th>25%</th>\n",
       "      <td>26.960000</td>\n",
       "      <td>4.000000</td>\n",
       "    </tr>\n",
       "    <tr>\n",
       "      <th>50%</th>\n",
       "      <td>52.700000</td>\n",
       "      <td>5.000000</td>\n",
       "    </tr>\n",
       "    <tr>\n",
       "      <th>75%</th>\n",
       "      <td>94.950000</td>\n",
       "      <td>5.000000</td>\n",
       "    </tr>\n",
       "    <tr>\n",
       "      <th>max</th>\n",
       "      <td>998.000000</td>\n",
       "      <td>5.000000</td>\n",
       "    </tr>\n",
       "  </tbody>\n",
       "</table>\n",
       "</div>"
      ],
      "text/plain": [
       "       product/price  review/score\n",
       "count   37440.000000  37440.000000\n",
       "mean       81.783722      4.187954\n",
       "std        96.446109      1.214384\n",
       "min         0.900000      1.000000\n",
       "25%        26.960000      4.000000\n",
       "50%        52.700000      5.000000\n",
       "75%        94.950000      5.000000\n",
       "max       998.000000      5.000000"
      ]
     },
     "execution_count": 65,
     "metadata": {},
     "output_type": "execute_result"
    }
   ],
   "source": [
    "t3data.describe()"
   ]
  },
  {
   "cell_type": "code",
   "execution_count": 66,
   "metadata": {},
   "outputs": [
    {
     "data": {
      "image/png": "[encoded data removed]",
      "text/plain": [
       "<Figure size 576x432 with 1 Axes>"
      ]
     },
     "metadata": {
      "needs_background": "light"
     },
     "output_type": "display_data"
    }
   ],
   "source": [
    "plt.figure(figsize=(8,6))\n",
    "sns.distplot(t3data['review/score']);"
   ]
  },
  {
   "cell_type": "code",
   "execution_count": 67,
   "metadata": {},
   "outputs": [
    {
     "data": {
      "image/png": "[encoded data removed]",
      "text/plain": [
       "<Figure size 432x288 with 1 Axes>"
      ]
     },
     "metadata": {
      "needs_background": "light"
     },
     "output_type": "display_data"
    }
   ],
   "source": [
    "plt.boxplot(t3data['review/score']);"
   ]
  },
  {
   "cell_type": "code",
   "execution_count": 68,
   "metadata": {},
   "outputs": [
    {
     "data": {
      "image/png": "[encoded data removed]",
      "text/plain": [
       "<Figure size 576x432 with 1 Axes>"
      ]
     },
     "metadata": {
      "needs_background": "light"
     },
     "output_type": "display_data"
    }
   ],
   "source": [
    "plt.figure(figsize=(8,6))\n",
    "sns.countplot(t3data['review/score']);"
   ]
  },
  {
   "cell_type": "markdown",
   "metadata": {},
   "source": [
    "## Cellphone and assesories dataset"
   ]
  },
  {
   "cell_type": "code",
   "execution_count": 69,
   "metadata": {
    "scrolled": true
   },
   "outputs": [
    {
     "data": {
      "text/html": [
       "<div>\n",
       "<style scoped>\n",
       "    .dataframe tbody tr th:only-of-type {\n",
       "        vertical-align: middle;\n",
       "    }\n",
       "\n",
       "    .dataframe tbody tr th {\n",
       "        vertical-align: top;\n",
       "    }\n",
       "\n",
       "    .dataframe thead th {\n",
       "        text-align: right;\n",
       "    }\n",
       "</style>\n",
       "<table border=\"1\" class=\"dataframe\">\n",
       "  <thead>\n",
       "    <tr style=\"text-align: right;\">\n",
       "      <th></th>\n",
       "      <th>product/productId</th>\n",
       "      <th>product/title</th>\n",
       "      <th>product/price</th>\n",
       "      <th>review/userId</th>\n",
       "      <th>review/profileName</th>\n",
       "      <th>review/helpfulness</th>\n",
       "      <th>review/score</th>\n",
       "      <th>review/time</th>\n",
       "      <th>review/summary</th>\n",
       "      <th>review/text</th>\n",
       "    </tr>\n",
       "  </thead>\n",
       "  <tbody>\n",
       "    <tr>\n",
       "      <th>0</th>\n",
       "      <td>B000JVER7W</td>\n",
       "      <td>Mobile Action MA730 Handset Manager - Bluetoot...</td>\n",
       "      <td>unknown</td>\n",
       "      <td>A1RXYH9ROBAKEZ</td>\n",
       "      <td>A. Igoe</td>\n",
       "      <td>0/0</td>\n",
       "      <td>1.0</td>\n",
       "      <td>1233360000</td>\n",
       "      <td>Don't buy!</td>\n",
       "      <td>First of all, the company took my money and se...</td>\n",
       "    </tr>\n",
       "    <tr>\n",
       "      <th>1</th>\n",
       "      <td>B000JVER7W</td>\n",
       "      <td>Mobile Action MA730 Handset Manager - Bluetoot...</td>\n",
       "      <td>unknown</td>\n",
       "      <td>A7L6E1KSJTAJ6</td>\n",
       "      <td>Steven Martz</td>\n",
       "      <td>0/0</td>\n",
       "      <td>5.0</td>\n",
       "      <td>1191456000</td>\n",
       "      <td>Mobile Action Bluetooth Mobile Phone Tool Soft...</td>\n",
       "      <td>Great product- tried others and this is a ten ...</td>\n",
       "    </tr>\n",
       "    <tr>\n",
       "      <th>2</th>\n",
       "      <td>B000JVER7W</td>\n",
       "      <td>Mobile Action MA730 Handset Manager - Bluetoot...</td>\n",
       "      <td>unknown</td>\n",
       "      <td>A2NOQQ7I6PU7CW</td>\n",
       "      <td>Daniel M. Johnson \"rocknbluesharp\"</td>\n",
       "      <td>0/0</td>\n",
       "      <td>4.0</td>\n",
       "      <td>1186704000</td>\n",
       "      <td>good</td>\n",
       "      <td>works real good....a little hard to set up...w...</td>\n",
       "    </tr>\n",
       "    <tr>\n",
       "      <th>3</th>\n",
       "      <td>B000924R5I</td>\n",
       "      <td>USB Data Cable for Sony-Ericsson Z600, Z500, Z...</td>\n",
       "      <td>unknown</td>\n",
       "      <td>A29Q0CLOF0U8BN</td>\n",
       "      <td>E. Owens</td>\n",
       "      <td>4/5</td>\n",
       "      <td>4.0</td>\n",
       "      <td>1146182400</td>\n",
       "      <td>No instructions included...</td>\n",
       "      <td>The price was right for this cable ($11.95+$4....</td>\n",
       "    </tr>\n",
       "    <tr>\n",
       "      <th>4</th>\n",
       "      <td>B000924R5I</td>\n",
       "      <td>USB Data Cable for Sony-Ericsson Z600, Z500, Z...</td>\n",
       "      <td>unknown</td>\n",
       "      <td>ANNHJND2MHUI3</td>\n",
       "      <td>Isaac Salas \"=CRBF=gB^link\"</td>\n",
       "      <td>0/0</td>\n",
       "      <td>1.0</td>\n",
       "      <td>1173657600</td>\n",
       "      <td>NOT A DATA CABLE</td>\n",
       "      <td>this is NOT a DATA CABLE this is only a USB ch...</td>\n",
       "    </tr>\n",
       "  </tbody>\n",
       "</table>\n",
       "</div>"
      ],
      "text/plain": [
       "  product/productId                                      product/title  \\\n",
       "0        B000JVER7W  Mobile Action MA730 Handset Manager - Bluetoot...   \n",
       "1        B000JVER7W  Mobile Action MA730 Handset Manager - Bluetoot...   \n",
       "2        B000JVER7W  Mobile Action MA730 Handset Manager - Bluetoot...   \n",
       "3        B000924R5I  USB Data Cable for Sony-Ericsson Z600, Z500, Z...   \n",
       "4        B000924R5I  USB Data Cable for Sony-Ericsson Z600, Z500, Z...   \n",
       "\n",
       "  product/price   review/userId                  review/profileName  \\\n",
       "0       unknown  A1RXYH9ROBAKEZ                             A. Igoe   \n",
       "1       unknown   A7L6E1KSJTAJ6                        Steven Martz   \n",
       "2       unknown  A2NOQQ7I6PU7CW  Daniel M. Johnson \"rocknbluesharp\"   \n",
       "3       unknown  A29Q0CLOF0U8BN                            E. Owens   \n",
       "4       unknown   ANNHJND2MHUI3         Isaac Salas \"=CRBF=gB^link\"   \n",
       "\n",
       "  review/helpfulness review/score review/time  \\\n",
       "0                0/0          1.0  1233360000   \n",
       "1                0/0          5.0  1191456000   \n",
       "2                0/0          4.0  1186704000   \n",
       "3                4/5          4.0  1146182400   \n",
       "4                0/0          1.0  1173657600   \n",
       "\n",
       "                                      review/summary  \\\n",
       "0                                         Don't buy!   \n",
       "1  Mobile Action Bluetooth Mobile Phone Tool Soft...   \n",
       "2                                               good   \n",
       "3                        No instructions included...   \n",
       "4                                   NOT A DATA CABLE   \n",
       "\n",
       "                                         review/text  \n",
       "0  First of all, the company took my money and se...  \n",
       "1  Great product- tried others and this is a ten ...  \n",
       "2  works real good....a little hard to set up...w...  \n",
       "3  The price was right for this cable ($11.95+$4....  \n",
       "4  this is NOT a DATA CABLE this is only a USB ch...  "
      ]
     },
     "execution_count": 69,
     "metadata": {},
     "output_type": "execute_result"
    }
   ],
   "source": [
    "d4 = getDF('Cell_Phones_&_Accessories.txt.gz')\n",
    "d4.head()"
   ]
  },
  {
   "cell_type": "code",
   "execution_count": 70,
   "metadata": {},
   "outputs": [
    {
     "data": {
      "text/plain": [
       "(78930, 10)"
      ]
     },
     "execution_count": 70,
     "metadata": {},
     "output_type": "execute_result"
    }
   ],
   "source": [
    "d4.shape"
   ]
  },
  {
   "cell_type": "code",
   "execution_count": 71,
   "metadata": {
    "scrolled": true
   },
   "outputs": [
    {
     "data": {
      "text/html": [
       "<div>\n",
       "<style scoped>\n",
       "    .dataframe tbody tr th:only-of-type {\n",
       "        vertical-align: middle;\n",
       "    }\n",
       "\n",
       "    .dataframe tbody tr th {\n",
       "        vertical-align: top;\n",
       "    }\n",
       "\n",
       "    .dataframe thead th {\n",
       "        text-align: right;\n",
       "    }\n",
       "</style>\n",
       "<table border=\"1\" class=\"dataframe\">\n",
       "  <thead>\n",
       "    <tr style=\"text-align: right;\">\n",
       "      <th></th>\n",
       "      <th>product/productId</th>\n",
       "      <th>product/title</th>\n",
       "      <th>product/price</th>\n",
       "      <th>review/userId</th>\n",
       "      <th>review/profileName</th>\n",
       "      <th>review/helpfulness</th>\n",
       "      <th>review/score</th>\n",
       "      <th>review/time</th>\n",
       "      <th>review/summary</th>\n",
       "      <th>review/text</th>\n",
       "    </tr>\n",
       "  </thead>\n",
       "  <tbody>\n",
       "    <tr>\n",
       "      <th>count</th>\n",
       "      <td>78930</td>\n",
       "      <td>78930</td>\n",
       "      <td>78930</td>\n",
       "      <td>78930</td>\n",
       "      <td>78930</td>\n",
       "      <td>78930</td>\n",
       "      <td>78930</td>\n",
       "      <td>78930</td>\n",
       "      <td>78930</td>\n",
       "      <td>78930</td>\n",
       "    </tr>\n",
       "    <tr>\n",
       "      <th>unique</th>\n",
       "      <td>7438</td>\n",
       "      <td>7150</td>\n",
       "      <td>944</td>\n",
       "      <td>68041</td>\n",
       "      <td>63370</td>\n",
       "      <td>1305</td>\n",
       "      <td>5</td>\n",
       "      <td>4431</td>\n",
       "      <td>60321</td>\n",
       "      <td>77390</td>\n",
       "    </tr>\n",
       "    <tr>\n",
       "      <th>top</th>\n",
       "      <td>B0009B0IX4</td>\n",
       "      <td>Plantronics Voyager 510 Bluetooth Headset [Ret...</td>\n",
       "      <td>unknown</td>\n",
       "      <td>unknown</td>\n",
       "      <td>unknown</td>\n",
       "      <td>0/0</td>\n",
       "      <td>5.0</td>\n",
       "      <td>1168300800</td>\n",
       "      <td>Great Product</td>\n",
       "      <td>I had been very happy with my Motorola phone u...</td>\n",
       "    </tr>\n",
       "    <tr>\n",
       "      <th>freq</th>\n",
       "      <td>3443</td>\n",
       "      <td>3443</td>\n",
       "      <td>43287</td>\n",
       "      <td>2276</td>\n",
       "      <td>2276</td>\n",
       "      <td>34920</td>\n",
       "      <td>30253</td>\n",
       "      <td>519</td>\n",
       "      <td>211</td>\n",
       "      <td>20</td>\n",
       "    </tr>\n",
       "  </tbody>\n",
       "</table>\n",
       "</div>"
      ],
      "text/plain": [
       "       product/productId                                      product/title  \\\n",
       "count              78930                                              78930   \n",
       "unique              7438                                               7150   \n",
       "top           B0009B0IX4  Plantronics Voyager 510 Bluetooth Headset [Ret...   \n",
       "freq                3443                                               3443   \n",
       "\n",
       "       product/price review/userId review/profileName review/helpfulness  \\\n",
       "count          78930         78930              78930              78930   \n",
       "unique           944         68041              63370               1305   \n",
       "top          unknown       unknown            unknown                0/0   \n",
       "freq           43287          2276               2276              34920   \n",
       "\n",
       "       review/score review/time review/summary  \\\n",
       "count         78930       78930          78930   \n",
       "unique            5        4431          60321   \n",
       "top             5.0  1168300800  Great Product   \n",
       "freq          30253         519            211   \n",
       "\n",
       "                                              review/text  \n",
       "count                                               78930  \n",
       "unique                                              77390  \n",
       "top     I had been very happy with my Motorola phone u...  \n",
       "freq                                                   20  "
      ]
     },
     "execution_count": 71,
     "metadata": {},
     "output_type": "execute_result"
    }
   ],
   "source": [
    "d4.describe()"
   ]
  },
  {
   "cell_type": "code",
   "execution_count": 72,
   "metadata": {},
   "outputs": [
    {
     "data": {
      "text/plain": [
       "product/productId     object\n",
       "product/title         object\n",
       "product/price         object\n",
       "review/userId         object\n",
       "review/profileName    object\n",
       "review/helpfulness    object\n",
       "review/score          object\n",
       "review/time           object\n",
       "review/summary        object\n",
       "review/text           object\n",
       "dtype: object"
      ]
     },
     "execution_count": 72,
     "metadata": {},
     "output_type": "execute_result"
    }
   ],
   "source": [
    "d4.dtypes"
   ]
  },
  {
   "cell_type": "code",
   "execution_count": 73,
   "metadata": {},
   "outputs": [
    {
     "data": {
      "text/plain": [
       "product/productId     False\n",
       "product/title         False\n",
       "product/price         False\n",
       "review/userId         False\n",
       "review/profileName    False\n",
       "review/helpfulness    False\n",
       "review/score          False\n",
       "review/time           False\n",
       "review/summary        False\n",
       "review/text           False\n",
       "dtype: bool"
      ]
     },
     "execution_count": 73,
     "metadata": {},
     "output_type": "execute_result"
    }
   ],
   "source": [
    "d4.isnull().any()"
   ]
  },
  {
   "cell_type": "code",
   "execution_count": 74,
   "metadata": {},
   "outputs": [
    {
     "data": {
      "text/plain": [
       "product/productId     0\n",
       "product/title         0\n",
       "product/price         0\n",
       "review/userId         0\n",
       "review/profileName    0\n",
       "review/helpfulness    0\n",
       "review/score          0\n",
       "review/time           0\n",
       "review/summary        0\n",
       "review/text           0\n",
       "dtype: int64"
      ]
     },
     "execution_count": 74,
     "metadata": {},
     "output_type": "execute_result"
    }
   ],
   "source": [
    "d4.isnull().sum()"
   ]
  },
  {
   "cell_type": "code",
   "execution_count": 75,
   "metadata": {},
   "outputs": [],
   "source": [
    "d4.drop_duplicates(keep=False,inplace=True)"
   ]
  },
  {
   "cell_type": "code",
   "execution_count": 76,
   "metadata": {},
   "outputs": [
    {
     "data": {
      "text/plain": [
       "(78861, 10)"
      ]
     },
     "execution_count": 76,
     "metadata": {},
     "output_type": "execute_result"
    }
   ],
   "source": [
    "d4.shape"
   ]
  },
  {
   "cell_type": "code",
   "execution_count": 77,
   "metadata": {},
   "outputs": [],
   "source": [
    "# lets make a copy of the data so that all the transformation is done on the copy and not on the main dataset\n",
    "t4data=d4.copy()"
   ]
  },
  {
   "cell_type": "code",
   "execution_count": 78,
   "metadata": {},
   "outputs": [
    {
     "data": {
      "text/plain": [
       "array(['1.0', '2.0', '3.0', '4.0', '5.0'], dtype=object)"
      ]
     },
     "execution_count": 78,
     "metadata": {},
     "output_type": "execute_result"
    }
   ],
   "source": [
    "np.sort(t4data['review/score'].unique())\n",
    "# ie, The ratings are in range of 1-5"
   ]
  },
  {
   "cell_type": "code",
   "execution_count": 79,
   "metadata": {},
   "outputs": [],
   "source": [
    "t4data=t4data[t4data['product/price'] !='unknown']"
   ]
  },
  {
   "cell_type": "code",
   "execution_count": 80,
   "metadata": {},
   "outputs": [
    {
     "data": {
      "text/plain": [
       "89.99    3452\n",
       "29.99    1099\n",
       "6.99      845\n",
       "19.99     755\n",
       "4.51      722\n",
       "         ... \n",
       "26.00       1\n",
       "1.56        1\n",
       "14.53       1\n",
       "21.75       1\n",
       "5.04        1\n",
       "Name: product/price, Length: 943, dtype: int64"
      ]
     },
     "execution_count": 80,
     "metadata": {},
     "output_type": "execute_result"
    }
   ],
   "source": [
    "t4data['product/price'] = pd.to_numeric(t4data['product/price'])\n",
    "t4data['product/price'].value_counts()"
   ]
  },
  {
   "cell_type": "code",
   "execution_count": 81,
   "metadata": {},
   "outputs": [],
   "source": [
    "t4data=t4data[t4data['review/userId'] !='unknown']"
   ]
  },
  {
   "cell_type": "code",
   "execution_count": 82,
   "metadata": {},
   "outputs": [
    {
     "data": {
      "text/plain": [
       "A1RCGK44YXNBBB    28\n",
       "A4IX5FZOWQVQN     25\n",
       "A1SFCPHZK18NEH    20\n",
       "A3ILVGZSKUCC5Z    16\n",
       "A3JHC8O59WDHFZ    10\n",
       "                  ..\n",
       "A3LFO0XEMALECW     1\n",
       "A3HXJ3FAM3DAM3     1\n",
       "A1M7LP86HQYTKQ     1\n",
       "A2Q4O4U90QX6CG     1\n",
       "A2A9W36JPK9J19     1\n",
       "Name: review/userId, Length: 33064, dtype: int64"
      ]
     },
     "execution_count": 82,
     "metadata": {},
     "output_type": "execute_result"
    }
   ],
   "source": [
    "t4data['review/userId'].value_counts()"
   ]
  },
  {
   "cell_type": "code",
   "execution_count": 83,
   "metadata": {},
   "outputs": [
    {
     "data": {
      "text/plain": [
       "5.0    15395\n",
       "4.0     7319\n",
       "1.0     6337\n",
       "3.0     3463\n",
       "2.0     2825\n",
       "Name: review/score, dtype: int64"
      ]
     },
     "execution_count": 83,
     "metadata": {},
     "output_type": "execute_result"
    }
   ],
   "source": [
    "t4data['review/score'] = pd.to_numeric(t4data['review/score'])\n",
    "t4data['review/score'].value_counts()"
   ]
  },
  {
   "cell_type": "code",
   "execution_count": 84,
   "metadata": {
    "scrolled": true
   },
   "outputs": [
    {
     "data": {
      "text/html": [
       "<div>\n",
       "<style scoped>\n",
       "    .dataframe tbody tr th:only-of-type {\n",
       "        vertical-align: middle;\n",
       "    }\n",
       "\n",
       "    .dataframe tbody tr th {\n",
       "        vertical-align: top;\n",
       "    }\n",
       "\n",
       "    .dataframe thead th {\n",
       "        text-align: right;\n",
       "    }\n",
       "</style>\n",
       "<table border=\"1\" class=\"dataframe\">\n",
       "  <thead>\n",
       "    <tr style=\"text-align: right;\">\n",
       "      <th></th>\n",
       "      <th>product/productId</th>\n",
       "      <th>product/title</th>\n",
       "      <th>product/price</th>\n",
       "      <th>review/userId</th>\n",
       "      <th>review/profileName</th>\n",
       "      <th>review/helpfulness</th>\n",
       "      <th>review/score</th>\n",
       "      <th>review/time</th>\n",
       "      <th>review/summary</th>\n",
       "      <th>review/text</th>\n",
       "    </tr>\n",
       "  </thead>\n",
       "  <tbody>\n",
       "    <tr>\n",
       "      <th>19</th>\n",
       "      <td>B000B6MY2U</td>\n",
       "      <td>Samsung T809 M620 i607 U420 A303 A717 Car Char...</td>\n",
       "      <td>6.75</td>\n",
       "      <td>A1RCOK89DON3YN</td>\n",
       "      <td>L. Henry</td>\n",
       "      <td>1/1</td>\n",
       "      <td>5.0</td>\n",
       "      <td>1212364800</td>\n",
       "      <td>Great Buy!!</td>\n",
       "      <td>I thought this item was great for the money. I...</td>\n",
       "    </tr>\n",
       "    <tr>\n",
       "      <th>20</th>\n",
       "      <td>B000B6MY2U</td>\n",
       "      <td>Samsung T809 M620 i607 U420 A303 A717 Car Char...</td>\n",
       "      <td>6.75</td>\n",
       "      <td>A1IDTV3JKFOLVT</td>\n",
       "      <td>Rex Moncrief \"www.smartergeek.com\"</td>\n",
       "      <td>0/0</td>\n",
       "      <td>4.0</td>\n",
       "      <td>1222732800</td>\n",
       "      <td>Charger works great</td>\n",
       "      <td>The charger works fine as advertised. The loca...</td>\n",
       "    </tr>\n",
       "    <tr>\n",
       "      <th>30</th>\n",
       "      <td>B00004WINT</td>\n",
       "      <td>Jabra EarGels - Clear</td>\n",
       "      <td>9.70</td>\n",
       "      <td>A29UBSC2VMDUL4</td>\n",
       "      <td>Jason \"Jason\"</td>\n",
       "      <td>9/10</td>\n",
       "      <td>5.0</td>\n",
       "      <td>1213401600</td>\n",
       "      <td>Jawbone Ear Fix</td>\n",
       "      <td>If you have had an issue with the Jawbone head...</td>\n",
       "    </tr>\n",
       "    <tr>\n",
       "      <th>31</th>\n",
       "      <td>B00004WINT</td>\n",
       "      <td>Jabra EarGels - Clear</td>\n",
       "      <td>9.70</td>\n",
       "      <td>A7QCUJOH9CIYR</td>\n",
       "      <td>Dragonspeak \"khsdragon\"</td>\n",
       "      <td>6/6</td>\n",
       "      <td>5.0</td>\n",
       "      <td>1187568000</td>\n",
       "      <td>Jabra gels fit well on my aliph jawbone after ...</td>\n",
       "      <td>I accidentally tore the original factory bud o...</td>\n",
       "    </tr>\n",
       "    <tr>\n",
       "      <th>32</th>\n",
       "      <td>B00004WINT</td>\n",
       "      <td>Jabra EarGels - Clear</td>\n",
       "      <td>9.70</td>\n",
       "      <td>AX73D8OAWC7TF</td>\n",
       "      <td>Nathaniel A. McLaughlin \"Blast Pattern\"</td>\n",
       "      <td>6/6</td>\n",
       "      <td>4.0</td>\n",
       "      <td>1197504000</td>\n",
       "      <td>Fit is execellent.</td>\n",
       "      <td>Used these to replace the painfuly uncomfortab...</td>\n",
       "    </tr>\n",
       "  </tbody>\n",
       "</table>\n",
       "</div>"
      ],
      "text/plain": [
       "   product/productId                                      product/title  \\\n",
       "19        B000B6MY2U  Samsung T809 M620 i607 U420 A303 A717 Car Char...   \n",
       "20        B000B6MY2U  Samsung T809 M620 i607 U420 A303 A717 Car Char...   \n",
       "30        B00004WINT                              Jabra EarGels - Clear   \n",
       "31        B00004WINT                              Jabra EarGels - Clear   \n",
       "32        B00004WINT                              Jabra EarGels - Clear   \n",
       "\n",
       "    product/price   review/userId                       review/profileName  \\\n",
       "19           6.75  A1RCOK89DON3YN                                 L. Henry   \n",
       "20           6.75  A1IDTV3JKFOLVT       Rex Moncrief \"www.smartergeek.com\"   \n",
       "30           9.70  A29UBSC2VMDUL4                            Jason \"Jason\"   \n",
       "31           9.70   A7QCUJOH9CIYR                  Dragonspeak \"khsdragon\"   \n",
       "32           9.70   AX73D8OAWC7TF  Nathaniel A. McLaughlin \"Blast Pattern\"   \n",
       "\n",
       "   review/helpfulness  review/score review/time  \\\n",
       "19                1/1           5.0  1212364800   \n",
       "20                0/0           4.0  1222732800   \n",
       "30               9/10           5.0  1213401600   \n",
       "31                6/6           5.0  1187568000   \n",
       "32                6/6           4.0  1197504000   \n",
       "\n",
       "                                       review/summary  \\\n",
       "19                                        Great Buy!!   \n",
       "20                                Charger works great   \n",
       "30                                    Jawbone Ear Fix   \n",
       "31  Jabra gels fit well on my aliph jawbone after ...   \n",
       "32                                 Fit is execellent.   \n",
       "\n",
       "                                          review/text  \n",
       "19  I thought this item was great for the money. I...  \n",
       "20  The charger works fine as advertised. The loca...  \n",
       "30  If you have had an issue with the Jawbone head...  \n",
       "31  I accidentally tore the original factory bud o...  \n",
       "32  Used these to replace the painfuly uncomfortab...  "
      ]
     },
     "execution_count": 84,
     "metadata": {},
     "output_type": "execute_result"
    }
   ],
   "source": [
    "t4data[\"review/text\"] = t4data[\"review/text\"].apply(lambda x:cont_to_exp(x))\n",
    "t4data[\"review/summary\"] = t4data[\"review/summary\"].apply(lambda x:cont_to_exp(x))\n",
    "t4data.head()"
   ]
  },
  {
   "cell_type": "code",
   "execution_count": 85,
   "metadata": {},
   "outputs": [
    {
     "data": {
      "text/html": [
       "<div>\n",
       "<style scoped>\n",
       "    .dataframe tbody tr th:only-of-type {\n",
       "        vertical-align: middle;\n",
       "    }\n",
       "\n",
       "    .dataframe tbody tr th {\n",
       "        vertical-align: top;\n",
       "    }\n",
       "\n",
       "    .dataframe thead th {\n",
       "        text-align: right;\n",
       "    }\n",
       "</style>\n",
       "<table border=\"1\" class=\"dataframe\">\n",
       "  <thead>\n",
       "    <tr style=\"text-align: right;\">\n",
       "      <th></th>\n",
       "      <th>product/price</th>\n",
       "      <th>review/score</th>\n",
       "    </tr>\n",
       "  </thead>\n",
       "  <tbody>\n",
       "    <tr>\n",
       "      <th>count</th>\n",
       "      <td>35339.000000</td>\n",
       "      <td>35339.000000</td>\n",
       "    </tr>\n",
       "    <tr>\n",
       "      <th>mean</th>\n",
       "      <td>31.963258</td>\n",
       "      <td>3.639803</td>\n",
       "    </tr>\n",
       "    <tr>\n",
       "      <th>std</th>\n",
       "      <td>55.750532</td>\n",
       "      <td>1.528921</td>\n",
       "    </tr>\n",
       "    <tr>\n",
       "      <th>min</th>\n",
       "      <td>0.010000</td>\n",
       "      <td>1.000000</td>\n",
       "    </tr>\n",
       "    <tr>\n",
       "      <th>25%</th>\n",
       "      <td>4.690000</td>\n",
       "      <td>2.000000</td>\n",
       "    </tr>\n",
       "    <tr>\n",
       "      <th>50%</th>\n",
       "      <td>9.700000</td>\n",
       "      <td>4.000000</td>\n",
       "    </tr>\n",
       "    <tr>\n",
       "      <th>75%</th>\n",
       "      <td>34.990000</td>\n",
       "      <td>5.000000</td>\n",
       "    </tr>\n",
       "    <tr>\n",
       "      <th>max</th>\n",
       "      <td>569.950000</td>\n",
       "      <td>5.000000</td>\n",
       "    </tr>\n",
       "  </tbody>\n",
       "</table>\n",
       "</div>"
      ],
      "text/plain": [
       "       product/price  review/score\n",
       "count   35339.000000  35339.000000\n",
       "mean       31.963258      3.639803\n",
       "std        55.750532      1.528921\n",
       "min         0.010000      1.000000\n",
       "25%         4.690000      2.000000\n",
       "50%         9.700000      4.000000\n",
       "75%        34.990000      5.000000\n",
       "max       569.950000      5.000000"
      ]
     },
     "execution_count": 85,
     "metadata": {},
     "output_type": "execute_result"
    }
   ],
   "source": [
    "t4data.describe()"
   ]
  },
  {
   "cell_type": "code",
   "execution_count": 86,
   "metadata": {},
   "outputs": [
    {
     "data": {
      "image/png": "[encoded data removed]",
      "text/plain": [
       "<Figure size 576x432 with 1 Axes>"
      ]
     },
     "metadata": {
      "needs_background": "light"
     },
     "output_type": "display_data"
    }
   ],
   "source": [
    "plt.figure(figsize=(8,6))\n",
    "sns.distplot(t4data['review/score']);"
   ]
  },
  {
   "cell_type": "code",
   "execution_count": 87,
   "metadata": {},
   "outputs": [
    {
     "data": {
      "image/png": "[encoded data removed]",
      "text/plain": [
       "<Figure size 432x288 with 1 Axes>"
      ]
     },
     "metadata": {
      "needs_background": "light"
     },
     "output_type": "display_data"
    }
   ],
   "source": [
    "plt.boxplot(t4data['review/score']);"
   ]
  },
  {
   "cell_type": "code",
   "execution_count": 88,
   "metadata": {},
   "outputs": [
    {
     "data": {
      "image/png": "[encoded data removed]",
      "text/plain": [
       "<Figure size 576x432 with 1 Axes>"
      ]
     },
     "metadata": {
      "needs_background": "light"
     },
     "output_type": "display_data"
    }
   ],
   "source": [
    "plt.figure(figsize=(8,6))\n",
    "sns.countplot(t4data['review/score']);"
   ]
  },
  {
   "cell_type": "markdown",
   "metadata": {},
   "source": [
    "## Sports and Outdoors Dataset"
   ]
  },
  {
   "cell_type": "code",
   "execution_count": 89,
   "metadata": {
    "scrolled": true
   },
   "outputs": [
    {
     "data": {
      "text/html": [
       "<div>\n",
       "<style scoped>\n",
       "    .dataframe tbody tr th:only-of-type {\n",
       "        vertical-align: middle;\n",
       "    }\n",
       "\n",
       "    .dataframe tbody tr th {\n",
       "        vertical-align: top;\n",
       "    }\n",
       "\n",
       "    .dataframe thead th {\n",
       "        text-align: right;\n",
       "    }\n",
       "</style>\n",
       "<table border=\"1\" class=\"dataframe\">\n",
       "  <thead>\n",
       "    <tr style=\"text-align: right;\">\n",
       "      <th></th>\n",
       "      <th>product/productId</th>\n",
       "      <th>product/title</th>\n",
       "      <th>product/price</th>\n",
       "      <th>review/userId</th>\n",
       "      <th>review/profileName</th>\n",
       "      <th>review/helpfulness</th>\n",
       "      <th>review/score</th>\n",
       "      <th>review/time</th>\n",
       "      <th>review/summary</th>\n",
       "      <th>review/text</th>\n",
       "    </tr>\n",
       "  </thead>\n",
       "  <tbody>\n",
       "    <tr>\n",
       "      <th>0</th>\n",
       "      <td>B000LCX1FS</td>\n",
       "      <td>SC Sports Green Bay Packers 4 Inch Glass Footb...</td>\n",
       "      <td>unknown</td>\n",
       "      <td>A3S63BBKSZZZQZ</td>\n",
       "      <td>Lwest</td>\n",
       "      <td>0/0</td>\n",
       "      <td>5.0</td>\n",
       "      <td>1309910400</td>\n",
       "      <td>Great gift!</td>\n",
       "      <td>This ornament was ordered as a gift and did no...</td>\n",
       "    </tr>\n",
       "    <tr>\n",
       "      <th>1</th>\n",
       "      <td>B000F8L3I0</td>\n",
       "      <td>NFL Oakland Raiders Cotton Robe (Black, One Size)</td>\n",
       "      <td>80.36</td>\n",
       "      <td>A3UWCRB86NEVOC</td>\n",
       "      <td>jennifer</td>\n",
       "      <td>0/0</td>\n",
       "      <td>4.0</td>\n",
       "      <td>1358640000</td>\n",
       "      <td>Durable</td>\n",
       "      <td>Very thick and heavy, not fluffy but good for ...</td>\n",
       "    </tr>\n",
       "    <tr>\n",
       "      <th>2</th>\n",
       "      <td>B000F8L3I0</td>\n",
       "      <td>NFL Oakland Raiders Cotton Robe (Black, One Size)</td>\n",
       "      <td>80.36</td>\n",
       "      <td>A1GJS7NT0KY3PK</td>\n",
       "      <td>Kristina Perez</td>\n",
       "      <td>0/0</td>\n",
       "      <td>5.0</td>\n",
       "      <td>1358121600</td>\n",
       "      <td>My fiance loooooooooooooves his robe</td>\n",
       "      <td>My fiance loooooooooooooves his robe.He hates ...</td>\n",
       "    </tr>\n",
       "    <tr>\n",
       "      <th>3</th>\n",
       "      <td>B000F8L3IK</td>\n",
       "      <td>Mcarthur San Diego Chargers Bath Robe</td>\n",
       "      <td>80.36</td>\n",
       "      <td>A2PF4C1R6OALE9</td>\n",
       "      <td>Eric Newhart</td>\n",
       "      <td>0/0</td>\n",
       "      <td>4.0</td>\n",
       "      <td>1358640000</td>\n",
       "      <td>High quality, but very large.</td>\n",
       "      <td>Definitely not disappointed with the quality o...</td>\n",
       "    </tr>\n",
       "    <tr>\n",
       "      <th>4</th>\n",
       "      <td>B0009Q5XOS</td>\n",
       "      <td>adidas Men's 3-Stripe Fleece Pant,Black/White,...</td>\n",
       "      <td>unknown</td>\n",
       "      <td>A1UIXA657W8LWT</td>\n",
       "      <td>J. Williams</td>\n",
       "      <td>0/0</td>\n",
       "      <td>4.0</td>\n",
       "      <td>1294531200</td>\n",
       "      <td>comfy,warm.. but run big</td>\n",
       "      <td>just like the title says. Warm, comfy but run ...</td>\n",
       "    </tr>\n",
       "  </tbody>\n",
       "</table>\n",
       "</div>"
      ],
      "text/plain": [
       "  product/productId                                      product/title  \\\n",
       "0        B000LCX1FS  SC Sports Green Bay Packers 4 Inch Glass Footb...   \n",
       "1        B000F8L3I0  NFL Oakland Raiders Cotton Robe (Black, One Size)   \n",
       "2        B000F8L3I0  NFL Oakland Raiders Cotton Robe (Black, One Size)   \n",
       "3        B000F8L3IK              Mcarthur San Diego Chargers Bath Robe   \n",
       "4        B0009Q5XOS  adidas Men's 3-Stripe Fleece Pant,Black/White,...   \n",
       "\n",
       "  product/price   review/userId review/profileName review/helpfulness  \\\n",
       "0       unknown  A3S63BBKSZZZQZ              Lwest                0/0   \n",
       "1         80.36  A3UWCRB86NEVOC           jennifer                0/0   \n",
       "2         80.36  A1GJS7NT0KY3PK     Kristina Perez                0/0   \n",
       "3         80.36  A2PF4C1R6OALE9       Eric Newhart                0/0   \n",
       "4       unknown  A1UIXA657W8LWT        J. Williams                0/0   \n",
       "\n",
       "  review/score review/time                        review/summary  \\\n",
       "0          5.0  1309910400                           Great gift!   \n",
       "1          4.0  1358640000                               Durable   \n",
       "2          5.0  1358121600  My fiance loooooooooooooves his robe   \n",
       "3          4.0  1358640000         High quality, but very large.   \n",
       "4          4.0  1294531200              comfy,warm.. but run big   \n",
       "\n",
       "                                         review/text  \n",
       "0  This ornament was ordered as a gift and did no...  \n",
       "1  Very thick and heavy, not fluffy but good for ...  \n",
       "2  My fiance loooooooooooooves his robe.He hates ...  \n",
       "3  Definitely not disappointed with the quality o...  \n",
       "4  just like the title says. Warm, comfy but run ...  "
      ]
     },
     "execution_count": 89,
     "metadata": {},
     "output_type": "execute_result"
    }
   ],
   "source": [
    "d5 = getDF('Sports_&_Outdoors.txt.gz')\n",
    "d5.head()"
   ]
  },
  {
   "cell_type": "code",
   "execution_count": 90,
   "metadata": {},
   "outputs": [
    {
     "data": {
      "text/plain": [
       "(510991, 10)"
      ]
     },
     "execution_count": 90,
     "metadata": {},
     "output_type": "execute_result"
    }
   ],
   "source": [
    "d5.shape"
   ]
  },
  {
   "cell_type": "code",
   "execution_count": 91,
   "metadata": {
    "scrolled": true
   },
   "outputs": [
    {
     "data": {
      "text/html": [
       "<div>\n",
       "<style scoped>\n",
       "    .dataframe tbody tr th:only-of-type {\n",
       "        vertical-align: middle;\n",
       "    }\n",
       "\n",
       "    .dataframe tbody tr th {\n",
       "        vertical-align: top;\n",
       "    }\n",
       "\n",
       "    .dataframe thead th {\n",
       "        text-align: right;\n",
       "    }\n",
       "</style>\n",
       "<table border=\"1\" class=\"dataframe\">\n",
       "  <thead>\n",
       "    <tr style=\"text-align: right;\">\n",
       "      <th></th>\n",
       "      <th>product/productId</th>\n",
       "      <th>product/title</th>\n",
       "      <th>product/price</th>\n",
       "      <th>review/userId</th>\n",
       "      <th>review/profileName</th>\n",
       "      <th>review/helpfulness</th>\n",
       "      <th>review/score</th>\n",
       "      <th>review/time</th>\n",
       "      <th>review/summary</th>\n",
       "      <th>review/text</th>\n",
       "    </tr>\n",
       "  </thead>\n",
       "  <tbody>\n",
       "    <tr>\n",
       "      <th>count</th>\n",
       "      <td>510991</td>\n",
       "      <td>510991</td>\n",
       "      <td>510991</td>\n",
       "      <td>510991</td>\n",
       "      <td>510991</td>\n",
       "      <td>510991</td>\n",
       "      <td>510991</td>\n",
       "      <td>510991</td>\n",
       "      <td>510991</td>\n",
       "      <td>510991</td>\n",
       "    </tr>\n",
       "    <tr>\n",
       "      <th>unique</th>\n",
       "      <td>68293</td>\n",
       "      <td>57048</td>\n",
       "      <td>6842</td>\n",
       "      <td>329232</td>\n",
       "      <td>277949</td>\n",
       "      <td>2662</td>\n",
       "      <td>5</td>\n",
       "      <td>4441</td>\n",
       "      <td>286463</td>\n",
       "      <td>394106</td>\n",
       "    </tr>\n",
       "    <tr>\n",
       "      <th>top</th>\n",
       "      <td>B0000U1OCI</td>\n",
       "      <td>Amazon.com: Russell Athletic Men&amp;#39;s Basic C...</td>\n",
       "      <td>unknown</td>\n",
       "      <td>unknown</td>\n",
       "      <td>unknown</td>\n",
       "      <td>0/0</td>\n",
       "      <td>5.0</td>\n",
       "      <td>1168300800</td>\n",
       "      <td>Great product</td>\n",
       "      <td>Purchased to wire up my boat with 12v lights a...</td>\n",
       "    </tr>\n",
       "    <tr>\n",
       "      <th>freq</th>\n",
       "      <td>3986</td>\n",
       "      <td>7810</td>\n",
       "      <td>244679</td>\n",
       "      <td>4650</td>\n",
       "      <td>4662</td>\n",
       "      <td>247209</td>\n",
       "      <td>294419</td>\n",
       "      <td>2046</td>\n",
       "      <td>1686</td>\n",
       "      <td>128</td>\n",
       "    </tr>\n",
       "  </tbody>\n",
       "</table>\n",
       "</div>"
      ],
      "text/plain": [
       "       product/productId                                      product/title  \\\n",
       "count             510991                                             510991   \n",
       "unique             68293                                              57048   \n",
       "top           B0000U1OCI  Amazon.com: Russell Athletic Men&#39;s Basic C...   \n",
       "freq                3986                                               7810   \n",
       "\n",
       "       product/price review/userId review/profileName review/helpfulness  \\\n",
       "count         510991        510991             510991             510991   \n",
       "unique          6842        329232             277949               2662   \n",
       "top          unknown       unknown            unknown                0/0   \n",
       "freq          244679          4650               4662             247209   \n",
       "\n",
       "       review/score review/time review/summary  \\\n",
       "count        510991      510991         510991   \n",
       "unique            5        4441         286463   \n",
       "top             5.0  1168300800  Great product   \n",
       "freq         294419        2046           1686   \n",
       "\n",
       "                                              review/text  \n",
       "count                                              510991  \n",
       "unique                                             394106  \n",
       "top     Purchased to wire up my boat with 12v lights a...  \n",
       "freq                                                  128  "
      ]
     },
     "execution_count": 91,
     "metadata": {},
     "output_type": "execute_result"
    }
   ],
   "source": [
    "d5.describe()"
   ]
  },
  {
   "cell_type": "code",
   "execution_count": 92,
   "metadata": {},
   "outputs": [
    {
     "data": {
      "text/plain": [
       "product/productId     object\n",
       "product/title         object\n",
       "product/price         object\n",
       "review/userId         object\n",
       "review/profileName    object\n",
       "review/helpfulness    object\n",
       "review/score          object\n",
       "review/time           object\n",
       "review/summary        object\n",
       "review/text           object\n",
       "dtype: object"
      ]
     },
     "execution_count": 92,
     "metadata": {},
     "output_type": "execute_result"
    }
   ],
   "source": [
    "d5.dtypes"
   ]
  },
  {
   "cell_type": "code",
   "execution_count": 93,
   "metadata": {},
   "outputs": [
    {
     "data": {
      "text/plain": [
       "product/productId     False\n",
       "product/title         False\n",
       "product/price         False\n",
       "review/userId         False\n",
       "review/profileName    False\n",
       "review/helpfulness    False\n",
       "review/score          False\n",
       "review/time           False\n",
       "review/summary        False\n",
       "review/text           False\n",
       "dtype: bool"
      ]
     },
     "execution_count": 93,
     "metadata": {},
     "output_type": "execute_result"
    }
   ],
   "source": [
    "d5.isnull().any()"
   ]
  },
  {
   "cell_type": "code",
   "execution_count": 94,
   "metadata": {},
   "outputs": [
    {
     "data": {
      "text/plain": [
       "product/productId     0\n",
       "product/title         0\n",
       "product/price         0\n",
       "review/userId         0\n",
       "review/profileName    0\n",
       "review/helpfulness    0\n",
       "review/score          0\n",
       "review/time           0\n",
       "review/summary        0\n",
       "review/text           0\n",
       "dtype: int64"
      ]
     },
     "execution_count": 94,
     "metadata": {},
     "output_type": "execute_result"
    }
   ],
   "source": [
    "d5.isnull().sum()"
   ]
  },
  {
   "cell_type": "code",
   "execution_count": 95,
   "metadata": {},
   "outputs": [],
   "source": [
    "d5.drop_duplicates(keep=False,inplace=True)"
   ]
  },
  {
   "cell_type": "code",
   "execution_count": 96,
   "metadata": {},
   "outputs": [
    {
     "data": {
      "text/plain": [
       "(510576, 10)"
      ]
     },
     "execution_count": 96,
     "metadata": {},
     "output_type": "execute_result"
    }
   ],
   "source": [
    "d5.shape"
   ]
  },
  {
   "cell_type": "code",
   "execution_count": 97,
   "metadata": {},
   "outputs": [],
   "source": [
    "# lets make a copy of the data so that all the transformation is done on the copy and not on the main dataset\n",
    "t5data=d5.copy()"
   ]
  },
  {
   "cell_type": "code",
   "execution_count": 98,
   "metadata": {},
   "outputs": [
    {
     "data": {
      "text/plain": [
       "array(['1.0', '2.0', '3.0', '4.0', '5.0'], dtype=object)"
      ]
     },
     "execution_count": 98,
     "metadata": {},
     "output_type": "execute_result"
    }
   ],
   "source": [
    "np.sort(t5data['review/score'].unique())\n",
    "# ie, The ratings are in range of 1-5"
   ]
  },
  {
   "cell_type": "code",
   "execution_count": 99,
   "metadata": {},
   "outputs": [],
   "source": [
    "t5data=t5data[t5data['product/price'] !='unknown']"
   ]
  },
  {
   "cell_type": "code",
   "execution_count": 100,
   "metadata": {},
   "outputs": [
    {
     "data": {
      "text/plain": [
       "22.99     4703\n",
       "29.99     3272\n",
       "19.99     2910\n",
       "24.99     1867\n",
       "39.99     1832\n",
       "          ... \n",
       "60.39        1\n",
       "157.65       1\n",
       "94.39        1\n",
       "45.32        1\n",
       "379.99       1\n",
       "Name: product/price, Length: 6841, dtype: int64"
      ]
     },
     "execution_count": 100,
     "metadata": {},
     "output_type": "execute_result"
    }
   ],
   "source": [
    "t5data['product/price'] = pd.to_numeric(t5data['product/price'])\n",
    "t5data['product/price'].value_counts()"
   ]
  },
  {
   "cell_type": "code",
   "execution_count": 101,
   "metadata": {},
   "outputs": [],
   "source": [
    "t5data=t5data[t5data['review/userId'] !='unknown']"
   ]
  },
  {
   "cell_type": "code",
   "execution_count": 102,
   "metadata": {},
   "outputs": [
    {
     "data": {
      "text/plain": [
       "A3OXHLG6DIBRW8    99\n",
       "AVPO2MB6NQVP7     49\n",
       "A24X31K29QWWF3    47\n",
       "AJGU56YG8G1DQ     38\n",
       "A19XC6Z95GK5AB    38\n",
       "                  ..\n",
       "A3RYSI7JUHDSMU     1\n",
       "A24PAC4FQYXS2A     1\n",
       "A1WS8WICEEV7Y0     1\n",
       "A3QH24M8LMU0IW     1\n",
       "AOJBFIAXRSSYA      1\n",
       "Name: review/userId, Length: 219379, dtype: int64"
      ]
     },
     "execution_count": 102,
     "metadata": {},
     "output_type": "execute_result"
    }
   ],
   "source": [
    "t5data['review/userId'].value_counts()"
   ]
  },
  {
   "cell_type": "code",
   "execution_count": 103,
   "metadata": {},
   "outputs": [
    {
     "data": {
      "text/plain": [
       "5.0    152833\n",
       "4.0     53722\n",
       "1.0     22296\n",
       "3.0     21293\n",
       "2.0     13770\n",
       "Name: review/score, dtype: int64"
      ]
     },
     "execution_count": 103,
     "metadata": {},
     "output_type": "execute_result"
    }
   ],
   "source": [
    "t5data['review/score'] = pd.to_numeric(t5data['review/score'])\n",
    "t5data['review/score'].value_counts()"
   ]
  },
  {
   "cell_type": "code",
   "execution_count": 104,
   "metadata": {
    "scrolled": true
   },
   "outputs": [
    {
     "data": {
      "text/html": [
       "<div>\n",
       "<style scoped>\n",
       "    .dataframe tbody tr th:only-of-type {\n",
       "        vertical-align: middle;\n",
       "    }\n",
       "\n",
       "    .dataframe tbody tr th {\n",
       "        vertical-align: top;\n",
       "    }\n",
       "\n",
       "    .dataframe thead th {\n",
       "        text-align: right;\n",
       "    }\n",
       "</style>\n",
       "<table border=\"1\" class=\"dataframe\">\n",
       "  <thead>\n",
       "    <tr style=\"text-align: right;\">\n",
       "      <th></th>\n",
       "      <th>product/productId</th>\n",
       "      <th>product/title</th>\n",
       "      <th>product/price</th>\n",
       "      <th>review/userId</th>\n",
       "      <th>review/profileName</th>\n",
       "      <th>review/helpfulness</th>\n",
       "      <th>review/score</th>\n",
       "      <th>review/time</th>\n",
       "      <th>review/summary</th>\n",
       "      <th>review/text</th>\n",
       "    </tr>\n",
       "  </thead>\n",
       "  <tbody>\n",
       "    <tr>\n",
       "      <th>1</th>\n",
       "      <td>B000F8L3I0</td>\n",
       "      <td>NFL Oakland Raiders Cotton Robe (Black, One Size)</td>\n",
       "      <td>80.36</td>\n",
       "      <td>A3UWCRB86NEVOC</td>\n",
       "      <td>jennifer</td>\n",
       "      <td>0/0</td>\n",
       "      <td>4.0</td>\n",
       "      <td>1358640000</td>\n",
       "      <td>Durable</td>\n",
       "      <td>Very thick and heavy, not fluffy but good for ...</td>\n",
       "    </tr>\n",
       "    <tr>\n",
       "      <th>2</th>\n",
       "      <td>B000F8L3I0</td>\n",
       "      <td>NFL Oakland Raiders Cotton Robe (Black, One Size)</td>\n",
       "      <td>80.36</td>\n",
       "      <td>A1GJS7NT0KY3PK</td>\n",
       "      <td>Kristina Perez</td>\n",
       "      <td>0/0</td>\n",
       "      <td>5.0</td>\n",
       "      <td>1358121600</td>\n",
       "      <td>My fiance loooooooooooooves his robe</td>\n",
       "      <td>My fiance loooooooooooooves his robe.He hates ...</td>\n",
       "    </tr>\n",
       "    <tr>\n",
       "      <th>3</th>\n",
       "      <td>B000F8L3IK</td>\n",
       "      <td>Mcarthur San Diego Chargers Bath Robe</td>\n",
       "      <td>80.36</td>\n",
       "      <td>A2PF4C1R6OALE9</td>\n",
       "      <td>Eric Newhart</td>\n",
       "      <td>0/0</td>\n",
       "      <td>4.0</td>\n",
       "      <td>1358640000</td>\n",
       "      <td>High quality, but very large.</td>\n",
       "      <td>Definitely not disappointed with the quality o...</td>\n",
       "    </tr>\n",
       "    <tr>\n",
       "      <th>33</th>\n",
       "      <td>B000BNMXJM</td>\n",
       "      <td>St. Croix Premier Spinning Rod 6'6\",Medium Fas...</td>\n",
       "      <td>110.00</td>\n",
       "      <td>A3643M9OAWLG8U</td>\n",
       "      <td>Philip J. Whaley</td>\n",
       "      <td>0/0</td>\n",
       "      <td>5.0</td>\n",
       "      <td>1351123200</td>\n",
       "      <td>St. Croix fishing pole</td>\n",
       "      <td>This is my favorite pole for fluke fishing, it...</td>\n",
       "    </tr>\n",
       "    <tr>\n",
       "      <th>34</th>\n",
       "      <td>B00015QNZ0</td>\n",
       "      <td>National Football League Team Pennants... 12\" ...</td>\n",
       "      <td>98.95</td>\n",
       "      <td>AM9QW0954V4ZV</td>\n",
       "      <td>Ms Chat</td>\n",
       "      <td>0/0</td>\n",
       "      <td>5.0</td>\n",
       "      <td>1361145600</td>\n",
       "      <td>Love it</td>\n",
       "      <td>This collection set my game room off. I love t...</td>\n",
       "    </tr>\n",
       "  </tbody>\n",
       "</table>\n",
       "</div>"
      ],
      "text/plain": [
       "   product/productId                                      product/title  \\\n",
       "1         B000F8L3I0  NFL Oakland Raiders Cotton Robe (Black, One Size)   \n",
       "2         B000F8L3I0  NFL Oakland Raiders Cotton Robe (Black, One Size)   \n",
       "3         B000F8L3IK              Mcarthur San Diego Chargers Bath Robe   \n",
       "33        B000BNMXJM  St. Croix Premier Spinning Rod 6'6\",Medium Fas...   \n",
       "34        B00015QNZ0  National Football League Team Pennants... 12\" ...   \n",
       "\n",
       "    product/price   review/userId review/profileName review/helpfulness  \\\n",
       "1           80.36  A3UWCRB86NEVOC           jennifer                0/0   \n",
       "2           80.36  A1GJS7NT0KY3PK     Kristina Perez                0/0   \n",
       "3           80.36  A2PF4C1R6OALE9       Eric Newhart                0/0   \n",
       "33         110.00  A3643M9OAWLG8U   Philip J. Whaley                0/0   \n",
       "34          98.95   AM9QW0954V4ZV            Ms Chat                0/0   \n",
       "\n",
       "    review/score review/time                        review/summary  \\\n",
       "1            4.0  1358640000                               Durable   \n",
       "2            5.0  1358121600  My fiance loooooooooooooves his robe   \n",
       "3            4.0  1358640000         High quality, but very large.   \n",
       "33           5.0  1351123200                St. Croix fishing pole   \n",
       "34           5.0  1361145600                               Love it   \n",
       "\n",
       "                                          review/text  \n",
       "1   Very thick and heavy, not fluffy but good for ...  \n",
       "2   My fiance loooooooooooooves his robe.He hates ...  \n",
       "3   Definitely not disappointed with the quality o...  \n",
       "33  This is my favorite pole for fluke fishing, it...  \n",
       "34  This collection set my game room off. I love t...  "
      ]
     },
     "execution_count": 104,
     "metadata": {},
     "output_type": "execute_result"
    }
   ],
   "source": [
    "t5data[\"review/text\"] = t5data[\"review/text\"].apply(lambda x:cont_to_exp(x))\n",
    "t5data[\"review/summary\"] = t5data[\"review/summary\"].apply(lambda x:cont_to_exp(x))\n",
    "t5data.head()"
   ]
  },
  {
   "cell_type": "code",
   "execution_count": 105,
   "metadata": {},
   "outputs": [
    {
     "data": {
      "text/html": [
       "<div>\n",
       "<style scoped>\n",
       "    .dataframe tbody tr th:only-of-type {\n",
       "        vertical-align: middle;\n",
       "    }\n",
       "\n",
       "    .dataframe tbody tr th {\n",
       "        vertical-align: top;\n",
       "    }\n",
       "\n",
       "    .dataframe thead th {\n",
       "        text-align: right;\n",
       "    }\n",
       "</style>\n",
       "<table border=\"1\" class=\"dataframe\">\n",
       "  <thead>\n",
       "    <tr style=\"text-align: right;\">\n",
       "      <th></th>\n",
       "      <th>product/price</th>\n",
       "      <th>review/score</th>\n",
       "    </tr>\n",
       "  </thead>\n",
       "  <tbody>\n",
       "    <tr>\n",
       "      <th>count</th>\n",
       "      <td>263914.000000</td>\n",
       "      <td>263914.000000</td>\n",
       "    </tr>\n",
       "    <tr>\n",
       "      <th>mean</th>\n",
       "      <td>54.322838</td>\n",
       "      <td>4.140622</td>\n",
       "    </tr>\n",
       "    <tr>\n",
       "      <th>std</th>\n",
       "      <td>82.927195</td>\n",
       "      <td>1.268486</td>\n",
       "    </tr>\n",
       "    <tr>\n",
       "      <th>min</th>\n",
       "      <td>0.010000</td>\n",
       "      <td>1.000000</td>\n",
       "    </tr>\n",
       "    <tr>\n",
       "      <th>25%</th>\n",
       "      <td>14.950000</td>\n",
       "      <td>4.000000</td>\n",
       "    </tr>\n",
       "    <tr>\n",
       "      <th>50%</th>\n",
       "      <td>27.890000</td>\n",
       "      <td>5.000000</td>\n",
       "    </tr>\n",
       "    <tr>\n",
       "      <th>75%</th>\n",
       "      <td>58.950000</td>\n",
       "      <td>5.000000</td>\n",
       "    </tr>\n",
       "    <tr>\n",
       "      <th>max</th>\n",
       "      <td>999.000000</td>\n",
       "      <td>5.000000</td>\n",
       "    </tr>\n",
       "  </tbody>\n",
       "</table>\n",
       "</div>"
      ],
      "text/plain": [
       "       product/price   review/score\n",
       "count  263914.000000  263914.000000\n",
       "mean       54.322838       4.140622\n",
       "std        82.927195       1.268486\n",
       "min         0.010000       1.000000\n",
       "25%        14.950000       4.000000\n",
       "50%        27.890000       5.000000\n",
       "75%        58.950000       5.000000\n",
       "max       999.000000       5.000000"
      ]
     },
     "execution_count": 105,
     "metadata": {},
     "output_type": "execute_result"
    }
   ],
   "source": [
    "t5data.describe()"
   ]
  },
  {
   "cell_type": "code",
   "execution_count": 106,
   "metadata": {},
   "outputs": [
    {
     "data": {
      "image/png": "[encoded data removed]",
      "text/plain": [
       "<Figure size 576x432 with 1 Axes>"
      ]
     },
     "metadata": {
      "needs_background": "light"
     },
     "output_type": "display_data"
    }
   ],
   "source": [
    "plt.figure(figsize=(8,6))\n",
    "sns.distplot(t5data['review/score']);"
   ]
  },
  {
   "cell_type": "code",
   "execution_count": 107,
   "metadata": {},
   "outputs": [
    {
     "data": {
      "image/png": "[encoded data removed]",
      "text/plain": [
       "<Figure size 432x288 with 1 Axes>"
      ]
     },
     "metadata": {
      "needs_background": "light"
     },
     "output_type": "display_data"
    }
   ],
   "source": [
    "plt.boxplot(t5data['review/score']);"
   ]
  },
  {
   "cell_type": "code",
   "execution_count": 108,
   "metadata": {
    "scrolled": true
   },
   "outputs": [
    {
     "data": {
      "image/png": "[encoded data removed]",
      "text/plain": [
       "<Figure size 576x432 with 1 Axes>"
      ]
     },
     "metadata": {
      "needs_background": "light"
     },
     "output_type": "display_data"
    }
   ],
   "source": [
    "plt.figure(figsize=(8,6))\n",
    "sns.countplot(t5data['review/score']);"
   ]
  },
  {
   "cell_type": "markdown",
   "metadata": {},
   "source": [
    "### Combining the Datasets By outer join so all the rows are included"
   ]
  },
  {
   "cell_type": "code",
   "execution_count": 109,
   "metadata": {},
   "outputs": [
    {
     "data": {
      "text/plain": [
       "(921631, 10)"
      ]
     },
     "execution_count": 109,
     "metadata": {},
     "output_type": "execute_result"
    }
   ],
   "source": [
    "df1 = pd.merge(t1data,t2data, how = 'outer')\n",
    "df2 = pd.merge(df1,t3data, how = 'outer')\n",
    "df3 = pd.merge(df2,t4data, how = 'outer')\n",
    "df4 = pd.merge(df3,t5data, how = 'outer')\n",
    "df4.shape"
   ]
  },
  {
   "cell_type": "code",
   "execution_count": 110,
   "metadata": {
    "scrolled": true
   },
   "outputs": [
    {
     "data": {
      "text/html": [
       "<div>\n",
       "<style scoped>\n",
       "    .dataframe tbody tr th:only-of-type {\n",
       "        vertical-align: middle;\n",
       "    }\n",
       "\n",
       "    .dataframe tbody tr th {\n",
       "        vertical-align: top;\n",
       "    }\n",
       "\n",
       "    .dataframe thead th {\n",
       "        text-align: right;\n",
       "    }\n",
       "</style>\n",
       "<table border=\"1\" class=\"dataframe\">\n",
       "  <thead>\n",
       "    <tr style=\"text-align: right;\">\n",
       "      <th></th>\n",
       "      <th>product/productId</th>\n",
       "      <th>product/title</th>\n",
       "      <th>product/price</th>\n",
       "      <th>review/userId</th>\n",
       "      <th>review/profileName</th>\n",
       "      <th>review/helpfulness</th>\n",
       "      <th>review/score</th>\n",
       "      <th>review/time</th>\n",
       "      <th>review/summary</th>\n",
       "      <th>review/text</th>\n",
       "    </tr>\n",
       "  </thead>\n",
       "  <tbody>\n",
       "    <tr>\n",
       "      <th>0</th>\n",
       "      <td>B000P9JTW6</td>\n",
       "      <td>Gomadic Compact Retractable USB Charge and Dat...</td>\n",
       "      <td>17.69</td>\n",
       "      <td>A2T7YFEAI0X74W</td>\n",
       "      <td>Thomas O. Fort</td>\n",
       "      <td>0/0</td>\n",
       "      <td>4.0</td>\n",
       "      <td>1245974400</td>\n",
       "      <td>nifty</td>\n",
       "      <td>It is very convenient to have the charging cab...</td>\n",
       "    </tr>\n",
       "    <tr>\n",
       "      <th>1</th>\n",
       "      <td>B0000DFZ2U</td>\n",
       "      <td>APC P1T 120V Portable Surge Protector</td>\n",
       "      <td>13.89</td>\n",
       "      <td>A1Y8DLP78Z778V</td>\n",
       "      <td>Michael</td>\n",
       "      <td>1/1</td>\n",
       "      <td>5.0</td>\n",
       "      <td>1287273600</td>\n",
       "      <td>APC P1T 120V Portable Surge Protector</td>\n",
       "      <td>Perfect carry-along for my notebook PC. Useful...</td>\n",
       "    </tr>\n",
       "    <tr>\n",
       "      <th>2</th>\n",
       "      <td>B0000DFZ2U</td>\n",
       "      <td>APC P1T 120V Portable Surge Protector</td>\n",
       "      <td>13.89</td>\n",
       "      <td>AAF3I3SZ6CXGY</td>\n",
       "      <td>Ross Knight \"Subvet\"</td>\n",
       "      <td>0/0</td>\n",
       "      <td>5.0</td>\n",
       "      <td>1360108800</td>\n",
       "      <td>Insurance policy!</td>\n",
       "      <td>This protector is an excellent value. Rated ve...</td>\n",
       "    </tr>\n",
       "    <tr>\n",
       "      <th>3</th>\n",
       "      <td>B0000DFZ2U</td>\n",
       "      <td>APC P1T 120V Portable Surge Protector</td>\n",
       "      <td>13.89</td>\n",
       "      <td>ARA1MZKJQLXGE</td>\n",
       "      <td>Kevin</td>\n",
       "      <td>0/0</td>\n",
       "      <td>5.0</td>\n",
       "      <td>1359244800</td>\n",
       "      <td>Works great for appliances</td>\n",
       "      <td>I bought one of these to protect my washing ma...</td>\n",
       "    </tr>\n",
       "    <tr>\n",
       "      <th>4</th>\n",
       "      <td>B0000DFZ2U</td>\n",
       "      <td>APC P1T 120V Portable Surge Protector</td>\n",
       "      <td>13.89</td>\n",
       "      <td>A2P9Q94AA63517</td>\n",
       "      <td>Bruce E Harrison</td>\n",
       "      <td>0/0</td>\n",
       "      <td>5.0</td>\n",
       "      <td>1355270400</td>\n",
       "      <td>Single Surge Protector</td>\n",
       "      <td>Just right for travel for my computer and it i...</td>\n",
       "    </tr>\n",
       "  </tbody>\n",
       "</table>\n",
       "</div>"
      ],
      "text/plain": [
       "  product/productId                                      product/title  \\\n",
       "0        B000P9JTW6  Gomadic Compact Retractable USB Charge and Dat...   \n",
       "1        B0000DFZ2U              APC P1T 120V Portable Surge Protector   \n",
       "2        B0000DFZ2U              APC P1T 120V Portable Surge Protector   \n",
       "3        B0000DFZ2U              APC P1T 120V Portable Surge Protector   \n",
       "4        B0000DFZ2U              APC P1T 120V Portable Surge Protector   \n",
       "\n",
       "   product/price   review/userId    review/profileName review/helpfulness  \\\n",
       "0          17.69  A2T7YFEAI0X74W        Thomas O. Fort                0/0   \n",
       "1          13.89  A1Y8DLP78Z778V               Michael                1/1   \n",
       "2          13.89   AAF3I3SZ6CXGY  Ross Knight \"Subvet\"                0/0   \n",
       "3          13.89   ARA1MZKJQLXGE                 Kevin                0/0   \n",
       "4          13.89  A2P9Q94AA63517      Bruce E Harrison                0/0   \n",
       "\n",
       "   review/score review/time                         review/summary  \\\n",
       "0           4.0  1245974400                                  nifty   \n",
       "1           5.0  1287273600  APC P1T 120V Portable Surge Protector   \n",
       "2           5.0  1360108800                      Insurance policy!   \n",
       "3           5.0  1359244800             Works great for appliances   \n",
       "4           5.0  1355270400                 Single Surge Protector   \n",
       "\n",
       "                                         review/text  \n",
       "0  It is very convenient to have the charging cab...  \n",
       "1  Perfect carry-along for my notebook PC. Useful...  \n",
       "2  This protector is an excellent value. Rated ve...  \n",
       "3  I bought one of these to protect my washing ma...  \n",
       "4  Just right for travel for my computer and it i...  "
      ]
     },
     "execution_count": 110,
     "metadata": {},
     "output_type": "execute_result"
    }
   ],
   "source": [
    "df4.head()"
   ]
  },
  {
   "cell_type": "code",
   "execution_count": 111,
   "metadata": {},
   "outputs": [],
   "source": [
    "names={'product/productId' : 'ProductID', 'product/title':'Title','product/price':'Price','review/userId':'userId','review/profileName':'ProfileName','review/helpfulness':'Helpfulness','review/score':'Rating','review/time':'TimeStamp','review/summary': 'Summary','review/text':'Text'}\n",
    "df5 = df4.rename(names, axis = 1)"
   ]
  },
  {
   "cell_type": "code",
   "execution_count": 112,
   "metadata": {},
   "outputs": [
    {
     "data": {
      "text/html": [
       "<div>\n",
       "<style scoped>\n",
       "    .dataframe tbody tr th:only-of-type {\n",
       "        vertical-align: middle;\n",
       "    }\n",
       "\n",
       "    .dataframe tbody tr th {\n",
       "        vertical-align: top;\n",
       "    }\n",
       "\n",
       "    .dataframe thead th {\n",
       "        text-align: right;\n",
       "    }\n",
       "</style>\n",
       "<table border=\"1\" class=\"dataframe\">\n",
       "  <thead>\n",
       "    <tr style=\"text-align: right;\">\n",
       "      <th></th>\n",
       "      <th>ProductID</th>\n",
       "      <th>Title</th>\n",
       "      <th>Price</th>\n",
       "      <th>userId</th>\n",
       "      <th>ProfileName</th>\n",
       "      <th>Helpfulness</th>\n",
       "      <th>Rating</th>\n",
       "      <th>TimeStamp</th>\n",
       "      <th>Summary</th>\n",
       "      <th>Text</th>\n",
       "    </tr>\n",
       "  </thead>\n",
       "  <tbody>\n",
       "    <tr>\n",
       "      <th>0</th>\n",
       "      <td>B000P9JTW6</td>\n",
       "      <td>Gomadic Compact Retractable USB Charge and Dat...</td>\n",
       "      <td>17.69</td>\n",
       "      <td>A2T7YFEAI0X74W</td>\n",
       "      <td>Thomas O. Fort</td>\n",
       "      <td>0/0</td>\n",
       "      <td>4.0</td>\n",
       "      <td>1245974400</td>\n",
       "      <td>nifty</td>\n",
       "      <td>It is very convenient to have the charging cab...</td>\n",
       "    </tr>\n",
       "    <tr>\n",
       "      <th>1</th>\n",
       "      <td>B0000DFZ2U</td>\n",
       "      <td>APC P1T 120V Portable Surge Protector</td>\n",
       "      <td>13.89</td>\n",
       "      <td>A1Y8DLP78Z778V</td>\n",
       "      <td>Michael</td>\n",
       "      <td>1/1</td>\n",
       "      <td>5.0</td>\n",
       "      <td>1287273600</td>\n",
       "      <td>APC P1T 120V Portable Surge Protector</td>\n",
       "      <td>Perfect carry-along for my notebook PC. Useful...</td>\n",
       "    </tr>\n",
       "    <tr>\n",
       "      <th>2</th>\n",
       "      <td>B0000DFZ2U</td>\n",
       "      <td>APC P1T 120V Portable Surge Protector</td>\n",
       "      <td>13.89</td>\n",
       "      <td>AAF3I3SZ6CXGY</td>\n",
       "      <td>Ross Knight \"Subvet\"</td>\n",
       "      <td>0/0</td>\n",
       "      <td>5.0</td>\n",
       "      <td>1360108800</td>\n",
       "      <td>Insurance policy!</td>\n",
       "      <td>This protector is an excellent value. Rated ve...</td>\n",
       "    </tr>\n",
       "    <tr>\n",
       "      <th>3</th>\n",
       "      <td>B0000DFZ2U</td>\n",
       "      <td>APC P1T 120V Portable Surge Protector</td>\n",
       "      <td>13.89</td>\n",
       "      <td>ARA1MZKJQLXGE</td>\n",
       "      <td>Kevin</td>\n",
       "      <td>0/0</td>\n",
       "      <td>5.0</td>\n",
       "      <td>1359244800</td>\n",
       "      <td>Works great for appliances</td>\n",
       "      <td>I bought one of these to protect my washing ma...</td>\n",
       "    </tr>\n",
       "    <tr>\n",
       "      <th>4</th>\n",
       "      <td>B0000DFZ2U</td>\n",
       "      <td>APC P1T 120V Portable Surge Protector</td>\n",
       "      <td>13.89</td>\n",
       "      <td>A2P9Q94AA63517</td>\n",
       "      <td>Bruce E Harrison</td>\n",
       "      <td>0/0</td>\n",
       "      <td>5.0</td>\n",
       "      <td>1355270400</td>\n",
       "      <td>Single Surge Protector</td>\n",
       "      <td>Just right for travel for my computer and it i...</td>\n",
       "    </tr>\n",
       "  </tbody>\n",
       "</table>\n",
       "</div>"
      ],
      "text/plain": [
       "    ProductID                                              Title  Price  \\\n",
       "0  B000P9JTW6  Gomadic Compact Retractable USB Charge and Dat...  17.69   \n",
       "1  B0000DFZ2U              APC P1T 120V Portable Surge Protector  13.89   \n",
       "2  B0000DFZ2U              APC P1T 120V Portable Surge Protector  13.89   \n",
       "3  B0000DFZ2U              APC P1T 120V Portable Surge Protector  13.89   \n",
       "4  B0000DFZ2U              APC P1T 120V Portable Surge Protector  13.89   \n",
       "\n",
       "           userId           ProfileName Helpfulness  Rating   TimeStamp  \\\n",
       "0  A2T7YFEAI0X74W        Thomas O. Fort         0/0     4.0  1245974400   \n",
       "1  A1Y8DLP78Z778V               Michael         1/1     5.0  1287273600   \n",
       "2   AAF3I3SZ6CXGY  Ross Knight \"Subvet\"         0/0     5.0  1360108800   \n",
       "3   ARA1MZKJQLXGE                 Kevin         0/0     5.0  1359244800   \n",
       "4  A2P9Q94AA63517      Bruce E Harrison         0/0     5.0  1355270400   \n",
       "\n",
       "                                 Summary  \\\n",
       "0                                  nifty   \n",
       "1  APC P1T 120V Portable Surge Protector   \n",
       "2                      Insurance policy!   \n",
       "3             Works great for appliances   \n",
       "4                 Single Surge Protector   \n",
       "\n",
       "                                                Text  \n",
       "0  It is very convenient to have the charging cab...  \n",
       "1  Perfect carry-along for my notebook PC. Useful...  \n",
       "2  This protector is an excellent value. Rated ve...  \n",
       "3  I bought one of these to protect my washing ma...  \n",
       "4  Just right for travel for my computer and it i...  "
      ]
     },
     "execution_count": 112,
     "metadata": {},
     "output_type": "execute_result"
    }
   ],
   "source": [
    "df5.head()"
   ]
  },
  {
   "cell_type": "code",
   "execution_count": 113,
   "metadata": {},
   "outputs": [
    {
     "data": {
      "text/html": [
       "<div>\n",
       "<style scoped>\n",
       "    .dataframe tbody tr th:only-of-type {\n",
       "        vertical-align: middle;\n",
       "    }\n",
       "\n",
       "    .dataframe tbody tr th {\n",
       "        vertical-align: top;\n",
       "    }\n",
       "\n",
       "    .dataframe thead th {\n",
       "        text-align: right;\n",
       "    }\n",
       "</style>\n",
       "<table border=\"1\" class=\"dataframe\">\n",
       "  <thead>\n",
       "    <tr style=\"text-align: right;\">\n",
       "      <th></th>\n",
       "      <th>Price</th>\n",
       "      <th>Rating</th>\n",
       "    </tr>\n",
       "  </thead>\n",
       "  <tbody>\n",
       "    <tr>\n",
       "      <th>count</th>\n",
       "      <td>921631.000000</td>\n",
       "      <td>921631.000000</td>\n",
       "    </tr>\n",
       "    <tr>\n",
       "      <th>mean</th>\n",
       "      <td>60.988039</td>\n",
       "      <td>4.035949</td>\n",
       "    </tr>\n",
       "    <tr>\n",
       "      <th>std</th>\n",
       "      <td>103.260650</td>\n",
       "      <td>1.364192</td>\n",
       "    </tr>\n",
       "    <tr>\n",
       "      <th>min</th>\n",
       "      <td>0.010000</td>\n",
       "      <td>1.000000</td>\n",
       "    </tr>\n",
       "    <tr>\n",
       "      <th>25%</th>\n",
       "      <td>12.030000</td>\n",
       "      <td>4.000000</td>\n",
       "    </tr>\n",
       "    <tr>\n",
       "      <th>50%</th>\n",
       "      <td>26.990000</td>\n",
       "      <td>5.000000</td>\n",
       "    </tr>\n",
       "    <tr>\n",
       "      <th>75%</th>\n",
       "      <td>62.240000</td>\n",
       "      <td>5.000000</td>\n",
       "    </tr>\n",
       "    <tr>\n",
       "      <th>max</th>\n",
       "      <td>999.990000</td>\n",
       "      <td>5.000000</td>\n",
       "    </tr>\n",
       "  </tbody>\n",
       "</table>\n",
       "</div>"
      ],
      "text/plain": [
       "               Price         Rating\n",
       "count  921631.000000  921631.000000\n",
       "mean       60.988039       4.035949\n",
       "std       103.260650       1.364192\n",
       "min         0.010000       1.000000\n",
       "25%        12.030000       4.000000\n",
       "50%        26.990000       5.000000\n",
       "75%        62.240000       5.000000\n",
       "max       999.990000       5.000000"
      ]
     },
     "execution_count": 113,
     "metadata": {},
     "output_type": "execute_result"
    }
   ],
   "source": [
    "df5.describe()"
   ]
  },
  {
   "cell_type": "code",
   "execution_count": 114,
   "metadata": {},
   "outputs": [],
   "source": [
    "# Dropping the timestamp column\n",
    "df5.drop(['TimeStamp'], axis=1,inplace=True)"
   ]
  },
  {
   "cell_type": "markdown",
   "metadata": {},
   "source": [
    "## Take a subset of the dataset to make it less dense. \n",
    "### ie, keep the users only who has given 30 or more number of ratings"
   ]
  },
  {
   "cell_type": "code",
   "execution_count": 115,
   "metadata": {},
   "outputs": [
    {
     "name": "stdout",
     "output_type": "stream",
     "text": [
      "\n",
      " No of rated product more than 30 per user : 108\n",
      "\n"
     ]
    }
   ],
   "source": [
    "df6 = df5.groupby(by='userId')['Rating'].count().sort_values(ascending=False)\n",
    "print('\\n No of rated product more than 30 per user : {}\\n'.format(sum(df6 >= 40)) )"
   ]
  },
  {
   "cell_type": "code",
   "execution_count": 116,
   "metadata": {},
   "outputs": [],
   "source": [
    "df7=df5.copy()\n",
    "df7 = df7[df7.groupby('userId')['userId'].transform('size') > 40]\n",
    "df7=pd.DataFrame(df7)\n",
    "df7=df7.reset_index(drop=True)"
   ]
  },
  {
   "cell_type": "code",
   "execution_count": 117,
   "metadata": {},
   "outputs": [
    {
     "data": {
      "text/plain": [
       "(5288, 9)"
      ]
     },
     "execution_count": 117,
     "metadata": {},
     "output_type": "execute_result"
    }
   ],
   "source": [
    "df7.shape"
   ]
  },
  {
   "cell_type": "code",
   "execution_count": 118,
   "metadata": {},
   "outputs": [
    {
     "data": {
      "text/plain": [
       "ProductID       object\n",
       "Title           object\n",
       "Price          float64\n",
       "userId          object\n",
       "ProfileName     object\n",
       "Helpfulness     object\n",
       "Rating         float64\n",
       "Summary         object\n",
       "Text            object\n",
       "dtype: object"
      ]
     },
     "execution_count": 118,
     "metadata": {},
     "output_type": "execute_result"
    }
   ],
   "source": [
    "df7.dtypes"
   ]
  },
  {
   "cell_type": "code",
   "execution_count": 119,
   "metadata": {},
   "outputs": [],
   "source": [
    "#Getting the new dataframe which contains users who has given 50 or more ratings\n",
    "\n",
    "new_df=df5.groupby(\"ProductID\").filter(lambda x:x['Rating'].count() >=50)"
   ]
  },
  {
   "cell_type": "code",
   "execution_count": 120,
   "metadata": {},
   "outputs": [
    {
     "data": {
      "text/html": [
       "<div>\n",
       "<style scoped>\n",
       "    .dataframe tbody tr th:only-of-type {\n",
       "        vertical-align: middle;\n",
       "    }\n",
       "\n",
       "    .dataframe tbody tr th {\n",
       "        vertical-align: top;\n",
       "    }\n",
       "\n",
       "    .dataframe thead th {\n",
       "        text-align: right;\n",
       "    }\n",
       "</style>\n",
       "<table border=\"1\" class=\"dataframe\">\n",
       "  <thead>\n",
       "    <tr style=\"text-align: right;\">\n",
       "      <th></th>\n",
       "      <th>ProductID</th>\n",
       "      <th>Title</th>\n",
       "      <th>Price</th>\n",
       "      <th>userId</th>\n",
       "      <th>ProfileName</th>\n",
       "      <th>Helpfulness</th>\n",
       "      <th>Rating</th>\n",
       "      <th>Summary</th>\n",
       "      <th>Text</th>\n",
       "    </tr>\n",
       "  </thead>\n",
       "  <tbody>\n",
       "    <tr>\n",
       "      <th>20</th>\n",
       "      <td>B0001YXWVO</td>\n",
       "      <td>Macally PS-AC4 AC Power Adapter for Apple G4</td>\n",
       "      <td>30.24</td>\n",
       "      <td>ADO14028VU09Z</td>\n",
       "      <td>Roger H. Howe</td>\n",
       "      <td>0/0</td>\n",
       "      <td>5.0</td>\n",
       "      <td>Just what we needed to keep on truckin</td>\n",
       "      <td>Does just what was needed to charge the Macboo...</td>\n",
       "    </tr>\n",
       "    <tr>\n",
       "      <th>21</th>\n",
       "      <td>B0001YXWVO</td>\n",
       "      <td>Macally PS-AC4 AC Power Adapter for Apple G4</td>\n",
       "      <td>30.24</td>\n",
       "      <td>A1EH2RJLT83NHB</td>\n",
       "      <td>Picky Shopper</td>\n",
       "      <td>0/0</td>\n",
       "      <td>5.0</td>\n",
       "      <td>Works well so far, fast delivery.</td>\n",
       "      <td>Received it a couple days after ordering (I li...</td>\n",
       "    </tr>\n",
       "    <tr>\n",
       "      <th>22</th>\n",
       "      <td>B0001YXWVO</td>\n",
       "      <td>Macally PS-AC4 AC Power Adapter for Apple G4</td>\n",
       "      <td>30.24</td>\n",
       "      <td>AUZBHPYJPE4FF</td>\n",
       "      <td>GoGreen07 \"Spartan\"</td>\n",
       "      <td>0/0</td>\n",
       "      <td>5.0</td>\n",
       "      <td>Great Alternative to Apple Power Adapter.</td>\n",
       "      <td>This product works well. I got it for my iBook...</td>\n",
       "    </tr>\n",
       "    <tr>\n",
       "      <th>23</th>\n",
       "      <td>B0001YXWVO</td>\n",
       "      <td>Macally PS-AC4 AC Power Adapter for Apple G4</td>\n",
       "      <td>30.24</td>\n",
       "      <td>A1DFTB50QWXC63</td>\n",
       "      <td>M. Nason</td>\n",
       "      <td>0/0</td>\n",
       "      <td>4.0</td>\n",
       "      <td>Without Question.....</td>\n",
       "      <td>This power adapter is exceptional compared to ...</td>\n",
       "    </tr>\n",
       "    <tr>\n",
       "      <th>24</th>\n",
       "      <td>B0001YXWVO</td>\n",
       "      <td>Macally PS-AC4 AC Power Adapter for Apple G4</td>\n",
       "      <td>30.24</td>\n",
       "      <td>ADY52SHWSCRP1</td>\n",
       "      <td>Tyler Lawrence</td>\n",
       "      <td>0/0</td>\n",
       "      <td>4.0</td>\n",
       "      <td>tougher and cheaper than Apple's</td>\n",
       "      <td>This is the best replacement power supply I ha...</td>\n",
       "    </tr>\n",
       "  </tbody>\n",
       "</table>\n",
       "</div>"
      ],
      "text/plain": [
       "     ProductID                                         Title  Price  \\\n",
       "20  B0001YXWVO  Macally PS-AC4 AC Power Adapter for Apple G4  30.24   \n",
       "21  B0001YXWVO  Macally PS-AC4 AC Power Adapter for Apple G4  30.24   \n",
       "22  B0001YXWVO  Macally PS-AC4 AC Power Adapter for Apple G4  30.24   \n",
       "23  B0001YXWVO  Macally PS-AC4 AC Power Adapter for Apple G4  30.24   \n",
       "24  B0001YXWVO  Macally PS-AC4 AC Power Adapter for Apple G4  30.24   \n",
       "\n",
       "            userId          ProfileName Helpfulness  Rating  \\\n",
       "20   ADO14028VU09Z        Roger H. Howe         0/0     5.0   \n",
       "21  A1EH2RJLT83NHB        Picky Shopper         0/0     5.0   \n",
       "22   AUZBHPYJPE4FF  GoGreen07 \"Spartan\"         0/0     5.0   \n",
       "23  A1DFTB50QWXC63             M. Nason         0/0     4.0   \n",
       "24   ADY52SHWSCRP1       Tyler Lawrence         0/0     4.0   \n",
       "\n",
       "                                      Summary  \\\n",
       "20     Just what we needed to keep on truckin   \n",
       "21          Works well so far, fast delivery.   \n",
       "22  Great Alternative to Apple Power Adapter.   \n",
       "23                      Without Question.....   \n",
       "24           tougher and cheaper than Apple's   \n",
       "\n",
       "                                                 Text  \n",
       "20  Does just what was needed to charge the Macboo...  \n",
       "21  Received it a couple days after ordering (I li...  \n",
       "22  This product works well. I got it for my iBook...  \n",
       "23  This power adapter is exceptional compared to ...  \n",
       "24  This is the best replacement power supply I ha...  "
      ]
     },
     "execution_count": 120,
     "metadata": {},
     "output_type": "execute_result"
    }
   ],
   "source": [
    "new_df.head()"
   ]
  },
  {
   "cell_type": "code",
   "execution_count": 121,
   "metadata": {},
   "outputs": [
    {
     "data": {
      "text/plain": [
       "(575313, 9)"
      ]
     },
     "execution_count": 121,
     "metadata": {},
     "output_type": "execute_result"
    }
   ],
   "source": [
    "new_df.shape"
   ]
  },
  {
   "cell_type": "markdown",
   "metadata": {},
   "source": [
    "# Model-based collaborative filtering system"
   ]
  },
  {
   "cell_type": "markdown",
   "metadata": {},
   "source": [
    "These methods are based on machine learning and data mining techniques. The goal is to train models to be able to make predictions. For example, we could use existing user-item interactions to train a model to predict the top-5 items that a user might like the most. One advantage of these methods is that they are able to recommend a larger number of items to a larger number of users, compared to other methods like memory based approach. They have large coverage, even when working with large sparse matrices."
   ]
  },
  {
   "cell_type": "code",
   "execution_count": 122,
   "metadata": {},
   "outputs": [
    {
     "data": {
      "text/plain": [
       "(30000, 9)"
      ]
     },
     "execution_count": 122,
     "metadata": {},
     "output_type": "execute_result"
    }
   ],
   "source": [
    "new_df1=new_df.head(30000)\n",
    "new_df1.shape"
   ]
  },
  {
   "cell_type": "code",
   "execution_count": 123,
   "metadata": {},
   "outputs": [
    {
     "data": {
      "text/html": [
       "<div>\n",
       "<style scoped>\n",
       "    .dataframe tbody tr th:only-of-type {\n",
       "        vertical-align: middle;\n",
       "    }\n",
       "\n",
       "    .dataframe tbody tr th {\n",
       "        vertical-align: top;\n",
       "    }\n",
       "\n",
       "    .dataframe thead th {\n",
       "        text-align: right;\n",
       "    }\n",
       "</style>\n",
       "<table border=\"1\" class=\"dataframe\">\n",
       "  <thead>\n",
       "    <tr style=\"text-align: right;\">\n",
       "      <th>ProductID</th>\n",
       "      <th>B00004SGD3</th>\n",
       "      <th>B00004TBLW</th>\n",
       "      <th>B00004TVSP</th>\n",
       "      <th>B000058BCQ</th>\n",
       "      <th>B000058BCR</th>\n",
       "      <th>B00005AWBJ</th>\n",
       "      <th>B00005AWCL</th>\n",
       "      <th>B00005KB37</th>\n",
       "      <th>B00005N5WW</th>\n",
       "      <th>B00005N5X2</th>\n",
       "      <th>...</th>\n",
       "      <th>B000P0NJPS</th>\n",
       "      <th>B000P41QJ0</th>\n",
       "      <th>B000P6U6IU</th>\n",
       "      <th>B000PELLGS</th>\n",
       "      <th>B000PMGZDO</th>\n",
       "      <th>B000Q6LZLG</th>\n",
       "      <th>B000Q9DX0O</th>\n",
       "      <th>B000QAVVAM</th>\n",
       "      <th>B000RGZMYQ</th>\n",
       "      <th>B000SQ93Z4</th>\n",
       "    </tr>\n",
       "    <tr>\n",
       "      <th>userId</th>\n",
       "      <th></th>\n",
       "      <th></th>\n",
       "      <th></th>\n",
       "      <th></th>\n",
       "      <th></th>\n",
       "      <th></th>\n",
       "      <th></th>\n",
       "      <th></th>\n",
       "      <th></th>\n",
       "      <th></th>\n",
       "      <th></th>\n",
       "      <th></th>\n",
       "      <th></th>\n",
       "      <th></th>\n",
       "      <th></th>\n",
       "      <th></th>\n",
       "      <th></th>\n",
       "      <th></th>\n",
       "      <th></th>\n",
       "      <th></th>\n",
       "      <th></th>\n",
       "    </tr>\n",
       "  </thead>\n",
       "  <tbody>\n",
       "    <tr>\n",
       "      <th>A00279861HQYOQ4LIJ55F</th>\n",
       "      <td>0.0</td>\n",
       "      <td>0</td>\n",
       "      <td>0</td>\n",
       "      <td>0.0</td>\n",
       "      <td>0</td>\n",
       "      <td>0</td>\n",
       "      <td>0.0</td>\n",
       "      <td>0</td>\n",
       "      <td>0</td>\n",
       "      <td>0</td>\n",
       "      <td>...</td>\n",
       "      <td>0</td>\n",
       "      <td>0.0</td>\n",
       "      <td>0</td>\n",
       "      <td>0</td>\n",
       "      <td>0</td>\n",
       "      <td>0</td>\n",
       "      <td>0</td>\n",
       "      <td>0</td>\n",
       "      <td>0</td>\n",
       "      <td>0</td>\n",
       "    </tr>\n",
       "    <tr>\n",
       "      <th>A00721892PFQPJ3J3IHGN</th>\n",
       "      <td>0.0</td>\n",
       "      <td>0</td>\n",
       "      <td>0</td>\n",
       "      <td>0.0</td>\n",
       "      <td>0</td>\n",
       "      <td>0</td>\n",
       "      <td>0.0</td>\n",
       "      <td>0</td>\n",
       "      <td>0</td>\n",
       "      <td>0</td>\n",
       "      <td>...</td>\n",
       "      <td>0</td>\n",
       "      <td>0.0</td>\n",
       "      <td>0</td>\n",
       "      <td>0</td>\n",
       "      <td>0</td>\n",
       "      <td>0</td>\n",
       "      <td>0</td>\n",
       "      <td>0</td>\n",
       "      <td>0</td>\n",
       "      <td>0</td>\n",
       "    </tr>\n",
       "    <tr>\n",
       "      <th>A01262391CVDKK68IDCWS</th>\n",
       "      <td>0.0</td>\n",
       "      <td>0</td>\n",
       "      <td>0</td>\n",
       "      <td>0.0</td>\n",
       "      <td>0</td>\n",
       "      <td>0</td>\n",
       "      <td>0.0</td>\n",
       "      <td>0</td>\n",
       "      <td>0</td>\n",
       "      <td>0</td>\n",
       "      <td>...</td>\n",
       "      <td>0</td>\n",
       "      <td>0.0</td>\n",
       "      <td>0</td>\n",
       "      <td>0</td>\n",
       "      <td>0</td>\n",
       "      <td>0</td>\n",
       "      <td>0</td>\n",
       "      <td>0</td>\n",
       "      <td>0</td>\n",
       "      <td>0</td>\n",
       "    </tr>\n",
       "    <tr>\n",
       "      <th>A055760637EV7Z72T33OR</th>\n",
       "      <td>0.0</td>\n",
       "      <td>0</td>\n",
       "      <td>0</td>\n",
       "      <td>0.0</td>\n",
       "      <td>0</td>\n",
       "      <td>0</td>\n",
       "      <td>0.0</td>\n",
       "      <td>0</td>\n",
       "      <td>5</td>\n",
       "      <td>0</td>\n",
       "      <td>...</td>\n",
       "      <td>0</td>\n",
       "      <td>0.0</td>\n",
       "      <td>0</td>\n",
       "      <td>0</td>\n",
       "      <td>0</td>\n",
       "      <td>0</td>\n",
       "      <td>0</td>\n",
       "      <td>0</td>\n",
       "      <td>0</td>\n",
       "      <td>0</td>\n",
       "    </tr>\n",
       "    <tr>\n",
       "      <th>A07947781AC8SMD0DJMS3</th>\n",
       "      <td>0.0</td>\n",
       "      <td>0</td>\n",
       "      <td>0</td>\n",
       "      <td>0.0</td>\n",
       "      <td>0</td>\n",
       "      <td>0</td>\n",
       "      <td>0.0</td>\n",
       "      <td>0</td>\n",
       "      <td>0</td>\n",
       "      <td>0</td>\n",
       "      <td>...</td>\n",
       "      <td>0</td>\n",
       "      <td>0.0</td>\n",
       "      <td>0</td>\n",
       "      <td>0</td>\n",
       "      <td>0</td>\n",
       "      <td>0</td>\n",
       "      <td>0</td>\n",
       "      <td>0</td>\n",
       "      <td>0</td>\n",
       "      <td>0</td>\n",
       "    </tr>\n",
       "  </tbody>\n",
       "</table>\n",
       "<p>5 rows × 142 columns</p>\n",
       "</div>"
      ],
      "text/plain": [
       "ProductID              B00004SGD3  B00004TBLW  B00004TVSP  B000058BCQ  \\\n",
       "userId                                                                  \n",
       "A00279861HQYOQ4LIJ55F         0.0           0           0         0.0   \n",
       "A00721892PFQPJ3J3IHGN         0.0           0           0         0.0   \n",
       "A01262391CVDKK68IDCWS         0.0           0           0         0.0   \n",
       "A055760637EV7Z72T33OR         0.0           0           0         0.0   \n",
       "A07947781AC8SMD0DJMS3         0.0           0           0         0.0   \n",
       "\n",
       "ProductID              B000058BCR  B00005AWBJ  B00005AWCL  B00005KB37  \\\n",
       "userId                                                                  \n",
       "A00279861HQYOQ4LIJ55F           0           0         0.0           0   \n",
       "A00721892PFQPJ3J3IHGN           0           0         0.0           0   \n",
       "A01262391CVDKK68IDCWS           0           0         0.0           0   \n",
       "A055760637EV7Z72T33OR           0           0         0.0           0   \n",
       "A07947781AC8SMD0DJMS3           0           0         0.0           0   \n",
       "\n",
       "ProductID              B00005N5WW  B00005N5X2  ...  B000P0NJPS  B000P41QJ0  \\\n",
       "userId                                         ...                           \n",
       "A00279861HQYOQ4LIJ55F           0           0  ...           0         0.0   \n",
       "A00721892PFQPJ3J3IHGN           0           0  ...           0         0.0   \n",
       "A01262391CVDKK68IDCWS           0           0  ...           0         0.0   \n",
       "A055760637EV7Z72T33OR           5           0  ...           0         0.0   \n",
       "A07947781AC8SMD0DJMS3           0           0  ...           0         0.0   \n",
       "\n",
       "ProductID              B000P6U6IU  B000PELLGS  B000PMGZDO  B000Q6LZLG  \\\n",
       "userId                                                                  \n",
       "A00279861HQYOQ4LIJ55F           0           0           0           0   \n",
       "A00721892PFQPJ3J3IHGN           0           0           0           0   \n",
       "A01262391CVDKK68IDCWS           0           0           0           0   \n",
       "A055760637EV7Z72T33OR           0           0           0           0   \n",
       "A07947781AC8SMD0DJMS3           0           0           0           0   \n",
       "\n",
       "ProductID              B000Q9DX0O  B000QAVVAM  B000RGZMYQ  B000SQ93Z4  \n",
       "userId                                                                 \n",
       "A00279861HQYOQ4LIJ55F           0           0           0           0  \n",
       "A00721892PFQPJ3J3IHGN           0           0           0           0  \n",
       "A01262391CVDKK68IDCWS           0           0           0           0  \n",
       "A055760637EV7Z72T33OR           0           0           0           0  \n",
       "A07947781AC8SMD0DJMS3           0           0           0           0  \n",
       "\n",
       "[5 rows x 142 columns]"
      ]
     },
     "execution_count": 123,
     "metadata": {},
     "output_type": "execute_result"
    }
   ],
   "source": [
    "ratings_matrix = new_df1.pivot_table(values='Rating', index='userId', columns='ProductID', fill_value=0)\n",
    "ratings_matrix.head()"
   ]
  },
  {
   "cell_type": "code",
   "execution_count": 124,
   "metadata": {},
   "outputs": [
    {
     "data": {
      "text/plain": [
       "(27469, 142)"
      ]
     },
     "execution_count": 124,
     "metadata": {},
     "output_type": "execute_result"
    }
   ],
   "source": [
    "ratings_matrix.shape"
   ]
  },
  {
   "cell_type": "code",
   "execution_count": 125,
   "metadata": {},
   "outputs": [
    {
     "data": {
      "text/html": [
       "<div>\n",
       "<style scoped>\n",
       "    .dataframe tbody tr th:only-of-type {\n",
       "        vertical-align: middle;\n",
       "    }\n",
       "\n",
       "    .dataframe tbody tr th {\n",
       "        vertical-align: top;\n",
       "    }\n",
       "\n",
       "    .dataframe thead th {\n",
       "        text-align: right;\n",
       "    }\n",
       "</style>\n",
       "<table border=\"1\" class=\"dataframe\">\n",
       "  <thead>\n",
       "    <tr style=\"text-align: right;\">\n",
       "      <th>userId</th>\n",
       "      <th>A00279861HQYOQ4LIJ55F</th>\n",
       "      <th>A00721892PFQPJ3J3IHGN</th>\n",
       "      <th>A01262391CVDKK68IDCWS</th>\n",
       "      <th>A055760637EV7Z72T33OR</th>\n",
       "      <th>A07947781AC8SMD0DJMS3</th>\n",
       "      <th>A0937098JH9O5KDV5H5F</th>\n",
       "      <th>A09600262CLBSRBGU2VTY</th>\n",
       "      <th>A100CAASMNGWJM</th>\n",
       "      <th>A100I4UAHGQCF6</th>\n",
       "      <th>A100XVWWRHLJNQ</th>\n",
       "      <th>...</th>\n",
       "      <th>AZY5X93OVEWO7</th>\n",
       "      <th>AZYCISZV6XWE4</th>\n",
       "      <th>AZYF55JCUQVNJ</th>\n",
       "      <th>AZYJE40XW6MFG</th>\n",
       "      <th>AZYPESB48J1FF</th>\n",
       "      <th>AZYVVNVT5UCMP</th>\n",
       "      <th>AZYVY3MRFY2ZU</th>\n",
       "      <th>AZZ3QEYYE9H6C</th>\n",
       "      <th>AZZOG1AHTORRC</th>\n",
       "      <th>AZZRXD27FMRE4</th>\n",
       "    </tr>\n",
       "    <tr>\n",
       "      <th>ProductID</th>\n",
       "      <th></th>\n",
       "      <th></th>\n",
       "      <th></th>\n",
       "      <th></th>\n",
       "      <th></th>\n",
       "      <th></th>\n",
       "      <th></th>\n",
       "      <th></th>\n",
       "      <th></th>\n",
       "      <th></th>\n",
       "      <th></th>\n",
       "      <th></th>\n",
       "      <th></th>\n",
       "      <th></th>\n",
       "      <th></th>\n",
       "      <th></th>\n",
       "      <th></th>\n",
       "      <th></th>\n",
       "      <th></th>\n",
       "      <th></th>\n",
       "      <th></th>\n",
       "    </tr>\n",
       "  </thead>\n",
       "  <tbody>\n",
       "    <tr>\n",
       "      <th>B00004SGD3</th>\n",
       "      <td>0.0</td>\n",
       "      <td>0.0</td>\n",
       "      <td>0.0</td>\n",
       "      <td>0.0</td>\n",
       "      <td>0.0</td>\n",
       "      <td>0.0</td>\n",
       "      <td>0.0</td>\n",
       "      <td>0.0</td>\n",
       "      <td>0.0</td>\n",
       "      <td>0.0</td>\n",
       "      <td>...</td>\n",
       "      <td>0.0</td>\n",
       "      <td>0.0</td>\n",
       "      <td>0.0</td>\n",
       "      <td>0.0</td>\n",
       "      <td>0.0</td>\n",
       "      <td>0.0</td>\n",
       "      <td>0.0</td>\n",
       "      <td>0.0</td>\n",
       "      <td>0.0</td>\n",
       "      <td>0.0</td>\n",
       "    </tr>\n",
       "    <tr>\n",
       "      <th>B00004TBLW</th>\n",
       "      <td>0.0</td>\n",
       "      <td>0.0</td>\n",
       "      <td>0.0</td>\n",
       "      <td>0.0</td>\n",
       "      <td>0.0</td>\n",
       "      <td>0.0</td>\n",
       "      <td>0.0</td>\n",
       "      <td>0.0</td>\n",
       "      <td>0.0</td>\n",
       "      <td>0.0</td>\n",
       "      <td>...</td>\n",
       "      <td>0.0</td>\n",
       "      <td>0.0</td>\n",
       "      <td>0.0</td>\n",
       "      <td>0.0</td>\n",
       "      <td>0.0</td>\n",
       "      <td>0.0</td>\n",
       "      <td>0.0</td>\n",
       "      <td>0.0</td>\n",
       "      <td>0.0</td>\n",
       "      <td>0.0</td>\n",
       "    </tr>\n",
       "    <tr>\n",
       "      <th>B00004TVSP</th>\n",
       "      <td>0.0</td>\n",
       "      <td>0.0</td>\n",
       "      <td>0.0</td>\n",
       "      <td>0.0</td>\n",
       "      <td>0.0</td>\n",
       "      <td>0.0</td>\n",
       "      <td>0.0</td>\n",
       "      <td>0.0</td>\n",
       "      <td>0.0</td>\n",
       "      <td>0.0</td>\n",
       "      <td>...</td>\n",
       "      <td>0.0</td>\n",
       "      <td>0.0</td>\n",
       "      <td>0.0</td>\n",
       "      <td>0.0</td>\n",
       "      <td>0.0</td>\n",
       "      <td>0.0</td>\n",
       "      <td>0.0</td>\n",
       "      <td>0.0</td>\n",
       "      <td>0.0</td>\n",
       "      <td>0.0</td>\n",
       "    </tr>\n",
       "    <tr>\n",
       "      <th>B000058BCQ</th>\n",
       "      <td>0.0</td>\n",
       "      <td>0.0</td>\n",
       "      <td>0.0</td>\n",
       "      <td>0.0</td>\n",
       "      <td>0.0</td>\n",
       "      <td>0.0</td>\n",
       "      <td>0.0</td>\n",
       "      <td>0.0</td>\n",
       "      <td>0.0</td>\n",
       "      <td>0.0</td>\n",
       "      <td>...</td>\n",
       "      <td>0.0</td>\n",
       "      <td>0.0</td>\n",
       "      <td>0.0</td>\n",
       "      <td>0.0</td>\n",
       "      <td>0.0</td>\n",
       "      <td>0.0</td>\n",
       "      <td>0.0</td>\n",
       "      <td>0.0</td>\n",
       "      <td>0.0</td>\n",
       "      <td>0.0</td>\n",
       "    </tr>\n",
       "    <tr>\n",
       "      <th>B000058BCR</th>\n",
       "      <td>0.0</td>\n",
       "      <td>0.0</td>\n",
       "      <td>0.0</td>\n",
       "      <td>0.0</td>\n",
       "      <td>0.0</td>\n",
       "      <td>0.0</td>\n",
       "      <td>0.0</td>\n",
       "      <td>0.0</td>\n",
       "      <td>0.0</td>\n",
       "      <td>0.0</td>\n",
       "      <td>...</td>\n",
       "      <td>0.0</td>\n",
       "      <td>0.0</td>\n",
       "      <td>0.0</td>\n",
       "      <td>0.0</td>\n",
       "      <td>0.0</td>\n",
       "      <td>0.0</td>\n",
       "      <td>0.0</td>\n",
       "      <td>0.0</td>\n",
       "      <td>0.0</td>\n",
       "      <td>0.0</td>\n",
       "    </tr>\n",
       "  </tbody>\n",
       "</table>\n",
       "<p>5 rows × 27469 columns</p>\n",
       "</div>"
      ],
      "text/plain": [
       "userId      A00279861HQYOQ4LIJ55F  A00721892PFQPJ3J3IHGN  \\\n",
       "ProductID                                                  \n",
       "B00004SGD3                    0.0                    0.0   \n",
       "B00004TBLW                    0.0                    0.0   \n",
       "B00004TVSP                    0.0                    0.0   \n",
       "B000058BCQ                    0.0                    0.0   \n",
       "B000058BCR                    0.0                    0.0   \n",
       "\n",
       "userId      A01262391CVDKK68IDCWS  A055760637EV7Z72T33OR  \\\n",
       "ProductID                                                  \n",
       "B00004SGD3                    0.0                    0.0   \n",
       "B00004TBLW                    0.0                    0.0   \n",
       "B00004TVSP                    0.0                    0.0   \n",
       "B000058BCQ                    0.0                    0.0   \n",
       "B000058BCR                    0.0                    0.0   \n",
       "\n",
       "userId      A07947781AC8SMD0DJMS3  A0937098JH9O5KDV5H5F  \\\n",
       "ProductID                                                 \n",
       "B00004SGD3                    0.0                   0.0   \n",
       "B00004TBLW                    0.0                   0.0   \n",
       "B00004TVSP                    0.0                   0.0   \n",
       "B000058BCQ                    0.0                   0.0   \n",
       "B000058BCR                    0.0                   0.0   \n",
       "\n",
       "userId      A09600262CLBSRBGU2VTY  A100CAASMNGWJM  A100I4UAHGQCF6  \\\n",
       "ProductID                                                           \n",
       "B00004SGD3                    0.0             0.0             0.0   \n",
       "B00004TBLW                    0.0             0.0             0.0   \n",
       "B00004TVSP                    0.0             0.0             0.0   \n",
       "B000058BCQ                    0.0             0.0             0.0   \n",
       "B000058BCR                    0.0             0.0             0.0   \n",
       "\n",
       "userId      A100XVWWRHLJNQ  ...  AZY5X93OVEWO7  AZYCISZV6XWE4  AZYF55JCUQVNJ  \\\n",
       "ProductID                   ...                                                \n",
       "B00004SGD3             0.0  ...            0.0            0.0            0.0   \n",
       "B00004TBLW             0.0  ...            0.0            0.0            0.0   \n",
       "B00004TVSP             0.0  ...            0.0            0.0            0.0   \n",
       "B000058BCQ             0.0  ...            0.0            0.0            0.0   \n",
       "B000058BCR             0.0  ...            0.0            0.0            0.0   \n",
       "\n",
       "userId      AZYJE40XW6MFG  AZYPESB48J1FF  AZYVVNVT5UCMP  AZYVY3MRFY2ZU  \\\n",
       "ProductID                                                                \n",
       "B00004SGD3            0.0            0.0            0.0            0.0   \n",
       "B00004TBLW            0.0            0.0            0.0            0.0   \n",
       "B00004TVSP            0.0            0.0            0.0            0.0   \n",
       "B000058BCQ            0.0            0.0            0.0            0.0   \n",
       "B000058BCR            0.0            0.0            0.0            0.0   \n",
       "\n",
       "userId      AZZ3QEYYE9H6C  AZZOG1AHTORRC  AZZRXD27FMRE4  \n",
       "ProductID                                                \n",
       "B00004SGD3            0.0            0.0            0.0  \n",
       "B00004TBLW            0.0            0.0            0.0  \n",
       "B00004TVSP            0.0            0.0            0.0  \n",
       "B000058BCQ            0.0            0.0            0.0  \n",
       "B000058BCR            0.0            0.0            0.0  \n",
       "\n",
       "[5 rows x 27469 columns]"
      ]
     },
     "execution_count": 125,
     "metadata": {},
     "output_type": "execute_result"
    }
   ],
   "source": [
    "# Transposing the matrix\n",
    "X = ratings_matrix.T\n",
    "X.head()"
   ]
  },
  {
   "cell_type": "code",
   "execution_count": 126,
   "metadata": {},
   "outputs": [
    {
     "data": {
      "text/plain": [
       "(142, 27469)"
      ]
     },
     "execution_count": 126,
     "metadata": {},
     "output_type": "execute_result"
    }
   ],
   "source": [
    "X.shape"
   ]
  },
  {
   "cell_type": "code",
   "execution_count": 127,
   "metadata": {},
   "outputs": [],
   "source": [
    "X1 = X"
   ]
  },
  {
   "cell_type": "markdown",
   "metadata": {},
   "source": [
    "### Decomposing the matrix"
   ]
  },
  {
   "cell_type": "code",
   "execution_count": 128,
   "metadata": {},
   "outputs": [
    {
     "data": {
      "text/plain": [
       "(142, 10)"
      ]
     },
     "execution_count": 128,
     "metadata": {},
     "output_type": "execute_result"
    }
   ],
   "source": [
    "from sklearn.decomposition import TruncatedSVD\n",
    "import joblib\n",
    "SVD = TruncatedSVD(n_components=10)\n",
    "decomposed_matrix = SVD.fit_transform(X)\n",
    "decomposed_matrix.shape"
   ]
  },
  {
   "cell_type": "code",
   "execution_count": 129,
   "metadata": {},
   "outputs": [
    {
     "data": {
      "text/plain": [
       "(142, 142)"
      ]
     },
     "execution_count": 129,
     "metadata": {},
     "output_type": "execute_result"
    }
   ],
   "source": [
    "correlation_matrix = np.corrcoef(decomposed_matrix)\n",
    "correlation_matrix.shape"
   ]
  },
  {
   "cell_type": "code",
   "execution_count": 130,
   "metadata": {},
   "outputs": [
    {
     "data": {
      "text/plain": [
       "'B0006NL5SM'"
      ]
     },
     "execution_count": 130,
     "metadata": {},
     "output_type": "execute_result"
    }
   ],
   "source": [
    "X.index[75]"
   ]
  },
  {
   "cell_type": "code",
   "execution_count": 131,
   "metadata": {
    "scrolled": true
   },
   "outputs": [],
   "source": [
    "#i = \"B0006NL5SM\"\n",
    "\n",
    "#product_names = list(X.index)\n",
    "#product_ID = product_names.index(i)\n",
    "#product_ID"
   ]
  },
  {
   "cell_type": "markdown",
   "metadata": {},
   "source": [
    "#### Correlation for all items with the item purchased by this customer based on items rated by other customers people who bought the same product"
   ]
  },
  {
   "cell_type": "code",
   "execution_count": 132,
   "metadata": {},
   "outputs": [],
   "source": [
    "#correlation_product_ID = correlation_matrix[product_ID]\n",
    "#correlation_product_ID.shape"
   ]
  },
  {
   "cell_type": "markdown",
   "metadata": {},
   "source": [
    "### Recommending top 25 highly correlated products in sequence"
   ]
  },
  {
   "cell_type": "code",
   "execution_count": 133,
   "metadata": {
    "scrolled": true
   },
   "outputs": [],
   "source": [
    "#Recommend = list(X.index[correlation_product_ID > 0.65])\n",
    "\n",
    "# Removes the item already bought by the customer\n",
    "#Recommend.remove(i) \n",
    "\n",
    "#Recommend[0:24]"
   ]
  },
  {
   "cell_type": "markdown",
   "metadata": {},
   "source": [
    "### top 10 products to be displayed by the recommendation system to the above customer based on the purchase history of other customers in the website."
   ]
  },
  {
   "cell_type": "code",
   "execution_count": 134,
   "metadata": {},
   "outputs": [
    {
     "data": {
      "text/plain": [
       "'Beyerdynamic DT 770 PRO, 250 ohms'"
      ]
     },
     "execution_count": 134,
     "metadata": {},
     "output_type": "execute_result"
    }
   ],
   "source": [
    "new_df['Title'].loc[new_df['ProductID'] == 'B0006NL5SM'].iloc[0]"
   ]
  },
  {
   "cell_type": "code",
   "execution_count": 135,
   "metadata": {},
   "outputs": [
    {
     "data": {
      "text/plain": [
       "'B0002JFN38'"
      ]
     },
     "execution_count": 135,
     "metadata": {},
     "output_type": "execute_result"
    }
   ],
   "source": [
    "X.index[60]"
   ]
  },
  {
   "cell_type": "markdown",
   "metadata": {},
   "source": [
    "## The function result() takes productID and returns the top 10 recommendations"
   ]
  },
  {
   "cell_type": "code",
   "execution_count": 136,
   "metadata": {},
   "outputs": [],
   "source": [
    "def result(i):\n",
    "    Product_names = list(X.index)\n",
    "    product_ID = Product_names.index(i)\n",
    "    correlation_product_ID = correlation_matrix[product_ID]\n",
    "    Recommend = list(X.index[correlation_product_ID > 0.65])\n",
    "    Recommend.remove(i) \n",
    "    for j in Recommend[0:15]:\n",
    "        print(new_df['Title'].loc[new_df['ProductID'] == j].iloc[0])"
   ]
  },
  {
   "cell_type": "code",
   "execution_count": 137,
   "metadata": {},
   "outputs": [
    {
     "name": "stdout",
     "output_type": "stream",
     "text": [
      "Belkin MasterCube 1 Outlet Wall-Mount Surge Protector\n",
      "D-Link DWL-G520 Wireless PCI Adapter, 802.11g, 108Mbps\n",
      "NETGEAR WG111 Wireless USB 2.0 Adapter (54 Mbps)\n",
      "C2G / Cables to Go 27139 Cat6 Snagless Patch Cable, Grey (150 Feet/45.72 Meters)\n",
      "C2G / Cables to Go 27148 Cat6 Snagless Patch Cable, Blue (125 Feet/38.1 Meters)\n",
      "C2G / Cables to Go 27149 Cat6 Snagless Patch Cable, Blue (150 Feet/45.72 Meters)\n",
      "C2G / Cables to Go 27158 Cat6 Snagless Patch Cable, Black (125 Feet/38.1 Meters)\n",
      "C2G / Cables to Go 27178 Cat6 Snagless Patch Cable, Green (125 Feet/38.1 Meters)\n",
      "Tripp Lite HT10DBS Home Theater Isobar Surge Protector 10 Outlet RJ11 RJ45 Coax\n",
      "Canon CB-2LX Battery Charger for Canon NB-5L Li-Ion Batteries\n",
      "6ft Toslink to Mini Toslink Cable\n",
      "Nikon EN-EL10 Lithium-ion Battery for Nikon Coolpix S80, S5100, S4000, S3000, S600, S570, S520 & S210 Digital Cameras - Retail Packaging\n",
      "Polk Audio DB651s Slim-Mount 6.5-Inch Coaxial Speakers (Pair)\n",
      "iLuv i707BLK Automobile FM Transmitter for your iPhone or iPod - Car Kit - Retail Packaging - Black\n"
     ]
    }
   ],
   "source": [
    "result('B00065ANY2')"
   ]
  },
  {
   "cell_type": "markdown",
   "metadata": {},
   "source": [
    "## Saving the model files"
   ]
  },
  {
   "cell_type": "markdown",
   "metadata": {},
   "source": [
    "def save_as_pickle(obj, root_dir, obj_name):\n",
    "    \"\"\"\n",
    "    Saves file locally\n",
    "    \"\"\"\n",
    "    obj_path = obj_name + '.pkl'\n",
    "    joblib.dump(obj, root_dir + obj_name + '.pkl')\n",
    "    return obj_path"
   ]
  },
  {
   "cell_type": "markdown",
   "metadata": {},
   "source": [
    "save_as_pickle(result, '', 'result')"
   ]
  }
 ],
 "metadata": {
  "kernelspec": {
   "display_name": "Python 3",
   "language": "python",
   "name": "python3"
  },
  "language_info": {
   "codemirror_mode": {
    "name": "ipython",
    "version": 3
   },
   "file_extension": ".py",
   "mimetype": "text/x-python",
   "name": "python",
   "nbconvert_exporter": "python",
   "pygments_lexer": "ipython3",
   "version": "3.8.3"
  }
 },
 "nbformat": 4,
 "nbformat_minor": 4
}
